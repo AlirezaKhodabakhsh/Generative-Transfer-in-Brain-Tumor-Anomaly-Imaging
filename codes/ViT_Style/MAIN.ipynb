{
 "cells": [
  {
   "cell_type": "markdown",
   "source": [
    "### Libs"
   ],
   "metadata": {
    "collapsed": false,
    "id": "MyZDbJwNZkPk"
   }
  },
  {
   "cell_type": "code",
   "source": [
    "!cd \"/content/drive/MyDrive/MRI Arman/STYLEGAN_FAST\""
   ],
   "metadata": {
    "id": "b-bMfOMNscZC"
   },
   "execution_count": null,
   "outputs": []
  },
  {
   "cell_type": "code",
   "execution_count": 1,
   "outputs": [],
   "source": [
    "from torchvision.datasets import CelebA\n",
    "import os\n",
    "import torch.nn as nn\n",
    "import glob\n",
    "import os\n",
    "import torch\n",
    "from torch.utils.data import Dataset\n",
    "import numpy as np\n",
    "import pandas as pd\n",
    "from PIL import Image\n",
    "import matplotlib.pyplot as plt\n",
    "import os\n",
    "import torch\n",
    "import math\n",
    "# main libraries\n",
    "import os\n",
    "import numpy as np\n",
    "import matplotlib.pyplot as plt\n",
    "import torch\n",
    "from torch.utils.data import DataLoader\n",
    "from torch.utils.data import SubsetRandomSampler\n",
    "from torch.nn import functional as F\n",
    "from torch import nn\n",
    "from torch import optim\n",
    "import torchvision\n",
    "from torchvision import transforms, datasets\n",
    "from torch.utils.data import Dataset\n",
    "import math\n",
    "import torchvision.transforms.functional as TF\n",
    "import cv2\n",
    "from keras.utils import image_dataset_from_directory\n",
    "from torchvision import datasets, transforms\n",
    "from torch.utils.data import random_split\n",
    "from torch.nn.parameter import Parameter\n",
    "\n",
    "from torch.nn import init\n",
    "from torchvision.utils import make_grid\n",
    "from collections import OrderedDict\n",
    "\n",
    "import torch\n",
    "from torch.utils.data import Dataset\n",
    "\n",
    "from skimage import transform\n",
    "import skimage.io as io\n",
    "import numpy as np\n",
    "from torchvision.utils import save_image"
   ],
   "metadata": {
    "pycharm": {
     "name": "#%%\n"
    },
    "id": "uQIS8r96ZkPn"
   }
  },
  {
   "cell_type": "code",
   "execution_count": null,
   "outputs": [],
   "source": [
    "from torchvision.models import vgg16"
   ],
   "metadata": {
    "pycharm": {
     "name": "#%%\n"
    },
    "id": "3PEyqivK3eNU"
   }
  },
  {
   "cell_type": "markdown",
   "source": [
    "### Helper Functions"
   ],
   "metadata": {
    "collapsed": false,
    "id": "UW76quGDZkPt"
   }
  },
  {
   "cell_type": "code",
   "execution_count": 112,
   "outputs": [],
   "source": [
    "def count_parameters(model):\n",
    "    return sum(p.numel() for p in model.parameters() if p.requires_grad)"
   ],
   "metadata": {
    "pycharm": {
     "name": "#%%\n"
    },
    "id": "J6nZqbyeZkPu"
   }
  },
  {
   "cell_type": "code",
   "execution_count": null,
   "outputs": [],
   "source": [
    "def show_tensor_images(image_tensor, num_images=25, size=(1, 128, 128)):\n",
    "    '''\n",
    "    Function for visualizing images: Given a tensor of images, number of images, and\n",
    "    size per image, plots and prints the images in a uniform grid.\n",
    "    '''\n",
    "    image_unflat = image_tensor.detach().cpu().view(-1, *size)\n",
    "    image_grid = make_grid(image_unflat[:num_images], nrow=5)\n",
    "    plt.imshow(image_grid.permute(1, 2, 0).squeeze())\n",
    "    plt.show()"
   ],
   "metadata": {
    "pycharm": {
     "name": "#%%\n"
    },
    "id": "GSRTx4eQ3eNY"
   }
  },
  {
   "cell_type": "code",
   "execution_count": null,
   "outputs": [],
   "source": [
    "def ploter(image, image_hat):\n",
    "    \"\"\"\n",
    "    (H, W)\n",
    "    \"\"\"\n",
    "    plt.figure()\n",
    "    plt.subplot(1,2,1)\n",
    "    #plt.imshow(image_hat, cmap='gray', vmin=-1, vmax=1)\n",
    "    plt.imshow(image_hat)\n",
    "    plt.tight_layout()\n",
    "    plt.title(\"Reconstruct\")\n",
    "\n",
    "    plt.subplot(1,2,2)\n",
    "    #plt.imshow(image, cmap='gray', vmin=-1, vmax=1)\n",
    "    plt.imshow(image)\n",
    "    plt.tight_layout()\n",
    "    plt.title(\"Original\")\n",
    "\n",
    "    plt.show()"
   ],
   "metadata": {
    "pycharm": {
     "name": "#%%\n"
    },
    "id": "SOdzjstxZkPw"
   }
  },
  {
   "cell_type": "markdown",
   "source": [
    "### Generator"
   ],
   "metadata": {
    "collapsed": false,
    "id": "85lBBxFbZkP2"
   }
  },
  {
   "cell_type": "code",
   "source": [
    "# original implementation: https://github.com/odegeasslbc/FastGAN-pytorch/blob/main/models.py\n",
    "#\n",
    "# modified by Axel Sauer for \"Projected GANs Converge Faster\"\n",
    "#\n",
    "import torch.nn as nn\n",
    "from pg_modules.blocks import (InitLayer, UpBlockBig, UpBlockBigCond, UpBlockSmall, UpBlockSmallCond, SEBlock, conv2d)\n",
    "\n",
    "\n",
    "def normalize_second_moment(x, dim=1, eps=1e-8):\n",
    "    return x * (x.square().mean(dim=dim, keepdim=True) + eps).rsqrt()\n",
    "\n",
    "\n",
    "class DummyMapping(nn.Module):\n",
    "    def __init__(self):\n",
    "        super().__init__()\n",
    "\n",
    "    def forward(self, z, c=None, **kwargs):\n",
    "        return z.unsqueeze(1)  # to fit the StyleGAN API\n",
    "\n",
    "\n",
    "class FastganSynthesis(nn.Module):\n",
    "    def __init__(self, ngf=128, z_dim=256, nc=3, img_resolution=256, lite=False):\n",
    "        super().__init__()\n",
    "        self.img_resolution = img_resolution\n",
    "        self.z_dim = z_dim\n",
    "\n",
    "        # channel multiplier\n",
    "        nfc_multi = {2: 16, 4:16, 8:8, 16:4, 32:2, 64:2, 128:1, 256:0.5,\n",
    "                     512:0.25, 1024:0.125}\n",
    "        nfc = {}\n",
    "        for k, v in nfc_multi.items():\n",
    "            nfc[k] = int(v*ngf)\n",
    "\n",
    "        # layers\n",
    "        self.init = InitLayer(z_dim, channel=nfc[2], sz=4)\n",
    "\n",
    "        UpBlock = UpBlockSmall if lite else UpBlockBig\n",
    "\n",
    "        self.feat_8   = UpBlock(nfc[4], nfc[8])\n",
    "        self.feat_16  = UpBlock(nfc[8], nfc[16])\n",
    "        self.feat_32  = UpBlock(nfc[16], nfc[32])\n",
    "        self.feat_64  = UpBlock(nfc[32], nfc[64])\n",
    "        self.feat_128 = UpBlock(nfc[64], nfc[128])\n",
    "        self.feat_256 = UpBlock(nfc[128], nfc[256])\n",
    "\n",
    "        self.se_64  = SEBlock(nfc[4], nfc[64])\n",
    "        self.se_128 = SEBlock(nfc[8], nfc[128])\n",
    "        self.se_256 = SEBlock(nfc[16], nfc[256])\n",
    "\n",
    "        self.to_big = conv2d(nfc[img_resolution], nc, 3, 1, 1, bias=True)\n",
    "\n",
    "        if img_resolution > 256:\n",
    "            self.feat_512 = UpBlock(nfc[256], nfc[512])\n",
    "            self.se_512 = SEBlock(nfc[32], nfc[512])\n",
    "        if img_resolution > 512:\n",
    "            self.feat_1024 = UpBlock(nfc[512], nfc[1024])\n",
    "\n",
    "    def forward(self, input, c=None, **kwargs):\n",
    "        # map noise to hypersphere as in \"Progressive Growing of GANS\"\n",
    "        input = normalize_second_moment(input[:, 0])\n",
    "\n",
    "        feat_4 = self.init(input)\n",
    "        feat_8 = self.feat_8(feat_4)\n",
    "        feat_16 = self.feat_16(feat_8)\n",
    "        feat_32 = self.feat_32(feat_16)\n",
    "        feat_64 = self.se_64(feat_4, self.feat_64(feat_32))\n",
    "\n",
    "        if self.img_resolution >= 64:\n",
    "            feat_last = feat_64\n",
    "\n",
    "        if self.img_resolution >= 128:\n",
    "            feat_last = self.se_128(feat_8,  self.feat_128(feat_last))\n",
    "\n",
    "        if self.img_resolution >= 256:\n",
    "            feat_last = self.se_256(feat_16, self.feat_256(feat_last))\n",
    "\n",
    "        if self.img_resolution >= 512:\n",
    "            feat_last = self.se_512(feat_32, self.feat_512(feat_last))\n",
    "\n",
    "        if self.img_resolution >= 1024:\n",
    "            feat_last = self.feat_1024(feat_last)\n",
    "\n",
    "        return self.to_big(feat_last)\n",
    "\n",
    "\n",
    "class FastganSynthesisCond(nn.Module):\n",
    "    def __init__(self, ngf=64, z_dim=256, nc=3, img_resolution=256, num_classes=1000, lite=False):\n",
    "        super().__init__()\n",
    "\n",
    "        self.z_dim = z_dim\n",
    "        nfc_multi = {2: 16, 4:16, 8:8, 16:4, 32:2, 64:2, 128:1, 256:0.5,\n",
    "                     512:0.25, 1024:0.125, 2048:0.125}\n",
    "        nfc = {}\n",
    "        for k, v in nfc_multi.items():\n",
    "            nfc[k] = int(v*ngf)\n",
    "\n",
    "        self.img_resolution = img_resolution\n",
    "\n",
    "        self.init = InitLayer(z_dim, channel=nfc[2], sz=4)\n",
    "\n",
    "        UpBlock = UpBlockSmallCond if lite else UpBlockBigCond\n",
    "\n",
    "        self.feat_8   = UpBlock(nfc[4], nfc[8], z_dim)\n",
    "        self.feat_16  = UpBlock(nfc[8], nfc[16], z_dim)\n",
    "        self.feat_32  = UpBlock(nfc[16], nfc[32], z_dim)\n",
    "        self.feat_64  = UpBlock(nfc[32], nfc[64], z_dim)\n",
    "        self.feat_128 = UpBlock(nfc[64], nfc[128], z_dim)\n",
    "        self.feat_256 = UpBlock(nfc[128], nfc[256], z_dim)\n",
    "\n",
    "        self.se_64 = SEBlock(nfc[4], nfc[64])\n",
    "        self.se_128 = SEBlock(nfc[8], nfc[128])\n",
    "        self.se_256 = SEBlock(nfc[16], nfc[256])\n",
    "\n",
    "        self.to_big = conv2d(nfc[img_resolution], nc, 3, 1, 1, bias=True)\n",
    "\n",
    "        if img_resolution > 256:\n",
    "            self.feat_512 = UpBlock(nfc[256], nfc[512])\n",
    "            self.se_512 = SEBlock(nfc[32], nfc[512])\n",
    "        if img_resolution > 512:\n",
    "            self.feat_1024 = UpBlock(nfc[512], nfc[1024])\n",
    "\n",
    "        self.embed = nn.Embedding(num_classes, z_dim)\n",
    "\n",
    "    def forward(self, input, c, update_emas=False):\n",
    "        c = self.embed(c.argmax(1))\n",
    "\n",
    "        # map noise to hypersphere as in \"Progressive Growing of GANS\"\n",
    "        input = normalize_second_moment(input[:, 0])\n",
    "\n",
    "        feat_4 = self.init(input)\n",
    "        feat_8 = self.feat_8(feat_4, c)\n",
    "        feat_16 = self.feat_16(feat_8, c)\n",
    "        feat_32 = self.feat_32(feat_16, c)\n",
    "        feat_64 = self.se_64(feat_4, self.feat_64(feat_32, c))\n",
    "        feat_128 = self.se_128(feat_8,  self.feat_128(feat_64, c))\n",
    "\n",
    "        if self.img_resolution >= 128:\n",
    "            feat_last = feat_128\n",
    "\n",
    "        if self.img_resolution >= 256:\n",
    "            feat_last = self.se_256(feat_16, self.feat_256(feat_last, c))\n",
    "\n",
    "        if self.img_resolution >= 512:\n",
    "            feat_last = self.se_512(feat_32, self.feat_512(feat_last, c))\n",
    "\n",
    "        if self.img_resolution >= 1024:\n",
    "            feat_last = self.feat_1024(feat_last, c)\n",
    "\n",
    "        return self.to_big(feat_last)\n",
    "\n",
    "\n",
    "class Generator(nn.Module):\n",
    "    def __init__(\n",
    "        self,\n",
    "        z_dim=100,\n",
    "        c_dim=0,\n",
    "        w_dim=0,\n",
    "        img_resolution=128,\n",
    "        img_channels=3,\n",
    "        ngf=16,\n",
    "        cond=0,\n",
    "        mapping_kwargs={},\n",
    "        synthesis_kwargs={},\n",
    "        **kwargs,\n",
    "    ):\n",
    "        super().__init__()\n",
    "        self.z_dim = z_dim\n",
    "        self.c_dim = c_dim\n",
    "        self.w_dim = w_dim\n",
    "        self.img_resolution = img_resolution\n",
    "        self.img_channels = img_channels\n",
    "\n",
    "        # Mapping and Synthesis Networks\n",
    "        self.mapping = DummyMapping()  # to fit the StyleGAN API\n",
    "        Synthesis = FastganSynthesisCond if cond else FastganSynthesis\n",
    "        self.synthesis = Synthesis(ngf=ngf, z_dim=z_dim, nc=img_channels, img_resolution=img_resolution, **synthesis_kwargs)\n",
    "\n",
    "    def forward(self, z, c, **kwargs):\n",
    "        w = self.mapping(z, c)\n",
    "        img = self.synthesis(w, c)\n",
    "        return img"
   ],
   "metadata": {
    "id": "HyA62aMosr4G"
   },
   "execution_count": 98,
   "outputs": []
  },
  {
   "cell_type": "code",
   "source": [
    "# TEST\n",
    "G = Generator()\n",
    "z = torch.FloatTensor(np.random.normal(0, 1, (10, 100)))\n",
    "img = G(z, 0)"
   ],
   "metadata": {
    "id": "ZntWth0GtFtl"
   },
   "execution_count": 99,
   "outputs": []
  },
  {
   "cell_type": "markdown",
   "source": [
    "### Discriminator"
   ],
   "metadata": {
    "collapsed": false,
    "id": "-V-qAu_R3eNe"
   }
  },
  {
   "cell_type": "code",
   "execution_count": null,
   "outputs": [],
   "source": [
    "# NOTE:\n",
    "# AGE DARI AZ WGANGP ESTEFADE MIKONI SIGMOID RO DELETE KON!!!\n",
    "\n",
    "class Discriminator(nn.Module):\n",
    "    def __init__(self):\n",
    "        super(Discriminator, self).__init__()\n",
    "\n",
    "\n",
    "        self.conv_layers_vgg = vgg16().features[:9+1]\n",
    "    \n",
    "\n",
    "        self.conv_layers_fabrik = nn.Sequential(\n",
    "            nn.Conv2d(128, 128, 3, 1, 1),\n",
    "            nn.ReLU(),\n",
    "            nn.MaxPool2d(2,2),\n",
    "            nn.Conv2d(128, 128, 3, 1, 1),\n",
    "            nn.ReLU(),\n",
    "            nn.MaxPool2d(2,2)\n",
    "        )\n",
    "\n",
    "\n",
    "        self.adverse_layer = nn.Sequential(\n",
    "            nn.Linear(128 * 8 * 8, 1),\n",
    "            nn.Sigmoid()\n",
    "            )\n",
    "\n",
    "    def forward(self, image):\n",
    "        out = self.conv_layers_vgg(image)\n",
    "        out = self.conv_layers_fabrik(out)\n",
    "\n",
    "        out = out.view(out.shape[0], -1)\n",
    "        validity = self.adverse_layer(out)\n",
    "        return validity"
   ],
   "metadata": {
    "pycharm": {
     "name": "#%%\n"
    },
    "id": "j3DuLTfG3eNf"
   }
  },
  {
   "cell_type": "code",
   "execution_count": null,
   "outputs": [],
   "source": [
    "# TEST\n",
    "x = torch.ones(10, 3, 128, 128)\n",
    "discriminator = Discriminator()\n",
    "print(discriminator(x).shape)\n",
    "count_parameters(discriminator)"
   ],
   "metadata": {
    "pycharm": {
     "name": "#%%\n"
    },
    "id": "-6UiSqNQ3eNf"
   }
  },
  {
   "cell_type": "code",
   "execution_count": null,
   "outputs": [],
   "source": [
    "def convert_relu_to_softplus(model):\n",
    "    for child_name, child in model.named_children():\n",
    "        if isinstance(child, nn.ReLU):\n",
    "            setattr(model, child_name, nn.LeakyReLU(negative_slope=0.2))\n",
    "        else:\n",
    "            convert_relu_to_softplus(child)\n",
    "\n",
    "#convert_relu_to_softplus(discriminator)"
   ],
   "metadata": {
    "pycharm": {
     "name": "#%%\n"
    },
    "id": "izc92NrI3eNf"
   }
  },
  {
   "cell_type": "markdown",
   "source": [
    "### NEW Disc"
   ],
   "metadata": {
    "id": "DxaWh6i7tPDM"
   }
  },
  {
   "cell_type": "code",
   "source": [
    "!pip install wget\n",
    "import wget\n",
    "filename = wget.download(\"https://storage.googleapis.com/vit_models/imagenet21k/ViT-B_16.npz\")\n",
    "discriminator.ViT.load_from(np.load(filename))"
   ],
   "metadata": {
    "id": "S5gGpPMMulX5"
   },
   "execution_count": null,
   "outputs": []
  },
  {
   "cell_type": "code",
   "source": [
    "from models.modeling import CONFIGS, VisionTransformer"
   ],
   "metadata": {
    "collapsed": true,
    "id": "jbOz8d63twuK"
   },
   "execution_count": 2,
   "outputs": []
  },
  {
   "cell_type": "code",
   "source": [
    "class Discriminator(nn.Module):\n",
    "    def __init__(self, config = CONFIGS['ViT-B_16'], vit_image_size = 128):\n",
    "        super(Discriminator, self).__init__()\n",
    "\n",
    "        self.ViT = VisionTransformer(config, vit_image_size, num_classes=1, zero_head=True)\n",
    "        filename = wget.download(\"https://storage.googleapis.com/vit_models/imagenet21k/ViT-B_16.npz\")\n",
    "        self.ViT.load_from(np.load(filename))\n",
    "\n",
    "    def forward(self, x):\n",
    "        return self.ViT(x)[0]"
   ],
   "metadata": {
    "id": "2hTOCP04tQwa"
   },
   "execution_count": 3,
   "outputs": []
  },
  {
   "cell_type": "code",
   "execution_count": 152,
   "outputs": [
    {
     "data": {
      "text/plain": "ModuleList(\n  (0): Block(\n    (attention_norm): LayerNorm((768,), eps=1e-06, elementwise_affine=True)\n    (ffn_norm): LayerNorm((768,), eps=1e-06, elementwise_affine=True)\n    (ffn): Mlp(\n      (fc1): Linear(in_features=768, out_features=3072, bias=True)\n      (fc2): Linear(in_features=3072, out_features=768, bias=True)\n      (dropout): Dropout(p=0.1, inplace=False)\n    )\n    (attn): Attention(\n      (query): Linear(in_features=768, out_features=768, bias=True)\n      (key): Linear(in_features=768, out_features=768, bias=True)\n      (value): Linear(in_features=768, out_features=768, bias=True)\n      (out): Linear(in_features=768, out_features=768, bias=True)\n      (attn_dropout): Dropout(p=0.0, inplace=False)\n      (proj_dropout): Dropout(p=0.0, inplace=False)\n      (softmax): Softmax(dim=-1)\n    )\n  )\n  (1): Block(\n    (attention_norm): LayerNorm((768,), eps=1e-06, elementwise_affine=True)\n    (ffn_norm): LayerNorm((768,), eps=1e-06, elementwise_affine=True)\n    (ffn): Mlp(\n      (fc1): Linear(in_features=768, out_features=3072, bias=True)\n      (fc2): Linear(in_features=3072, out_features=768, bias=True)\n      (dropout): Dropout(p=0.1, inplace=False)\n    )\n    (attn): Attention(\n      (query): Linear(in_features=768, out_features=768, bias=True)\n      (key): Linear(in_features=768, out_features=768, bias=True)\n      (value): Linear(in_features=768, out_features=768, bias=True)\n      (out): Linear(in_features=768, out_features=768, bias=True)\n      (attn_dropout): Dropout(p=0.0, inplace=False)\n      (proj_dropout): Dropout(p=0.0, inplace=False)\n      (softmax): Softmax(dim=-1)\n    )\n  )\n)"
     },
     "execution_count": 152,
     "metadata": {},
     "output_type": "execute_result"
    }
   ],
   "source": [
    "model = VisionTransformer(CONFIGS['ViT-B_16'], 128, num_classes=1, zero_head=True)\n",
    "N, C, H, W = 10, 3, 128, 128\n",
    "x = torch.ones(N, C, H, W)\n",
    "\n",
    "x = model.transformer.embeddings(x)\n",
    "\n",
    "model.transformer.encoder.layer[0:2]"
   ],
   "metadata": {
    "collapsed": false,
    "pycharm": {
     "name": "#%%\n"
    }
   }
  },
  {
   "cell_type": "code",
   "execution_count": 153,
   "outputs": [
    {
     "data": {
      "text/plain": "VisionTransformer(\n  (transformer): Transformer(\n    (embeddings): Embeddings(\n      (patch_embeddings): Conv2d(3, 768, kernel_size=(16, 16), stride=(16, 16))\n      (dropout): Dropout(p=0.1, inplace=False)\n    )\n    (encoder): Encoder(\n      (layer): ModuleList(\n        (0): Block(\n          (attention_norm): LayerNorm((768,), eps=1e-06, elementwise_affine=True)\n          (ffn_norm): LayerNorm((768,), eps=1e-06, elementwise_affine=True)\n          (ffn): Mlp(\n            (fc1): Linear(in_features=768, out_features=3072, bias=True)\n            (fc2): Linear(in_features=3072, out_features=768, bias=True)\n            (dropout): Dropout(p=0.1, inplace=False)\n          )\n          (attn): Attention(\n            (query): Linear(in_features=768, out_features=768, bias=True)\n            (key): Linear(in_features=768, out_features=768, bias=True)\n            (value): Linear(in_features=768, out_features=768, bias=True)\n            (out): Linear(in_features=768, out_features=768, bias=True)\n            (attn_dropout): Dropout(p=0.0, inplace=False)\n            (proj_dropout): Dropout(p=0.0, inplace=False)\n            (softmax): Softmax(dim=-1)\n          )\n        )\n        (1): Block(\n          (attention_norm): LayerNorm((768,), eps=1e-06, elementwise_affine=True)\n          (ffn_norm): LayerNorm((768,), eps=1e-06, elementwise_affine=True)\n          (ffn): Mlp(\n            (fc1): Linear(in_features=768, out_features=3072, bias=True)\n            (fc2): Linear(in_features=3072, out_features=768, bias=True)\n            (dropout): Dropout(p=0.1, inplace=False)\n          )\n          (attn): Attention(\n            (query): Linear(in_features=768, out_features=768, bias=True)\n            (key): Linear(in_features=768, out_features=768, bias=True)\n            (value): Linear(in_features=768, out_features=768, bias=True)\n            (out): Linear(in_features=768, out_features=768, bias=True)\n            (attn_dropout): Dropout(p=0.0, inplace=False)\n            (proj_dropout): Dropout(p=0.0, inplace=False)\n            (softmax): Softmax(dim=-1)\n          )\n        )\n        (2): Block(\n          (attention_norm): LayerNorm((768,), eps=1e-06, elementwise_affine=True)\n          (ffn_norm): LayerNorm((768,), eps=1e-06, elementwise_affine=True)\n          (ffn): Mlp(\n            (fc1): Linear(in_features=768, out_features=3072, bias=True)\n            (fc2): Linear(in_features=3072, out_features=768, bias=True)\n            (dropout): Dropout(p=0.1, inplace=False)\n          )\n          (attn): Attention(\n            (query): Linear(in_features=768, out_features=768, bias=True)\n            (key): Linear(in_features=768, out_features=768, bias=True)\n            (value): Linear(in_features=768, out_features=768, bias=True)\n            (out): Linear(in_features=768, out_features=768, bias=True)\n            (attn_dropout): Dropout(p=0.0, inplace=False)\n            (proj_dropout): Dropout(p=0.0, inplace=False)\n            (softmax): Softmax(dim=-1)\n          )\n        )\n        (3): Block(\n          (attention_norm): LayerNorm((768,), eps=1e-06, elementwise_affine=True)\n          (ffn_norm): LayerNorm((768,), eps=1e-06, elementwise_affine=True)\n          (ffn): Mlp(\n            (fc1): Linear(in_features=768, out_features=3072, bias=True)\n            (fc2): Linear(in_features=3072, out_features=768, bias=True)\n            (dropout): Dropout(p=0.1, inplace=False)\n          )\n          (attn): Attention(\n            (query): Linear(in_features=768, out_features=768, bias=True)\n            (key): Linear(in_features=768, out_features=768, bias=True)\n            (value): Linear(in_features=768, out_features=768, bias=True)\n            (out): Linear(in_features=768, out_features=768, bias=True)\n            (attn_dropout): Dropout(p=0.0, inplace=False)\n            (proj_dropout): Dropout(p=0.0, inplace=False)\n            (softmax): Softmax(dim=-1)\n          )\n        )\n        (4): Block(\n          (attention_norm): LayerNorm((768,), eps=1e-06, elementwise_affine=True)\n          (ffn_norm): LayerNorm((768,), eps=1e-06, elementwise_affine=True)\n          (ffn): Mlp(\n            (fc1): Linear(in_features=768, out_features=3072, bias=True)\n            (fc2): Linear(in_features=3072, out_features=768, bias=True)\n            (dropout): Dropout(p=0.1, inplace=False)\n          )\n          (attn): Attention(\n            (query): Linear(in_features=768, out_features=768, bias=True)\n            (key): Linear(in_features=768, out_features=768, bias=True)\n            (value): Linear(in_features=768, out_features=768, bias=True)\n            (out): Linear(in_features=768, out_features=768, bias=True)\n            (attn_dropout): Dropout(p=0.0, inplace=False)\n            (proj_dropout): Dropout(p=0.0, inplace=False)\n            (softmax): Softmax(dim=-1)\n          )\n        )\n        (5): Block(\n          (attention_norm): LayerNorm((768,), eps=1e-06, elementwise_affine=True)\n          (ffn_norm): LayerNorm((768,), eps=1e-06, elementwise_affine=True)\n          (ffn): Mlp(\n            (fc1): Linear(in_features=768, out_features=3072, bias=True)\n            (fc2): Linear(in_features=3072, out_features=768, bias=True)\n            (dropout): Dropout(p=0.1, inplace=False)\n          )\n          (attn): Attention(\n            (query): Linear(in_features=768, out_features=768, bias=True)\n            (key): Linear(in_features=768, out_features=768, bias=True)\n            (value): Linear(in_features=768, out_features=768, bias=True)\n            (out): Linear(in_features=768, out_features=768, bias=True)\n            (attn_dropout): Dropout(p=0.0, inplace=False)\n            (proj_dropout): Dropout(p=0.0, inplace=False)\n            (softmax): Softmax(dim=-1)\n          )\n        )\n        (6): Block(\n          (attention_norm): LayerNorm((768,), eps=1e-06, elementwise_affine=True)\n          (ffn_norm): LayerNorm((768,), eps=1e-06, elementwise_affine=True)\n          (ffn): Mlp(\n            (fc1): Linear(in_features=768, out_features=3072, bias=True)\n            (fc2): Linear(in_features=3072, out_features=768, bias=True)\n            (dropout): Dropout(p=0.1, inplace=False)\n          )\n          (attn): Attention(\n            (query): Linear(in_features=768, out_features=768, bias=True)\n            (key): Linear(in_features=768, out_features=768, bias=True)\n            (value): Linear(in_features=768, out_features=768, bias=True)\n            (out): Linear(in_features=768, out_features=768, bias=True)\n            (attn_dropout): Dropout(p=0.0, inplace=False)\n            (proj_dropout): Dropout(p=0.0, inplace=False)\n            (softmax): Softmax(dim=-1)\n          )\n        )\n        (7): Block(\n          (attention_norm): LayerNorm((768,), eps=1e-06, elementwise_affine=True)\n          (ffn_norm): LayerNorm((768,), eps=1e-06, elementwise_affine=True)\n          (ffn): Mlp(\n            (fc1): Linear(in_features=768, out_features=3072, bias=True)\n            (fc2): Linear(in_features=3072, out_features=768, bias=True)\n            (dropout): Dropout(p=0.1, inplace=False)\n          )\n          (attn): Attention(\n            (query): Linear(in_features=768, out_features=768, bias=True)\n            (key): Linear(in_features=768, out_features=768, bias=True)\n            (value): Linear(in_features=768, out_features=768, bias=True)\n            (out): Linear(in_features=768, out_features=768, bias=True)\n            (attn_dropout): Dropout(p=0.0, inplace=False)\n            (proj_dropout): Dropout(p=0.0, inplace=False)\n            (softmax): Softmax(dim=-1)\n          )\n        )\n        (8): Block(\n          (attention_norm): LayerNorm((768,), eps=1e-06, elementwise_affine=True)\n          (ffn_norm): LayerNorm((768,), eps=1e-06, elementwise_affine=True)\n          (ffn): Mlp(\n            (fc1): Linear(in_features=768, out_features=3072, bias=True)\n            (fc2): Linear(in_features=3072, out_features=768, bias=True)\n            (dropout): Dropout(p=0.1, inplace=False)\n          )\n          (attn): Attention(\n            (query): Linear(in_features=768, out_features=768, bias=True)\n            (key): Linear(in_features=768, out_features=768, bias=True)\n            (value): Linear(in_features=768, out_features=768, bias=True)\n            (out): Linear(in_features=768, out_features=768, bias=True)\n            (attn_dropout): Dropout(p=0.0, inplace=False)\n            (proj_dropout): Dropout(p=0.0, inplace=False)\n            (softmax): Softmax(dim=-1)\n          )\n        )\n        (9): Block(\n          (attention_norm): LayerNorm((768,), eps=1e-06, elementwise_affine=True)\n          (ffn_norm): LayerNorm((768,), eps=1e-06, elementwise_affine=True)\n          (ffn): Mlp(\n            (fc1): Linear(in_features=768, out_features=3072, bias=True)\n            (fc2): Linear(in_features=3072, out_features=768, bias=True)\n            (dropout): Dropout(p=0.1, inplace=False)\n          )\n          (attn): Attention(\n            (query): Linear(in_features=768, out_features=768, bias=True)\n            (key): Linear(in_features=768, out_features=768, bias=True)\n            (value): Linear(in_features=768, out_features=768, bias=True)\n            (out): Linear(in_features=768, out_features=768, bias=True)\n            (attn_dropout): Dropout(p=0.0, inplace=False)\n            (proj_dropout): Dropout(p=0.0, inplace=False)\n            (softmax): Softmax(dim=-1)\n          )\n        )\n        (10): Block(\n          (attention_norm): LayerNorm((768,), eps=1e-06, elementwise_affine=True)\n          (ffn_norm): LayerNorm((768,), eps=1e-06, elementwise_affine=True)\n          (ffn): Mlp(\n            (fc1): Linear(in_features=768, out_features=3072, bias=True)\n            (fc2): Linear(in_features=3072, out_features=768, bias=True)\n            (dropout): Dropout(p=0.1, inplace=False)\n          )\n          (attn): Attention(\n            (query): Linear(in_features=768, out_features=768, bias=True)\n            (key): Linear(in_features=768, out_features=768, bias=True)\n            (value): Linear(in_features=768, out_features=768, bias=True)\n            (out): Linear(in_features=768, out_features=768, bias=True)\n            (attn_dropout): Dropout(p=0.0, inplace=False)\n            (proj_dropout): Dropout(p=0.0, inplace=False)\n            (softmax): Softmax(dim=-1)\n          )\n        )\n        (11): Block(\n          (attention_norm): LayerNorm((768,), eps=1e-06, elementwise_affine=True)\n          (ffn_norm): LayerNorm((768,), eps=1e-06, elementwise_affine=True)\n          (ffn): Mlp(\n            (fc1): Linear(in_features=768, out_features=3072, bias=True)\n            (fc2): Linear(in_features=3072, out_features=768, bias=True)\n            (dropout): Dropout(p=0.1, inplace=False)\n          )\n          (attn): Attention(\n            (query): Linear(in_features=768, out_features=768, bias=True)\n            (key): Linear(in_features=768, out_features=768, bias=True)\n            (value): Linear(in_features=768, out_features=768, bias=True)\n            (out): Linear(in_features=768, out_features=768, bias=True)\n            (attn_dropout): Dropout(p=0.0, inplace=False)\n            (proj_dropout): Dropout(p=0.0, inplace=False)\n            (softmax): Softmax(dim=-1)\n          )\n        )\n      )\n      (encoder_norm): LayerNorm((768,), eps=1e-06, elementwise_affine=True)\n    )\n  )\n  (head): Linear(in_features=768, out_features=1, bias=True)\n)"
     },
     "execution_count": 153,
     "metadata": {},
     "output_type": "execute_result"
    }
   ],
   "source": [
    "model"
   ],
   "metadata": {
    "collapsed": false,
    "pycharm": {
     "name": "#%%\n"
    }
   }
  },
  {
   "cell_type": "code",
   "execution_count": 150,
   "outputs": [
    {
     "data": {
      "text/plain": "ModuleList(\n  (0): Block(\n    (attention_norm): LayerNorm((768,), eps=1e-06, elementwise_affine=True)\n    (ffn_norm): LayerNorm((768,), eps=1e-06, elementwise_affine=True)\n    (ffn): Mlp(\n      (fc1): Linear(in_features=768, out_features=3072, bias=True)\n      (fc2): Linear(in_features=3072, out_features=768, bias=True)\n      (dropout): Dropout(p=0.1, inplace=False)\n    )\n    (attn): Attention(\n      (query): Linear(in_features=768, out_features=768, bias=True)\n      (key): Linear(in_features=768, out_features=768, bias=True)\n      (value): Linear(in_features=768, out_features=768, bias=True)\n      (out): Linear(in_features=768, out_features=768, bias=True)\n      (attn_dropout): Dropout(p=0.0, inplace=False)\n      (proj_dropout): Dropout(p=0.0, inplace=False)\n      (softmax): Softmax(dim=-1)\n    )\n  )\n  (1): Block(\n    (attention_norm): LayerNorm((768,), eps=1e-06, elementwise_affine=True)\n    (ffn_norm): LayerNorm((768,), eps=1e-06, elementwise_affine=True)\n    (ffn): Mlp(\n      (fc1): Linear(in_features=768, out_features=3072, bias=True)\n      (fc2): Linear(in_features=3072, out_features=768, bias=True)\n      (dropout): Dropout(p=0.1, inplace=False)\n    )\n    (attn): Attention(\n      (query): Linear(in_features=768, out_features=768, bias=True)\n      (key): Linear(in_features=768, out_features=768, bias=True)\n      (value): Linear(in_features=768, out_features=768, bias=True)\n      (out): Linear(in_features=768, out_features=768, bias=True)\n      (attn_dropout): Dropout(p=0.0, inplace=False)\n      (proj_dropout): Dropout(p=0.0, inplace=False)\n      (softmax): Softmax(dim=-1)\n    )\n  )\n  (2): Block(\n    (attention_norm): LayerNorm((768,), eps=1e-06, elementwise_affine=True)\n    (ffn_norm): LayerNorm((768,), eps=1e-06, elementwise_affine=True)\n    (ffn): Mlp(\n      (fc1): Linear(in_features=768, out_features=3072, bias=True)\n      (fc2): Linear(in_features=3072, out_features=768, bias=True)\n      (dropout): Dropout(p=0.1, inplace=False)\n    )\n    (attn): Attention(\n      (query): Linear(in_features=768, out_features=768, bias=True)\n      (key): Linear(in_features=768, out_features=768, bias=True)\n      (value): Linear(in_features=768, out_features=768, bias=True)\n      (out): Linear(in_features=768, out_features=768, bias=True)\n      (attn_dropout): Dropout(p=0.0, inplace=False)\n      (proj_dropout): Dropout(p=0.0, inplace=False)\n      (softmax): Softmax(dim=-1)\n    )\n  )\n  (3): Block(\n    (attention_norm): LayerNorm((768,), eps=1e-06, elementwise_affine=True)\n    (ffn_norm): LayerNorm((768,), eps=1e-06, elementwise_affine=True)\n    (ffn): Mlp(\n      (fc1): Linear(in_features=768, out_features=3072, bias=True)\n      (fc2): Linear(in_features=3072, out_features=768, bias=True)\n      (dropout): Dropout(p=0.1, inplace=False)\n    )\n    (attn): Attention(\n      (query): Linear(in_features=768, out_features=768, bias=True)\n      (key): Linear(in_features=768, out_features=768, bias=True)\n      (value): Linear(in_features=768, out_features=768, bias=True)\n      (out): Linear(in_features=768, out_features=768, bias=True)\n      (attn_dropout): Dropout(p=0.0, inplace=False)\n      (proj_dropout): Dropout(p=0.0, inplace=False)\n      (softmax): Softmax(dim=-1)\n    )\n  )\n  (4): Block(\n    (attention_norm): LayerNorm((768,), eps=1e-06, elementwise_affine=True)\n    (ffn_norm): LayerNorm((768,), eps=1e-06, elementwise_affine=True)\n    (ffn): Mlp(\n      (fc1): Linear(in_features=768, out_features=3072, bias=True)\n      (fc2): Linear(in_features=3072, out_features=768, bias=True)\n      (dropout): Dropout(p=0.1, inplace=False)\n    )\n    (attn): Attention(\n      (query): Linear(in_features=768, out_features=768, bias=True)\n      (key): Linear(in_features=768, out_features=768, bias=True)\n      (value): Linear(in_features=768, out_features=768, bias=True)\n      (out): Linear(in_features=768, out_features=768, bias=True)\n      (attn_dropout): Dropout(p=0.0, inplace=False)\n      (proj_dropout): Dropout(p=0.0, inplace=False)\n      (softmax): Softmax(dim=-1)\n    )\n  )\n  (5): Block(\n    (attention_norm): LayerNorm((768,), eps=1e-06, elementwise_affine=True)\n    (ffn_norm): LayerNorm((768,), eps=1e-06, elementwise_affine=True)\n    (ffn): Mlp(\n      (fc1): Linear(in_features=768, out_features=3072, bias=True)\n      (fc2): Linear(in_features=3072, out_features=768, bias=True)\n      (dropout): Dropout(p=0.1, inplace=False)\n    )\n    (attn): Attention(\n      (query): Linear(in_features=768, out_features=768, bias=True)\n      (key): Linear(in_features=768, out_features=768, bias=True)\n      (value): Linear(in_features=768, out_features=768, bias=True)\n      (out): Linear(in_features=768, out_features=768, bias=True)\n      (attn_dropout): Dropout(p=0.0, inplace=False)\n      (proj_dropout): Dropout(p=0.0, inplace=False)\n      (softmax): Softmax(dim=-1)\n    )\n  )\n  (6): Block(\n    (attention_norm): LayerNorm((768,), eps=1e-06, elementwise_affine=True)\n    (ffn_norm): LayerNorm((768,), eps=1e-06, elementwise_affine=True)\n    (ffn): Mlp(\n      (fc1): Linear(in_features=768, out_features=3072, bias=True)\n      (fc2): Linear(in_features=3072, out_features=768, bias=True)\n      (dropout): Dropout(p=0.1, inplace=False)\n    )\n    (attn): Attention(\n      (query): Linear(in_features=768, out_features=768, bias=True)\n      (key): Linear(in_features=768, out_features=768, bias=True)\n      (value): Linear(in_features=768, out_features=768, bias=True)\n      (out): Linear(in_features=768, out_features=768, bias=True)\n      (attn_dropout): Dropout(p=0.0, inplace=False)\n      (proj_dropout): Dropout(p=0.0, inplace=False)\n      (softmax): Softmax(dim=-1)\n    )\n  )\n  (7): Block(\n    (attention_norm): LayerNorm((768,), eps=1e-06, elementwise_affine=True)\n    (ffn_norm): LayerNorm((768,), eps=1e-06, elementwise_affine=True)\n    (ffn): Mlp(\n      (fc1): Linear(in_features=768, out_features=3072, bias=True)\n      (fc2): Linear(in_features=3072, out_features=768, bias=True)\n      (dropout): Dropout(p=0.1, inplace=False)\n    )\n    (attn): Attention(\n      (query): Linear(in_features=768, out_features=768, bias=True)\n      (key): Linear(in_features=768, out_features=768, bias=True)\n      (value): Linear(in_features=768, out_features=768, bias=True)\n      (out): Linear(in_features=768, out_features=768, bias=True)\n      (attn_dropout): Dropout(p=0.0, inplace=False)\n      (proj_dropout): Dropout(p=0.0, inplace=False)\n      (softmax): Softmax(dim=-1)\n    )\n  )\n  (8): Block(\n    (attention_norm): LayerNorm((768,), eps=1e-06, elementwise_affine=True)\n    (ffn_norm): LayerNorm((768,), eps=1e-06, elementwise_affine=True)\n    (ffn): Mlp(\n      (fc1): Linear(in_features=768, out_features=3072, bias=True)\n      (fc2): Linear(in_features=3072, out_features=768, bias=True)\n      (dropout): Dropout(p=0.1, inplace=False)\n    )\n    (attn): Attention(\n      (query): Linear(in_features=768, out_features=768, bias=True)\n      (key): Linear(in_features=768, out_features=768, bias=True)\n      (value): Linear(in_features=768, out_features=768, bias=True)\n      (out): Linear(in_features=768, out_features=768, bias=True)\n      (attn_dropout): Dropout(p=0.0, inplace=False)\n      (proj_dropout): Dropout(p=0.0, inplace=False)\n      (softmax): Softmax(dim=-1)\n    )\n  )\n  (9): Block(\n    (attention_norm): LayerNorm((768,), eps=1e-06, elementwise_affine=True)\n    (ffn_norm): LayerNorm((768,), eps=1e-06, elementwise_affine=True)\n    (ffn): Mlp(\n      (fc1): Linear(in_features=768, out_features=3072, bias=True)\n      (fc2): Linear(in_features=3072, out_features=768, bias=True)\n      (dropout): Dropout(p=0.1, inplace=False)\n    )\n    (attn): Attention(\n      (query): Linear(in_features=768, out_features=768, bias=True)\n      (key): Linear(in_features=768, out_features=768, bias=True)\n      (value): Linear(in_features=768, out_features=768, bias=True)\n      (out): Linear(in_features=768, out_features=768, bias=True)\n      (attn_dropout): Dropout(p=0.0, inplace=False)\n      (proj_dropout): Dropout(p=0.0, inplace=False)\n      (softmax): Softmax(dim=-1)\n    )\n  )\n  (10): Block(\n    (attention_norm): LayerNorm((768,), eps=1e-06, elementwise_affine=True)\n    (ffn_norm): LayerNorm((768,), eps=1e-06, elementwise_affine=True)\n    (ffn): Mlp(\n      (fc1): Linear(in_features=768, out_features=3072, bias=True)\n      (fc2): Linear(in_features=3072, out_features=768, bias=True)\n      (dropout): Dropout(p=0.1, inplace=False)\n    )\n    (attn): Attention(\n      (query): Linear(in_features=768, out_features=768, bias=True)\n      (key): Linear(in_features=768, out_features=768, bias=True)\n      (value): Linear(in_features=768, out_features=768, bias=True)\n      (out): Linear(in_features=768, out_features=768, bias=True)\n      (attn_dropout): Dropout(p=0.0, inplace=False)\n      (proj_dropout): Dropout(p=0.0, inplace=False)\n      (softmax): Softmax(dim=-1)\n    )\n  )\n  (11): Block(\n    (attention_norm): LayerNorm((768,), eps=1e-06, elementwise_affine=True)\n    (ffn_norm): LayerNorm((768,), eps=1e-06, elementwise_affine=True)\n    (ffn): Mlp(\n      (fc1): Linear(in_features=768, out_features=3072, bias=True)\n      (fc2): Linear(in_features=3072, out_features=768, bias=True)\n      (dropout): Dropout(p=0.1, inplace=False)\n    )\n    (attn): Attention(\n      (query): Linear(in_features=768, out_features=768, bias=True)\n      (key): Linear(in_features=768, out_features=768, bias=True)\n      (value): Linear(in_features=768, out_features=768, bias=True)\n      (out): Linear(in_features=768, out_features=768, bias=True)\n      (attn_dropout): Dropout(p=0.0, inplace=False)\n      (proj_dropout): Dropout(p=0.0, inplace=False)\n      (softmax): Softmax(dim=-1)\n    )\n  )\n)"
     },
     "execution_count": 150,
     "metadata": {},
     "output_type": "execute_result"
    }
   ],
   "source": [
    "model.transformer.encoder.layer"
   ],
   "metadata": {
    "collapsed": false,
    "pycharm": {
     "name": "#%%\n"
    }
   }
  },
  {
   "cell_type": "code",
   "execution_count": 142,
   "outputs": [
    {
     "data": {
      "text/plain": "Embeddings(\n  (patch_embeddings): Conv2d(3, 768, kernel_size=(16, 16), stride=(16, 16))\n  (dropout): Dropout(p=0.1, inplace=False)\n)"
     },
     "execution_count": 142,
     "metadata": {},
     "output_type": "execute_result"
    }
   ],
   "source": [
    "model.transformer.embeddings"
   ],
   "metadata": {
    "collapsed": false,
    "pycharm": {
     "name": "#%%\n"
    }
   }
  },
  {
   "cell_type": "code",
   "execution_count": 132,
   "outputs": [
    {
     "ename": "RuntimeError",
     "evalue": "number of dims don't match in permute",
     "output_type": "error",
     "traceback": [
      "\u001B[1;31m---------------------------------------------------------------------------\u001B[0m",
      "\u001B[1;31mRuntimeError\u001B[0m                              Traceback (most recent call last)",
      "\u001B[1;32m~\\AppData\\Local\\Temp/ipykernel_27476/1416911503.py\u001B[0m in \u001B[0;36m<module>\u001B[1;34m\u001B[0m\n\u001B[0;32m      4\u001B[0m \u001B[0mN\u001B[0m\u001B[1;33m,\u001B[0m \u001B[0mT\u001B[0m \u001B[1;33m=\u001B[0m \u001B[1;36m100\u001B[0m\u001B[1;33m,\u001B[0m \u001B[1;36m768\u001B[0m\u001B[1;33m\u001B[0m\u001B[1;33m\u001B[0m\u001B[0m\n\u001B[0;32m      5\u001B[0m \u001B[0mx\u001B[0m \u001B[1;33m=\u001B[0m \u001B[0mtorch\u001B[0m\u001B[1;33m.\u001B[0m\u001B[0mones\u001B[0m\u001B[1;33m(\u001B[0m\u001B[0mN\u001B[0m\u001B[1;33m,\u001B[0m \u001B[0mT\u001B[0m\u001B[1;33m)\u001B[0m\u001B[1;33m\u001B[0m\u001B[1;33m\u001B[0m\u001B[0m\n\u001B[1;32m----> 6\u001B[1;33m \u001B[0mmodel\u001B[0m\u001B[1;33m.\u001B[0m\u001B[0mtransformer\u001B[0m\u001B[1;33m.\u001B[0m\u001B[0mencoder\u001B[0m\u001B[1;33m.\u001B[0m\u001B[0mlayer\u001B[0m\u001B[1;33m[\u001B[0m\u001B[1;36m0\u001B[0m\u001B[1;33m]\u001B[0m\u001B[1;33m(\u001B[0m\u001B[0mx\u001B[0m\u001B[1;33m)\u001B[0m\u001B[1;33m\u001B[0m\u001B[1;33m\u001B[0m\u001B[0m\n\u001B[0m",
      "\u001B[1;32mB:\\Anaconda_install_path\\envs\\deeplearning\\lib\\site-packages\\torch\\nn\\modules\\module.py\u001B[0m in \u001B[0;36m_call_impl\u001B[1;34m(self, *input, **kwargs)\u001B[0m\n\u001B[0;32m   1100\u001B[0m         if not (self._backward_hooks or self._forward_hooks or self._forward_pre_hooks or _global_backward_hooks\n\u001B[0;32m   1101\u001B[0m                 or _global_forward_hooks or _global_forward_pre_hooks):\n\u001B[1;32m-> 1102\u001B[1;33m             \u001B[1;32mreturn\u001B[0m \u001B[0mforward_call\u001B[0m\u001B[1;33m(\u001B[0m\u001B[1;33m*\u001B[0m\u001B[0minput\u001B[0m\u001B[1;33m,\u001B[0m \u001B[1;33m**\u001B[0m\u001B[0mkwargs\u001B[0m\u001B[1;33m)\u001B[0m\u001B[1;33m\u001B[0m\u001B[1;33m\u001B[0m\u001B[0m\n\u001B[0m\u001B[0;32m   1103\u001B[0m         \u001B[1;31m# Do not call functions when jit is used\u001B[0m\u001B[1;33m\u001B[0m\u001B[1;33m\u001B[0m\u001B[0m\n\u001B[0;32m   1104\u001B[0m         \u001B[0mfull_backward_hooks\u001B[0m\u001B[1;33m,\u001B[0m \u001B[0mnon_full_backward_hooks\u001B[0m \u001B[1;33m=\u001B[0m \u001B[1;33m[\u001B[0m\u001B[1;33m]\u001B[0m\u001B[1;33m,\u001B[0m \u001B[1;33m[\u001B[0m\u001B[1;33m]\u001B[0m\u001B[1;33m\u001B[0m\u001B[1;33m\u001B[0m\u001B[0m\n",
      "\u001B[1;32mF:\\GitHub\\anomaly-detection\\codes\\ViT_Style\\models\\modeling.py\u001B[0m in \u001B[0;36mforward\u001B[1;34m(self, x)\u001B[0m\n\u001B[0;32m    182\u001B[0m         \u001B[0mh\u001B[0m \u001B[1;33m=\u001B[0m \u001B[0mx\u001B[0m\u001B[1;33m\u001B[0m\u001B[1;33m\u001B[0m\u001B[0m\n\u001B[0;32m    183\u001B[0m         \u001B[0mx\u001B[0m \u001B[1;33m=\u001B[0m \u001B[0mself\u001B[0m\u001B[1;33m.\u001B[0m\u001B[0mattention_norm\u001B[0m\u001B[1;33m(\u001B[0m\u001B[0mx\u001B[0m\u001B[1;33m)\u001B[0m\u001B[1;33m\u001B[0m\u001B[1;33m\u001B[0m\u001B[0m\n\u001B[1;32m--> 184\u001B[1;33m         \u001B[0mx\u001B[0m\u001B[1;33m,\u001B[0m \u001B[0mweights\u001B[0m \u001B[1;33m=\u001B[0m \u001B[0mself\u001B[0m\u001B[1;33m.\u001B[0m\u001B[0mattn\u001B[0m\u001B[1;33m(\u001B[0m\u001B[0mx\u001B[0m\u001B[1;33m)\u001B[0m\u001B[1;33m\u001B[0m\u001B[1;33m\u001B[0m\u001B[0m\n\u001B[0m\u001B[0;32m    185\u001B[0m         \u001B[0mx\u001B[0m \u001B[1;33m=\u001B[0m \u001B[0mx\u001B[0m \u001B[1;33m+\u001B[0m \u001B[0mh\u001B[0m\u001B[1;33m\u001B[0m\u001B[1;33m\u001B[0m\u001B[0m\n\u001B[0;32m    186\u001B[0m \u001B[1;33m\u001B[0m\u001B[0m\n",
      "\u001B[1;32mB:\\Anaconda_install_path\\envs\\deeplearning\\lib\\site-packages\\torch\\nn\\modules\\module.py\u001B[0m in \u001B[0;36m_call_impl\u001B[1;34m(self, *input, **kwargs)\u001B[0m\n\u001B[0;32m   1100\u001B[0m         if not (self._backward_hooks or self._forward_hooks or self._forward_pre_hooks or _global_backward_hooks\n\u001B[0;32m   1101\u001B[0m                 or _global_forward_hooks or _global_forward_pre_hooks):\n\u001B[1;32m-> 1102\u001B[1;33m             \u001B[1;32mreturn\u001B[0m \u001B[0mforward_call\u001B[0m\u001B[1;33m(\u001B[0m\u001B[1;33m*\u001B[0m\u001B[0minput\u001B[0m\u001B[1;33m,\u001B[0m \u001B[1;33m**\u001B[0m\u001B[0mkwargs\u001B[0m\u001B[1;33m)\u001B[0m\u001B[1;33m\u001B[0m\u001B[1;33m\u001B[0m\u001B[0m\n\u001B[0m\u001B[0;32m   1103\u001B[0m         \u001B[1;31m# Do not call functions when jit is used\u001B[0m\u001B[1;33m\u001B[0m\u001B[1;33m\u001B[0m\u001B[0m\n\u001B[0;32m   1104\u001B[0m         \u001B[0mfull_backward_hooks\u001B[0m\u001B[1;33m,\u001B[0m \u001B[0mnon_full_backward_hooks\u001B[0m \u001B[1;33m=\u001B[0m \u001B[1;33m[\u001B[0m\u001B[1;33m]\u001B[0m\u001B[1;33m,\u001B[0m \u001B[1;33m[\u001B[0m\u001B[1;33m]\u001B[0m\u001B[1;33m\u001B[0m\u001B[1;33m\u001B[0m\u001B[0m\n",
      "\u001B[1;32mF:\\GitHub\\anomaly-detection\\codes\\ViT_Style\\models\\modeling.py\u001B[0m in \u001B[0;36mforward\u001B[1;34m(self, hidden_states)\u001B[0m\n\u001B[0;32m     79\u001B[0m         \u001B[0mmixed_value_layer\u001B[0m \u001B[1;33m=\u001B[0m \u001B[0mself\u001B[0m\u001B[1;33m.\u001B[0m\u001B[0mvalue\u001B[0m\u001B[1;33m(\u001B[0m\u001B[0mhidden_states\u001B[0m\u001B[1;33m)\u001B[0m\u001B[1;33m\u001B[0m\u001B[1;33m\u001B[0m\u001B[0m\n\u001B[0;32m     80\u001B[0m \u001B[1;33m\u001B[0m\u001B[0m\n\u001B[1;32m---> 81\u001B[1;33m         \u001B[0mquery_layer\u001B[0m \u001B[1;33m=\u001B[0m \u001B[0mself\u001B[0m\u001B[1;33m.\u001B[0m\u001B[0mtranspose_for_scores\u001B[0m\u001B[1;33m(\u001B[0m\u001B[0mmixed_query_layer\u001B[0m\u001B[1;33m)\u001B[0m\u001B[1;33m\u001B[0m\u001B[1;33m\u001B[0m\u001B[0m\n\u001B[0m\u001B[0;32m     82\u001B[0m         \u001B[0mkey_layer\u001B[0m \u001B[1;33m=\u001B[0m \u001B[0mself\u001B[0m\u001B[1;33m.\u001B[0m\u001B[0mtranspose_for_scores\u001B[0m\u001B[1;33m(\u001B[0m\u001B[0mmixed_key_layer\u001B[0m\u001B[1;33m)\u001B[0m\u001B[1;33m\u001B[0m\u001B[1;33m\u001B[0m\u001B[0m\n\u001B[0;32m     83\u001B[0m         \u001B[0mvalue_layer\u001B[0m \u001B[1;33m=\u001B[0m \u001B[0mself\u001B[0m\u001B[1;33m.\u001B[0m\u001B[0mtranspose_for_scores\u001B[0m\u001B[1;33m(\u001B[0m\u001B[0mmixed_value_layer\u001B[0m\u001B[1;33m)\u001B[0m\u001B[1;33m\u001B[0m\u001B[1;33m\u001B[0m\u001B[0m\n",
      "\u001B[1;32mF:\\GitHub\\anomaly-detection\\codes\\ViT_Style\\models\\modeling.py\u001B[0m in \u001B[0;36mtranspose_for_scores\u001B[1;34m(self, x)\u001B[0m\n\u001B[0;32m     72\u001B[0m         \u001B[0mnew_x_shape\u001B[0m \u001B[1;33m=\u001B[0m \u001B[0mx\u001B[0m\u001B[1;33m.\u001B[0m\u001B[0msize\u001B[0m\u001B[1;33m(\u001B[0m\u001B[1;33m)\u001B[0m\u001B[1;33m[\u001B[0m\u001B[1;33m:\u001B[0m\u001B[1;33m-\u001B[0m\u001B[1;36m1\u001B[0m\u001B[1;33m]\u001B[0m \u001B[1;33m+\u001B[0m \u001B[1;33m(\u001B[0m\u001B[0mself\u001B[0m\u001B[1;33m.\u001B[0m\u001B[0mnum_attention_heads\u001B[0m\u001B[1;33m,\u001B[0m \u001B[0mself\u001B[0m\u001B[1;33m.\u001B[0m\u001B[0mattention_head_size\u001B[0m\u001B[1;33m)\u001B[0m\u001B[1;33m\u001B[0m\u001B[1;33m\u001B[0m\u001B[0m\n\u001B[0;32m     73\u001B[0m         \u001B[0mx\u001B[0m \u001B[1;33m=\u001B[0m \u001B[0mx\u001B[0m\u001B[1;33m.\u001B[0m\u001B[0mview\u001B[0m\u001B[1;33m(\u001B[0m\u001B[1;33m*\u001B[0m\u001B[0mnew_x_shape\u001B[0m\u001B[1;33m)\u001B[0m\u001B[1;33m\u001B[0m\u001B[1;33m\u001B[0m\u001B[0m\n\u001B[1;32m---> 74\u001B[1;33m         \u001B[1;32mreturn\u001B[0m \u001B[0mx\u001B[0m\u001B[1;33m.\u001B[0m\u001B[0mpermute\u001B[0m\u001B[1;33m(\u001B[0m\u001B[1;36m0\u001B[0m\u001B[1;33m,\u001B[0m \u001B[1;36m2\u001B[0m\u001B[1;33m,\u001B[0m \u001B[1;36m1\u001B[0m\u001B[1;33m,\u001B[0m \u001B[1;36m3\u001B[0m\u001B[1;33m)\u001B[0m\u001B[1;33m\u001B[0m\u001B[1;33m\u001B[0m\u001B[0m\n\u001B[0m\u001B[0;32m     75\u001B[0m \u001B[1;33m\u001B[0m\u001B[0m\n\u001B[0;32m     76\u001B[0m     \u001B[1;32mdef\u001B[0m \u001B[0mforward\u001B[0m\u001B[1;33m(\u001B[0m\u001B[0mself\u001B[0m\u001B[1;33m,\u001B[0m \u001B[0mhidden_states\u001B[0m\u001B[1;33m)\u001B[0m\u001B[1;33m:\u001B[0m\u001B[1;33m\u001B[0m\u001B[1;33m\u001B[0m\u001B[0m\n",
      "\u001B[1;31mRuntimeError\u001B[0m: number of dims don't match in permute"
     ]
    }
   ],
   "source": [
    "model = VisionTransformer(CONFIGS['ViT-B_16'], 128, num_classes=1, zero_head=True)\n",
    "\n",
    "\n",
    "N, T = 100, 768\n",
    "x = torch.ones(N, T)\n",
    "model.transformer.encoder.layer[0](x)"
   ],
   "metadata": {
    "collapsed": false,
    "pycharm": {
     "name": "#%%\n"
    }
   }
  },
  {
   "cell_type": "code",
   "source": [
    "discriminator = Discriminator()"
   ],
   "metadata": {
    "id": "NcuQCRMluSVK"
   },
   "execution_count": null,
   "outputs": []
  },
  {
   "cell_type": "code",
   "source": [
    "!pip install wget"
   ],
   "metadata": {
    "id": "qNL1SUlevTJN"
   },
   "execution_count": null,
   "outputs": []
  },
  {
   "cell_type": "code",
   "source": [
    "import wget\n",
    "filename = wget.download(\"https://storage.googleapis.com/vit_models/imagenet21k/ViT-B_16.npz\")\n",
    "discriminator.ViT.load_from(np.load(filename))"
   ],
   "metadata": {
    "id": "qzFt7oaiuMEN"
   },
   "execution_count": null,
   "outputs": []
  },
  {
   "cell_type": "code",
   "source": [
    "def freeze_model(model, layers=6):\n",
    "    for i in range(layers):\n",
    "        for p in model.transformer.encoder.layer[i].parameters():\n",
    "            p.requires_grad = False"
   ],
   "metadata": {
    "id": "VaUZa_wOuWVR"
   },
   "execution_count": null,
   "outputs": []
  },
  {
   "cell_type": "code",
   "source": [
    "freeze_model(discriminator.ViT)"
   ],
   "metadata": {
    "id": "-KxFq_VLuZkp"
   },
   "execution_count": null,
   "outputs": []
  },
  {
   "cell_type": "markdown",
   "source": [
    "### Losses"
   ],
   "metadata": {
    "collapsed": false,
    "id": "-Q8tc5zL3eNg"
   }
  },
  {
   "cell_type": "code",
   "execution_count": null,
   "outputs": [],
   "source": [
    "def discriminator_layers_loss(discriminator, vgg, real_images, lamda = 0):\n",
    "    # CONV2D # 0, 2, 5, 7\n",
    "    # RELU   # 1, 3, 6, 8\n",
    "    # SALEHI # 9, 16, 23, 30\n",
    "    # max #1, 4, 6, 9\n",
    "\n",
    "\n",
    "    criterion = nn.MSELoss()\n",
    "    similarity_loss = torch.nn.CosineSimilarity()\n",
    "\n",
    "    y_pred_1, y_pred_3, y_pred_6, y_pred_8 = discriminator.conv_layers_vgg[:1+1](real_images),\\\n",
    "                                             discriminator.conv_layers_vgg[:4+1](real_images),\\\n",
    "                                             discriminator.conv_layers_vgg[:6+1](real_images),\\\n",
    "                                             discriminator.conv_layers_vgg[:9+1](real_images)\n",
    "\n",
    "    y_1, y_3, y_6, y_8 = vgg.features[:1+1](real_images),\\\n",
    "                         vgg.features[:4+1](real_images),\\\n",
    "                         vgg.features[:6+1](real_images),\\\n",
    "                         vgg.features[:9+1](real_images)\n",
    "\n",
    "\n",
    "    abs_loss_1 = criterion(y_pred_1, y_1)\n",
    "    loss_1 = torch.mean(1 - similarity_loss(y_pred_1.view(y_pred_1.shape[0], -1), y_1.view(y_1.shape[0], -1)))\n",
    "\n",
    "    abs_loss_3 = criterion(y_pred_3, y_3)\n",
    "    loss_3 = torch.mean(1 - similarity_loss(y_pred_3.view(y_pred_3.shape[0], -1), y_3.view(y_3.shape[0], -1)))\n",
    "\n",
    "    abs_loss_6 = criterion(y_pred_6, y_6)\n",
    "    loss_6 = torch.mean(1 - similarity_loss(y_pred_6.view(y_pred_6.shape[0], -1), y_6.view(y_6.shape[0], -1)))\n",
    "\n",
    "    abs_loss_8 = criterion(y_pred_8, y_8)\n",
    "    loss_8 = torch.mean(1 - similarity_loss(y_pred_8.view(y_pred_8.shape[0], -1), y_8.view(y_8.shape[0], -1)))\n",
    "\n",
    "\n",
    "    total_loss = loss_1 + loss_3 + loss_6 + loss_8 + lamda * (\n",
    "                    abs_loss_1 + abs_loss_3 + abs_loss_6 + abs_loss_8)\n",
    "\n",
    "    return total_loss"
   ],
   "metadata": {
    "pycharm": {
     "name": "#%%\n"
    },
    "id": "f0fHuXBH3eNg"
   }
  },
  {
   "cell_type": "code",
   "execution_count": null,
   "outputs": [],
   "source": [
    "# mitoni hamin kar ro baraye generator ham beri k layer haye mokhtalef mese ham bashe\n",
    "def generator_layers_loss(vgg, real_images, gen_imgs, lamda = 0):\n",
    "    # CONV2D # 0, 2, 5, 7\n",
    "    # RELU   # 1, 3, 6, 8\n",
    "\n",
    "    criterion = nn.MSELoss()\n",
    "    similarity_loss = torch.nn.CosineSimilarity()\n",
    "\n",
    "    y_pred_1, y_pred_3, y_pred_6, y_pred_8 = vgg.features[:1+1](gen_imgs),\\\n",
    "                                             vgg.features[:3+1](gen_imgs),\\\n",
    "                                             vgg.features[:6+1](gen_imgs),\\\n",
    "                                             vgg.features[:8+1](gen_imgs)\n",
    "\n",
    "    y_1, y_3, y_6, y_8 = vgg.features[:1+1](real_images),\\\n",
    "                         vgg.features[:3+1](real_images),\\\n",
    "                         vgg.features[:6+1](real_images),\\\n",
    "                         vgg.features[:8+1](real_images)\n",
    "\n",
    "\n",
    "    abs_loss_1 = criterion(y_pred_1, y_1)\n",
    "    loss_1 = torch.mean(1 - similarity_loss(y_pred_1.view(y_pred_1.shape[0], -1), y_1.view(y_1.shape[0], -1)))\n",
    "\n",
    "    abs_loss_3 = criterion(y_pred_3, y_3)\n",
    "    loss_3 = torch.mean(1 - similarity_loss(y_pred_3.view(y_pred_3.shape[0], -1), y_3.view(y_3.shape[0], -1)))\n",
    "\n",
    "    abs_loss_6 = criterion(y_pred_6, y_6)\n",
    "    loss_6 = torch.mean(1 - similarity_loss(y_pred_6.view(y_pred_6.shape[0], -1), y_6.view(y_6.shape[0], -1)))\n",
    "\n",
    "    abs_loss_8 = criterion(y_pred_8, y_8)\n",
    "    loss_8 = torch.mean(1 - similarity_loss(y_pred_8.view(y_pred_8.shape[0], -1), y_8.view(y_8.shape[0], -1)))\n",
    "\n",
    "\n",
    "    total_loss = loss_1 + loss_3 + loss_6 + loss_8 + lamda * (\n",
    "                    abs_loss_1 + abs_loss_3 + abs_loss_6 + abs_loss_8)\n",
    "\n",
    "    return total_loss"
   ],
   "metadata": {
    "pycharm": {
     "name": "#%%\n"
    },
    "id": "s7QfkAfG3eNh"
   }
  },
  {
   "cell_type": "markdown",
   "source": [
    "### Hyperparameters"
   ],
   "metadata": {
    "collapsed": false,
    "id": "HOfRk63xZkP6"
   }
  },
  {
   "cell_type": "code",
   "execution_count": null,
   "outputs": [],
   "source": [
    "#root_save = \"./best_models\"\n",
    "#root_ds = \"./../../../dataset/kaggle1/no\"\n",
    "device = 'cuda'\n",
    "\n",
    "root_save = \"/content/drive/MyDrive/MRI Arman/best_models\"\n",
    "root_ds = \"/content/drive/MyDrive/MRI Arman/dataset/kaggle1/no\"\n",
    "\n",
    "batch_size = 10\n",
    "img_size = 128\n",
    "latent_dim = 100\n",
    "channels = 3\n",
    "num_epochs = 5000\n",
    "sample_interval = 10\n",
    "\n",
    "num_data = 91\n",
    "\n",
    "n_critic = 5\n",
    "lambda_gp =10"
   ],
   "metadata": {
    "pycharm": {
     "name": "#%%\n"
    },
    "id": "9LnjK83RZkP8"
   }
  },
  {
   "cell_type": "markdown",
   "source": [
    "### Dataset"
   ],
   "metadata": {
    "collapsed": false,
    "id": "OxfyP7IhZkP9"
   }
  },
  {
   "cell_type": "code",
   "execution_count": 71,
   "outputs": [],
   "source": [
    "class CustomDataset(Dataset):\n",
    "    def __init__(self, folder:str, img_size = 128, BGR2GRAY = True, transforms = None):\n",
    "        super(CustomDataset, self).__init__()\n",
    "\n",
    "        self.folder = folder\n",
    "        self.img_list  =  os.listdir(folder)\n",
    "        self.transforms = transforms\n",
    "        self.img_size = img_size\n",
    "        self.BGR2GRAY = BGR2GRAY\n",
    "\n",
    "    def __getitem__(self, item):\n",
    "        img_dir = os.path.join(self.folder, self.img_list[item])\n",
    "        img = cv2.imread(img_dir)\n",
    "        if self.BGR2GRAY:\n",
    "            img = cv2.cvtColor(img, cv2.COLOR_BGR2GRAY)\n",
    "        img = cv2.resize(img, (self.img_size,self.img_size))\n",
    "\n",
    "        if self.transforms:\n",
    "            img = self.transforms(img)\n",
    "\n",
    "        return img\n",
    "\n",
    "\n",
    "    def __len__(self):\n",
    "        return len(img_list)"
   ],
   "metadata": {
    "collapsed": false,
    "pycharm": {
     "name": "#%%\n"
    }
   }
  },
  {
   "cell_type": "code",
   "execution_count": 88,
   "outputs": [],
   "source": [
    "folder = \"F:/GitHub/anomaly-detection/dataset/kaggle1/no/normal\"\n",
    "\n",
    "trans = transforms.Compose([\n",
    "    transforms.ToTensor(),\n",
    "    transforms.Normalize(mean=[0.485,], std=[0.229,])])\n",
    "\n",
    "dataset = CustomDataset(folder, transforms=trans)\n",
    "train_loader = DataLoader(dataset, batch_size= 10)"
   ],
   "metadata": {
    "collapsed": false,
    "pycharm": {
     "name": "#%%\n"
    }
   }
  },
  {
   "cell_type": "code",
   "execution_count": 89,
   "outputs": [],
   "source": [
    "for i, x in enumerate(train_loader,1):\n",
    "    x=x\n",
    "    break"
   ],
   "metadata": {
    "collapsed": false,
    "pycharm": {
     "name": "#%%\n"
    }
   }
  },
  {
   "cell_type": "code",
   "execution_count": 91,
   "outputs": [
    {
     "data": {
      "text/plain": "tensor(-2.1179)"
     },
     "execution_count": 91,
     "metadata": {},
     "output_type": "execute_result"
    }
   ],
   "source": [
    "x[0].min()"
   ],
   "metadata": {
    "collapsed": false,
    "pycharm": {
     "name": "#%%\n"
    }
   }
  },
  {
   "cell_type": "code",
   "execution_count": 87,
   "outputs": [
    {
     "data": {
      "text/plain": "<matplotlib.image.AxesImage at 0x1b16af83d00>"
     },
     "execution_count": 87,
     "metadata": {},
     "output_type": "execute_result"
    },
    {
     "data": {
      "text/plain": "<Figure size 432x288 with 1 Axes>",
      "image/png": "[encoded data removed]"
     },
     "metadata": {
      "needs_background": "light"
     },
     "output_type": "display_data"
    }
   ],
   "source": [
    "plt.imshow(x[6][0])"
   ],
   "metadata": {
    "collapsed": false,
    "pycharm": {
     "name": "#%%\n"
    }
   }
  },
  {
   "cell_type": "code",
   "execution_count": 33,
   "outputs": [],
   "source": [
    "trans = transforms.Compose([\n",
    "    transforms.ToTensor(),\n",
    "    transforms.Normalize(mean=[0.485, 0.456, 0.406], std=[0.229, 0.224, 0.225])])"
   ],
   "metadata": {
    "collapsed": false,
    "pycharm": {
     "name": "#%%\n"
    }
   }
  },
  {
   "cell_type": "code",
   "execution_count": 36,
   "outputs": [
    {
     "ename": "TypeError",
     "evalue": "pic should be PIL Image or ndarray. Got <class 'torch.Tensor'>",
     "output_type": "error",
     "traceback": [
      "\u001B[1;31m---------------------------------------------------------------------------\u001B[0m",
      "\u001B[1;31mTypeError\u001B[0m                                 Traceback (most recent call last)",
      "\u001B[1;32m~\\AppData\\Local\\Temp/ipykernel_27476/2663332766.py\u001B[0m in \u001B[0;36m<module>\u001B[1;34m\u001B[0m\n\u001B[1;32m----> 1\u001B[1;33m \u001B[0mtrans\u001B[0m\u001B[1;33m(\u001B[0m\u001B[0mx\u001B[0m\u001B[1;33m)\u001B[0m\u001B[1;33m.\u001B[0m\u001B[0mshape\u001B[0m\u001B[1;33m\u001B[0m\u001B[1;33m\u001B[0m\u001B[0m\n\u001B[0m",
      "\u001B[1;32mB:\\Anaconda_install_path\\envs\\deeplearning\\lib\\site-packages\\torchvision\\transforms\\transforms.py\u001B[0m in \u001B[0;36m__call__\u001B[1;34m(self, img)\u001B[0m\n\u001B[0;32m     59\u001B[0m     \u001B[1;32mdef\u001B[0m \u001B[0m__call__\u001B[0m\u001B[1;33m(\u001B[0m\u001B[0mself\u001B[0m\u001B[1;33m,\u001B[0m \u001B[0mimg\u001B[0m\u001B[1;33m)\u001B[0m\u001B[1;33m:\u001B[0m\u001B[1;33m\u001B[0m\u001B[1;33m\u001B[0m\u001B[0m\n\u001B[0;32m     60\u001B[0m         \u001B[1;32mfor\u001B[0m \u001B[0mt\u001B[0m \u001B[1;32min\u001B[0m \u001B[0mself\u001B[0m\u001B[1;33m.\u001B[0m\u001B[0mtransforms\u001B[0m\u001B[1;33m:\u001B[0m\u001B[1;33m\u001B[0m\u001B[1;33m\u001B[0m\u001B[0m\n\u001B[1;32m---> 61\u001B[1;33m             \u001B[0mimg\u001B[0m \u001B[1;33m=\u001B[0m \u001B[0mt\u001B[0m\u001B[1;33m(\u001B[0m\u001B[0mimg\u001B[0m\u001B[1;33m)\u001B[0m\u001B[1;33m\u001B[0m\u001B[1;33m\u001B[0m\u001B[0m\n\u001B[0m\u001B[0;32m     62\u001B[0m         \u001B[1;32mreturn\u001B[0m \u001B[0mimg\u001B[0m\u001B[1;33m\u001B[0m\u001B[1;33m\u001B[0m\u001B[0m\n\u001B[0;32m     63\u001B[0m \u001B[1;33m\u001B[0m\u001B[0m\n",
      "\u001B[1;32mB:\\Anaconda_install_path\\envs\\deeplearning\\lib\\site-packages\\torchvision\\transforms\\transforms.py\u001B[0m in \u001B[0;36m__call__\u001B[1;34m(self, pic)\u001B[0m\n\u001B[0;32m     96\u001B[0m             \u001B[0mTensor\u001B[0m\u001B[1;33m:\u001B[0m \u001B[0mConverted\u001B[0m \u001B[0mimage\u001B[0m\u001B[1;33m.\u001B[0m\u001B[1;33m\u001B[0m\u001B[1;33m\u001B[0m\u001B[0m\n\u001B[0;32m     97\u001B[0m         \"\"\"\n\u001B[1;32m---> 98\u001B[1;33m         \u001B[1;32mreturn\u001B[0m \u001B[0mF\u001B[0m\u001B[1;33m.\u001B[0m\u001B[0mto_tensor\u001B[0m\u001B[1;33m(\u001B[0m\u001B[0mpic\u001B[0m\u001B[1;33m)\u001B[0m\u001B[1;33m\u001B[0m\u001B[1;33m\u001B[0m\u001B[0m\n\u001B[0m\u001B[0;32m     99\u001B[0m \u001B[1;33m\u001B[0m\u001B[0m\n\u001B[0;32m    100\u001B[0m     \u001B[1;32mdef\u001B[0m \u001B[0m__repr__\u001B[0m\u001B[1;33m(\u001B[0m\u001B[0mself\u001B[0m\u001B[1;33m)\u001B[0m\u001B[1;33m:\u001B[0m\u001B[1;33m\u001B[0m\u001B[1;33m\u001B[0m\u001B[0m\n",
      "\u001B[1;32mB:\\Anaconda_install_path\\envs\\deeplearning\\lib\\site-packages\\torchvision\\transforms\\functional.py\u001B[0m in \u001B[0;36mto_tensor\u001B[1;34m(pic)\u001B[0m\n\u001B[0;32m    112\u001B[0m     \"\"\"\n\u001B[0;32m    113\u001B[0m     \u001B[1;32mif\u001B[0m \u001B[1;32mnot\u001B[0m\u001B[1;33m(\u001B[0m\u001B[0mF_pil\u001B[0m\u001B[1;33m.\u001B[0m\u001B[0m_is_pil_image\u001B[0m\u001B[1;33m(\u001B[0m\u001B[0mpic\u001B[0m\u001B[1;33m)\u001B[0m \u001B[1;32mor\u001B[0m \u001B[0m_is_numpy\u001B[0m\u001B[1;33m(\u001B[0m\u001B[0mpic\u001B[0m\u001B[1;33m)\u001B[0m\u001B[1;33m)\u001B[0m\u001B[1;33m:\u001B[0m\u001B[1;33m\u001B[0m\u001B[1;33m\u001B[0m\u001B[0m\n\u001B[1;32m--> 114\u001B[1;33m         \u001B[1;32mraise\u001B[0m \u001B[0mTypeError\u001B[0m\u001B[1;33m(\u001B[0m\u001B[1;34m'pic should be PIL Image or ndarray. Got {}'\u001B[0m\u001B[1;33m.\u001B[0m\u001B[0mformat\u001B[0m\u001B[1;33m(\u001B[0m\u001B[0mtype\u001B[0m\u001B[1;33m(\u001B[0m\u001B[0mpic\u001B[0m\u001B[1;33m)\u001B[0m\u001B[1;33m)\u001B[0m\u001B[1;33m)\u001B[0m\u001B[1;33m\u001B[0m\u001B[1;33m\u001B[0m\u001B[0m\n\u001B[0m\u001B[0;32m    115\u001B[0m \u001B[1;33m\u001B[0m\u001B[0m\n\u001B[0;32m    116\u001B[0m     \u001B[1;32mif\u001B[0m \u001B[0m_is_numpy\u001B[0m\u001B[1;33m(\u001B[0m\u001B[0mpic\u001B[0m\u001B[1;33m)\u001B[0m \u001B[1;32mand\u001B[0m \u001B[1;32mnot\u001B[0m \u001B[0m_is_numpy_image\u001B[0m\u001B[1;33m(\u001B[0m\u001B[0mpic\u001B[0m\u001B[1;33m)\u001B[0m\u001B[1;33m:\u001B[0m\u001B[1;33m\u001B[0m\u001B[1;33m\u001B[0m\u001B[0m\n",
      "\u001B[1;31mTypeError\u001B[0m: pic should be PIL Image or ndarray. Got <class 'torch.Tensor'>"
     ]
    }
   ],
   "source": [
    "trans(x).shape"
   ],
   "metadata": {
    "collapsed": false,
    "pycharm": {
     "name": "#%%\n"
    }
   }
  },
  {
   "cell_type": "code",
   "execution_count": 29,
   "outputs": [
    {
     "data": {
      "text/plain": "torch.Size([10, 128, 128, 3])"
     },
     "execution_count": 29,
     "metadata": {},
     "output_type": "execute_result"
    }
   ],
   "source": [
    "x.shape"
   ],
   "metadata": {
    "collapsed": false,
    "pycharm": {
     "name": "#%%\n"
    }
   }
  },
  {
   "cell_type": "code",
   "execution_count": null,
   "outputs": [],
   "source": [],
   "metadata": {
    "collapsed": false,
    "pycharm": {
     "name": "#%%\n"
    }
   }
  },
  {
   "cell_type": "code",
   "execution_count": null,
   "outputs": [],
   "source": [],
   "metadata": {
    "collapsed": false,
    "pycharm": {
     "name": "#%%\n"
    }
   }
  },
  {
   "cell_type": "code",
   "execution_count": 3,
   "outputs": [],
   "source": [
    "folder = \"F:/GitHub/anomaly-detection/dataset/kaggle1/no/normal\"\n",
    "import os\n",
    "import cv2\n",
    "\n",
    "item=0\n",
    "\n",
    "img_list  =  os.listdir(folder)\n",
    "img_dir = os.path.join(folder,img_list[item])\n",
    "img = cv2.imread(img_dir)\n",
    "img = cv2.cvtColor(img, cv2.COLOR_BGR2GRAY)\n",
    "img = cv2.resize(img, (128,128))"
   ],
   "metadata": {
    "collapsed": false,
    "pycharm": {
     "name": "#%%\n"
    }
   }
  },
  {
   "cell_type": "code",
   "execution_count": null,
   "outputs": [],
   "source": [
    "def load_images(folder):\n",
    "\n",
    "    imgs = []\n",
    "    target = 1\n",
    "    labels = []\n",
    "    for i in os.listdir(folder):\n",
    "        img_dir = os.path.join(folder,i)\n",
    "        try:\n",
    "            img = cv2.imread(img_dir)\n",
    "            img = cv2.cvtColor(img, cv2.COLOR_BGR2GRAY)\n",
    "            img = cv2.resize(img, (128,128))\n",
    "            imgs.append(img)\n",
    "            labels.append(target)\n",
    "        except:\n",
    "            continue\n",
    "\n",
    "    imgs = np.array(imgs)\n",
    "    labels = np.array(labels)\n",
    "\n",
    "    return imgs, labels"
   ],
   "metadata": {
    "collapsed": false,
    "pycharm": {
     "name": "#%%\n"
    }
   }
  },
  {
   "cell_type": "code",
   "execution_count": null,
   "outputs": [],
   "source": [
    "folder = \"F:/GitHub/anomaly-detection/dataset/kaggle1/no/normal\"\n",
    "img_list = os.listdir(folder)\n",
    "img_dir = os.path.join(folder,img_list[item])\n",
    "img = np.float64(io.imread(img_dir))\n",
    "#img = transform.resize(img, 128)\n",
    "#img = img.reshape((1,)+128)\n",
    "img = (img-np.mean(img))/np.max(np.abs(img))\n",
    "img = torch.FloatTensor(img)"
   ],
   "metadata": {
    "collapsed": false,
    "pycharm": {
     "name": "#%%\n"
    }
   }
  },
  {
   "cell_type": "code",
   "execution_count": null,
   "outputs": [],
   "source": [
    "import skimage.io as io\n",
    "import numpy as np\n",
    "\n",
    "item = 0\n",
    "#folder = \"./../dataset/kaggle1/no/normal\"\n",
    "folder = \"F:/GitHub/anomaly-detection/dataset/kaggle1/no/normal\"\n",
    "img_list = os.listdir(folder)\n",
    "img_dir = os.path.join(folder,img_list[item])\n",
    "img = np.float64(io.imread(img_dir))"
   ],
   "metadata": {
    "collapsed": false,
    "pycharm": {
     "name": "#%%\n"
    }
   }
  },
  {
   "cell_type": "code",
   "execution_count": 18,
   "outputs": [],
   "source": [
    "class CustomDataset(Dataset):\n",
    "    def __init__(self, root:str, transform=None):\n",
    "        super(CustomDataset, self).__init__()\n",
    "\n",
    "        self.root = root\n",
    "        self.img_list = os.listdir(root)\n",
    "        self.transform = transform\n",
    "\n",
    "    def __getitem__(self, item):\n",
    "        img_dir = os.path.join(self.root ,self.img_list[item])\n",
    "        img = np.float64(io.imread(img_dir))\n",
    "        img = cv2.cvtColor(img, cv2.COLOR_BGR2GRAY)\n",
    "        img = cv2.resize(img, (128,128))\n",
    "\n",
    "        return img\n",
    "\n",
    "    def __len__(self):\n",
    "        return len(self.img_list)"
   ],
   "metadata": {
    "collapsed": false,
    "pycharm": {
     "name": "#%%\n"
    }
   }
  },
  {
   "cell_type": "code",
   "execution_count": 19,
   "outputs": [],
   "source": [
    "folder = \"F:/GitHub/anomaly-detection/dataset/kaggle1/no/normal\"\n",
    "\n",
    "dataset = CustomDataset(folder)\n",
    "train_loader = DataLoader(dataset, batch_size= 10)"
   ],
   "metadata": {
    "collapsed": false,
    "pycharm": {
     "name": "#%%\n"
    }
   }
  },
  {
   "cell_type": "code",
   "execution_count": 20,
   "outputs": [
    {
     "ename": "error",
     "evalue": "OpenCV(4.5.5) d:\\a\\opencv-python\\opencv-python\\opencv\\modules\\imgproc\\src\\color.simd_helpers.hpp:94: error: (-2:Unspecified error) in function '__cdecl cv::impl::`anonymous-namespace'::CvtHelper<struct cv::impl::`anonymous namespace'::Set<3,4,-1>,struct cv::impl::A0x7123906f::Set<1,-1,-1>,struct cv::impl::A0x7123906f::Set<0,2,5>,2>::CvtHelper(const class cv::_InputArray &,const class cv::_OutputArray &,int)'\n> Unsupported depth of input image:\n>     'VDepth::contains(depth)'\n> where\n>     'depth' is 6 (CV_64F)\n",
     "output_type": "error",
     "traceback": [
      "\u001B[1;31m---------------------------------------------------------------------------\u001B[0m",
      "\u001B[1;31merror\u001B[0m                                     Traceback (most recent call last)",
      "\u001B[1;32m~\\AppData\\Local\\Temp/ipykernel_16248/1043734251.py\u001B[0m in \u001B[0;36m<module>\u001B[1;34m\u001B[0m\n\u001B[1;32m----> 1\u001B[1;33m \u001B[1;32mfor\u001B[0m \u001B[0mi\u001B[0m\u001B[1;33m,\u001B[0m \u001B[0mx\u001B[0m \u001B[1;32min\u001B[0m \u001B[0menumerate\u001B[0m\u001B[1;33m(\u001B[0m\u001B[0mtrain_loader\u001B[0m\u001B[1;33m,\u001B[0m\u001B[1;36m1\u001B[0m\u001B[1;33m)\u001B[0m\u001B[1;33m:\u001B[0m\u001B[1;33m\u001B[0m\u001B[1;33m\u001B[0m\u001B[0m\n\u001B[0m\u001B[0;32m      2\u001B[0m     \u001B[0mx\u001B[0m\u001B[1;33m=\u001B[0m\u001B[0mx\u001B[0m\u001B[1;33m\u001B[0m\u001B[1;33m\u001B[0m\u001B[0m\n\u001B[0;32m      3\u001B[0m     \u001B[1;32mbreak\u001B[0m\u001B[1;33m\u001B[0m\u001B[1;33m\u001B[0m\u001B[0m\n",
      "\u001B[1;32mB:\\Anaconda_install_path\\envs\\deeplearning\\lib\\site-packages\\torch\\utils\\data\\dataloader.py\u001B[0m in \u001B[0;36m__next__\u001B[1;34m(self)\u001B[0m\n\u001B[0;32m    519\u001B[0m             \u001B[1;32mif\u001B[0m \u001B[0mself\u001B[0m\u001B[1;33m.\u001B[0m\u001B[0m_sampler_iter\u001B[0m \u001B[1;32mis\u001B[0m \u001B[1;32mNone\u001B[0m\u001B[1;33m:\u001B[0m\u001B[1;33m\u001B[0m\u001B[1;33m\u001B[0m\u001B[0m\n\u001B[0;32m    520\u001B[0m                 \u001B[0mself\u001B[0m\u001B[1;33m.\u001B[0m\u001B[0m_reset\u001B[0m\u001B[1;33m(\u001B[0m\u001B[1;33m)\u001B[0m\u001B[1;33m\u001B[0m\u001B[1;33m\u001B[0m\u001B[0m\n\u001B[1;32m--> 521\u001B[1;33m             \u001B[0mdata\u001B[0m \u001B[1;33m=\u001B[0m \u001B[0mself\u001B[0m\u001B[1;33m.\u001B[0m\u001B[0m_next_data\u001B[0m\u001B[1;33m(\u001B[0m\u001B[1;33m)\u001B[0m\u001B[1;33m\u001B[0m\u001B[1;33m\u001B[0m\u001B[0m\n\u001B[0m\u001B[0;32m    522\u001B[0m             \u001B[0mself\u001B[0m\u001B[1;33m.\u001B[0m\u001B[0m_num_yielded\u001B[0m \u001B[1;33m+=\u001B[0m \u001B[1;36m1\u001B[0m\u001B[1;33m\u001B[0m\u001B[1;33m\u001B[0m\u001B[0m\n\u001B[0;32m    523\u001B[0m             \u001B[1;32mif\u001B[0m \u001B[0mself\u001B[0m\u001B[1;33m.\u001B[0m\u001B[0m_dataset_kind\u001B[0m \u001B[1;33m==\u001B[0m \u001B[0m_DatasetKind\u001B[0m\u001B[1;33m.\u001B[0m\u001B[0mIterable\u001B[0m \u001B[1;32mand\u001B[0m\u001B[0;31m \u001B[0m\u001B[0;31m\\\u001B[0m\u001B[1;33m\u001B[0m\u001B[1;33m\u001B[0m\u001B[0m\n",
      "\u001B[1;32mB:\\Anaconda_install_path\\envs\\deeplearning\\lib\\site-packages\\torch\\utils\\data\\dataloader.py\u001B[0m in \u001B[0;36m_next_data\u001B[1;34m(self)\u001B[0m\n\u001B[0;32m    559\u001B[0m     \u001B[1;32mdef\u001B[0m \u001B[0m_next_data\u001B[0m\u001B[1;33m(\u001B[0m\u001B[0mself\u001B[0m\u001B[1;33m)\u001B[0m\u001B[1;33m:\u001B[0m\u001B[1;33m\u001B[0m\u001B[1;33m\u001B[0m\u001B[0m\n\u001B[0;32m    560\u001B[0m         \u001B[0mindex\u001B[0m \u001B[1;33m=\u001B[0m \u001B[0mself\u001B[0m\u001B[1;33m.\u001B[0m\u001B[0m_next_index\u001B[0m\u001B[1;33m(\u001B[0m\u001B[1;33m)\u001B[0m  \u001B[1;31m# may raise StopIteration\u001B[0m\u001B[1;33m\u001B[0m\u001B[1;33m\u001B[0m\u001B[0m\n\u001B[1;32m--> 561\u001B[1;33m         \u001B[0mdata\u001B[0m \u001B[1;33m=\u001B[0m \u001B[0mself\u001B[0m\u001B[1;33m.\u001B[0m\u001B[0m_dataset_fetcher\u001B[0m\u001B[1;33m.\u001B[0m\u001B[0mfetch\u001B[0m\u001B[1;33m(\u001B[0m\u001B[0mindex\u001B[0m\u001B[1;33m)\u001B[0m  \u001B[1;31m# may raise StopIteration\u001B[0m\u001B[1;33m\u001B[0m\u001B[1;33m\u001B[0m\u001B[0m\n\u001B[0m\u001B[0;32m    562\u001B[0m         \u001B[1;32mif\u001B[0m \u001B[0mself\u001B[0m\u001B[1;33m.\u001B[0m\u001B[0m_pin_memory\u001B[0m\u001B[1;33m:\u001B[0m\u001B[1;33m\u001B[0m\u001B[1;33m\u001B[0m\u001B[0m\n\u001B[0;32m    563\u001B[0m             \u001B[0mdata\u001B[0m \u001B[1;33m=\u001B[0m \u001B[0m_utils\u001B[0m\u001B[1;33m.\u001B[0m\u001B[0mpin_memory\u001B[0m\u001B[1;33m.\u001B[0m\u001B[0mpin_memory\u001B[0m\u001B[1;33m(\u001B[0m\u001B[0mdata\u001B[0m\u001B[1;33m)\u001B[0m\u001B[1;33m\u001B[0m\u001B[1;33m\u001B[0m\u001B[0m\n",
      "\u001B[1;32mB:\\Anaconda_install_path\\envs\\deeplearning\\lib\\site-packages\\torch\\utils\\data\\_utils\\fetch.py\u001B[0m in \u001B[0;36mfetch\u001B[1;34m(self, possibly_batched_index)\u001B[0m\n\u001B[0;32m     47\u001B[0m     \u001B[1;32mdef\u001B[0m \u001B[0mfetch\u001B[0m\u001B[1;33m(\u001B[0m\u001B[0mself\u001B[0m\u001B[1;33m,\u001B[0m \u001B[0mpossibly_batched_index\u001B[0m\u001B[1;33m)\u001B[0m\u001B[1;33m:\u001B[0m\u001B[1;33m\u001B[0m\u001B[1;33m\u001B[0m\u001B[0m\n\u001B[0;32m     48\u001B[0m         \u001B[1;32mif\u001B[0m \u001B[0mself\u001B[0m\u001B[1;33m.\u001B[0m\u001B[0mauto_collation\u001B[0m\u001B[1;33m:\u001B[0m\u001B[1;33m\u001B[0m\u001B[1;33m\u001B[0m\u001B[0m\n\u001B[1;32m---> 49\u001B[1;33m             \u001B[0mdata\u001B[0m \u001B[1;33m=\u001B[0m \u001B[1;33m[\u001B[0m\u001B[0mself\u001B[0m\u001B[1;33m.\u001B[0m\u001B[0mdataset\u001B[0m\u001B[1;33m[\u001B[0m\u001B[0midx\u001B[0m\u001B[1;33m]\u001B[0m \u001B[1;32mfor\u001B[0m \u001B[0midx\u001B[0m \u001B[1;32min\u001B[0m \u001B[0mpossibly_batched_index\u001B[0m\u001B[1;33m]\u001B[0m\u001B[1;33m\u001B[0m\u001B[1;33m\u001B[0m\u001B[0m\n\u001B[0m\u001B[0;32m     50\u001B[0m         \u001B[1;32melse\u001B[0m\u001B[1;33m:\u001B[0m\u001B[1;33m\u001B[0m\u001B[1;33m\u001B[0m\u001B[0m\n\u001B[0;32m     51\u001B[0m             \u001B[0mdata\u001B[0m \u001B[1;33m=\u001B[0m \u001B[0mself\u001B[0m\u001B[1;33m.\u001B[0m\u001B[0mdataset\u001B[0m\u001B[1;33m[\u001B[0m\u001B[0mpossibly_batched_index\u001B[0m\u001B[1;33m]\u001B[0m\u001B[1;33m\u001B[0m\u001B[1;33m\u001B[0m\u001B[0m\n",
      "\u001B[1;32mB:\\Anaconda_install_path\\envs\\deeplearning\\lib\\site-packages\\torch\\utils\\data\\_utils\\fetch.py\u001B[0m in \u001B[0;36m<listcomp>\u001B[1;34m(.0)\u001B[0m\n\u001B[0;32m     47\u001B[0m     \u001B[1;32mdef\u001B[0m \u001B[0mfetch\u001B[0m\u001B[1;33m(\u001B[0m\u001B[0mself\u001B[0m\u001B[1;33m,\u001B[0m \u001B[0mpossibly_batched_index\u001B[0m\u001B[1;33m)\u001B[0m\u001B[1;33m:\u001B[0m\u001B[1;33m\u001B[0m\u001B[1;33m\u001B[0m\u001B[0m\n\u001B[0;32m     48\u001B[0m         \u001B[1;32mif\u001B[0m \u001B[0mself\u001B[0m\u001B[1;33m.\u001B[0m\u001B[0mauto_collation\u001B[0m\u001B[1;33m:\u001B[0m\u001B[1;33m\u001B[0m\u001B[1;33m\u001B[0m\u001B[0m\n\u001B[1;32m---> 49\u001B[1;33m             \u001B[0mdata\u001B[0m \u001B[1;33m=\u001B[0m \u001B[1;33m[\u001B[0m\u001B[0mself\u001B[0m\u001B[1;33m.\u001B[0m\u001B[0mdataset\u001B[0m\u001B[1;33m[\u001B[0m\u001B[0midx\u001B[0m\u001B[1;33m]\u001B[0m \u001B[1;32mfor\u001B[0m \u001B[0midx\u001B[0m \u001B[1;32min\u001B[0m \u001B[0mpossibly_batched_index\u001B[0m\u001B[1;33m]\u001B[0m\u001B[1;33m\u001B[0m\u001B[1;33m\u001B[0m\u001B[0m\n\u001B[0m\u001B[0;32m     50\u001B[0m         \u001B[1;32melse\u001B[0m\u001B[1;33m:\u001B[0m\u001B[1;33m\u001B[0m\u001B[1;33m\u001B[0m\u001B[0m\n\u001B[0;32m     51\u001B[0m             \u001B[0mdata\u001B[0m \u001B[1;33m=\u001B[0m \u001B[0mself\u001B[0m\u001B[1;33m.\u001B[0m\u001B[0mdataset\u001B[0m\u001B[1;33m[\u001B[0m\u001B[0mpossibly_batched_index\u001B[0m\u001B[1;33m]\u001B[0m\u001B[1;33m\u001B[0m\u001B[1;33m\u001B[0m\u001B[0m\n",
      "\u001B[1;32m~\\AppData\\Local\\Temp/ipykernel_16248/2117248358.py\u001B[0m in \u001B[0;36m__getitem__\u001B[1;34m(self, item)\u001B[0m\n\u001B[0;32m     10\u001B[0m         \u001B[0mimg_dir\u001B[0m \u001B[1;33m=\u001B[0m \u001B[0mos\u001B[0m\u001B[1;33m.\u001B[0m\u001B[0mpath\u001B[0m\u001B[1;33m.\u001B[0m\u001B[0mjoin\u001B[0m\u001B[1;33m(\u001B[0m\u001B[0mself\u001B[0m\u001B[1;33m.\u001B[0m\u001B[0mroot\u001B[0m \u001B[1;33m,\u001B[0m\u001B[0mself\u001B[0m\u001B[1;33m.\u001B[0m\u001B[0mimg_list\u001B[0m\u001B[1;33m[\u001B[0m\u001B[0mitem\u001B[0m\u001B[1;33m]\u001B[0m\u001B[1;33m)\u001B[0m\u001B[1;33m\u001B[0m\u001B[1;33m\u001B[0m\u001B[0m\n\u001B[0;32m     11\u001B[0m         \u001B[0mimg\u001B[0m \u001B[1;33m=\u001B[0m \u001B[0mnp\u001B[0m\u001B[1;33m.\u001B[0m\u001B[0mfloat64\u001B[0m\u001B[1;33m(\u001B[0m\u001B[0mio\u001B[0m\u001B[1;33m.\u001B[0m\u001B[0mimread\u001B[0m\u001B[1;33m(\u001B[0m\u001B[0mimg_dir\u001B[0m\u001B[1;33m)\u001B[0m\u001B[1;33m)\u001B[0m\u001B[1;33m\u001B[0m\u001B[1;33m\u001B[0m\u001B[0m\n\u001B[1;32m---> 12\u001B[1;33m         \u001B[0mimg\u001B[0m \u001B[1;33m=\u001B[0m \u001B[0mcv2\u001B[0m\u001B[1;33m.\u001B[0m\u001B[0mcvtColor\u001B[0m\u001B[1;33m(\u001B[0m\u001B[0mimg\u001B[0m\u001B[1;33m,\u001B[0m \u001B[0mcv2\u001B[0m\u001B[1;33m.\u001B[0m\u001B[0mCOLOR_BGR2GRAY\u001B[0m\u001B[1;33m)\u001B[0m\u001B[1;33m\u001B[0m\u001B[1;33m\u001B[0m\u001B[0m\n\u001B[0m\u001B[0;32m     13\u001B[0m         \u001B[0mimg\u001B[0m \u001B[1;33m=\u001B[0m \u001B[0mcv2\u001B[0m\u001B[1;33m.\u001B[0m\u001B[0mresize\u001B[0m\u001B[1;33m(\u001B[0m\u001B[0mimg\u001B[0m\u001B[1;33m,\u001B[0m \u001B[1;33m(\u001B[0m\u001B[1;36m128\u001B[0m\u001B[1;33m,\u001B[0m\u001B[1;36m128\u001B[0m\u001B[1;33m)\u001B[0m\u001B[1;33m)\u001B[0m\u001B[1;33m\u001B[0m\u001B[1;33m\u001B[0m\u001B[0m\n\u001B[0;32m     14\u001B[0m \u001B[1;33m\u001B[0m\u001B[0m\n",
      "\u001B[1;31merror\u001B[0m: OpenCV(4.5.5) d:\\a\\opencv-python\\opencv-python\\opencv\\modules\\imgproc\\src\\color.simd_helpers.hpp:94: error: (-2:Unspecified error) in function '__cdecl cv::impl::`anonymous-namespace'::CvtHelper<struct cv::impl::`anonymous namespace'::Set<3,4,-1>,struct cv::impl::A0x7123906f::Set<1,-1,-1>,struct cv::impl::A0x7123906f::Set<0,2,5>,2>::CvtHelper(const class cv::_InputArray &,const class cv::_OutputArray &,int)'\n> Unsupported depth of input image:\n>     'VDepth::contains(depth)'\n> where\n>     'depth' is 6 (CV_64F)\n"
     ]
    }
   ],
   "source": [
    "for i, x in enumerate(train_loader,1):\n",
    "    x=x\n",
    "    break"
   ],
   "metadata": {
    "collapsed": false,
    "pycharm": {
     "name": "#%%\n"
    }
   }
  },
  {
   "cell_type": "code",
   "execution_count": 51,
   "outputs": [
    {
     "data": {
      "text/plain": "tensor(-2.1179)"
     },
     "execution_count": 51,
     "metadata": {},
     "output_type": "execute_result"
    }
   ],
   "source": [
    "x[0].min()"
   ],
   "metadata": {
    "collapsed": false,
    "pycharm": {
     "name": "#%%\n"
    }
   }
  },
  {
   "cell_type": "code",
   "execution_count": null,
   "outputs": [],
   "source": [
    "indx = list(range(num_data))\n",
    "\n",
    "train_sampler = SubsetRandomSampler(indx[:81])\n",
    "test_sampler = SubsetRandomSampler(indx[81:])"
   ],
   "metadata": {
    "pycharm": {
     "name": "#%%\n"
    },
    "id": "YDpqiwJq3eNi"
   }
  },
  {
   "cell_type": "code",
   "execution_count": null,
   "outputs": [],
   "source": [
    "dataset = Anomaly_Dataset(root_ds)\n",
    "train_loader = DataLoader(dataset, batch_size= batch_size, sampler=train_sampler)\n",
    "test_loader=DataLoader(dataset, batch_size= len(test_sampler), sampler=test_sampler)"
   ],
   "metadata": {
    "pycharm": {
     "name": "#%%\n"
    },
    "id": "hotEiqx5ZkP-"
   }
  },
  {
   "cell_type": "markdown",
   "source": [
    "### Loss"
   ],
   "metadata": {
    "collapsed": false,
    "id": "6lQZWKU1ZkP_"
   }
  },
  {
   "cell_type": "code",
   "execution_count": null,
   "outputs": [],
   "source": [
    "#os.environ['TORCH_HOME'] = './../pretrain_models'\n",
    "#vgg = vgg16(torchvision.models.VGG16_Weights).to(device)"
   ],
   "metadata": {
    "pycharm": {
     "name": "#%%\n"
    },
    "id": "3Hn0FeRj3eNl"
   }
  },
  {
   "cell_type": "code",
   "execution_count": null,
   "outputs": [],
   "source": [
    "#generator = Generator(init_size=8, latent_dim=100, channels=3).cuda()\n",
    "generator = Generator().to(device)\n",
    "#discriminator = Discriminator().to(device)"
   ],
   "metadata": {
    "pycharm": {
     "name": "#%%\n"
    },
    "id": "azAAKcamZkQA"
   }
  },
  {
   "cell_type": "code",
   "execution_count": null,
   "outputs": [],
   "source": [
    "adversarial_loss = nn.BCELoss()\n",
    "optimizer_G = optim.Adam(generator.parameters())\n",
    "optimizer_D = optim.Adam(discriminator.parameters())"
   ],
   "metadata": {
    "pycharm": {
     "name": "#%%\n"
    },
    "id": "abXabvRJZkQB"
   }
  },
  {
   "cell_type": "code",
   "execution_count": null,
   "outputs": [],
   "source": [
    "def weights_init_normal(m):\n",
    "    classname = m.__class__.__name__\n",
    "    if classname.find(\"Conv\") != -1:\n",
    "        nn.init.normal_(m.weight.data, 0.0, 0.02)\n",
    "    elif classname.find(\"BatchNorm2d\") != -1:\n",
    "        nn.init.normal_(m.weight.data, 1.0, 0.02)\n",
    "        nn.init.constant_(m.bias.data, 0.0)"
   ],
   "metadata": {
    "pycharm": {
     "name": "#%%\n"
    },
    "id": "aCaThx2fZkQD"
   }
  },
  {
   "cell_type": "code",
   "execution_count": null,
   "outputs": [],
   "source": [
    "#generator = generator.apply(weights_init_normal)\n",
    "#discriminator = discriminator.apply(weights_init_normal)"
   ],
   "metadata": {
    "pycharm": {
     "name": "#%%\n"
    },
    "id": "ZXNHgFsyZkQE"
   }
  },
  {
   "cell_type": "markdown",
   "source": [
    "### WGAN"
   ],
   "metadata": {
    "id": "8MehRCYjfhw0"
   }
  },
  {
   "cell_type": "code",
   "source": [
    "from torch.autograd import Variable\n",
    "Tensor = torch.cuda.FloatTensor # Cuda\n",
    "import torch.autograd as autograd\n",
    "\n",
    "def compute_gradient_penalty(discriminator, real_samples, fake_samples):\n",
    "    \"\"\"Calculates the gradient penalty loss for WGAN GP\"\"\"\n",
    "    # Random weight term for interpolation between real and fake samples\n",
    "    alpha = Tensor(np.random.random((real_samples.size(0), 1, 1, 1)))\n",
    "    # Get random interpolation between real and fake samples\n",
    "    interpolates = (alpha * real_samples + ((1 - alpha) * fake_samples)).requires_grad_(True)\n",
    "    d_interpolates = discriminator(interpolates)\n",
    "    fake = Variable(Tensor(real_samples.shape[0], 1).fill_(1.0), requires_grad=False)\n",
    "    # Get gradient w.r.t. interpolates\n",
    "    gradients = autograd.grad(\n",
    "        outputs=d_interpolates,\n",
    "        inputs=interpolates,\n",
    "        grad_outputs=fake,\n",
    "        create_graph=True,\n",
    "        retain_graph=True,\n",
    "        only_inputs=True,\n",
    "    )[0]\n",
    "    gradients = gradients.view(gradients.size(0), -1)\n",
    "    gradient_penalty = ((gradients.norm(2, dim=1) - 1) ** 2).mean()\n",
    "    return gradient_penalty"
   ],
   "metadata": {
    "id": "GgNeGW17hCAl"
   },
   "execution_count": null,
   "outputs": []
  },
  {
   "cell_type": "markdown",
   "source": [
    "### torch.load"
   ],
   "metadata": {
    "id": "Ku09V_YajUDV"
   }
  },
  {
   "cell_type": "code",
   "source": [
    "\"\"\"\n",
    "info = torch.load(root_last_model)\n",
    "generator.load_state_dict(info[\"state_dict_G\"])\n",
    "discriminator.load_state_dict(info[\"state_dict_D\"])\n",
    "optimizer_G.load_state_dict(info[\"optimizer_G\"])\n",
    "optimizer_D.load_state_dict(info[\"optimizer_D\"])\n",
    "init_epoch = info['epoch']\n",
    "\"\"\"\n",
    "\n",
    "init_epoch = 0\n",
    "device = 'cuda'\n",
    "discriminator = discriminator.cuda()"
   ],
   "metadata": {
    "id": "2kizNwLmi8gl"
   },
   "execution_count": null,
   "outputs": []
  },
  {
   "cell_type": "code",
   "source": [
    "\n",
    "for epoch in range(init_epoch, num_epochs+1):\n",
    "    total_G_loss = 0.0\n",
    "    total_D_loss = 0.0\n",
    "\n",
    "    # Load Train Data ##############################################\n",
    "    for i, (real_images, _) in enumerate(train_loader):\n",
    "\n",
    "        # Preprocessing ##############################################\n",
    "        real_images = real_images.unsqueeze(1).cuda()\n",
    "        real_images = real_images.repeat(1,3,1,1)\n",
    "\n",
    "\n",
    "        # Train Discriminator ########################################\n",
    "        z = torch.FloatTensor(np.random.normal(0, 1, (real_images.shape[0], latent_dim))).cuda()\n",
    "        gen_imgs = generator(z, 0)\n",
    "\n",
    "\n",
    "        optimizer_D.zero_grad()\n",
    "        real_validity = discriminator(real_images)\n",
    "        fake_validity = discriminator(gen_imgs.detach())\n",
    "        gradient_penalty = compute_gradient_penalty(discriminator, real_images, gen_imgs.detach())\n",
    "        d_loss_adv = -torch.mean(real_validity) + torch.mean(fake_validity) + lambda_gp * gradient_penalty\n",
    "\n",
    "\n",
    "        #d_loss_layers = discriminator_layers_loss(discriminator, vgg, real_images, lamda = 0.01)\n",
    "\n",
    "\n",
    "        d_loss = d_loss_adv #+ d_loss_layers\n",
    "        d_loss.backward()\n",
    "        optimizer_D.step()\n",
    "        total_D_loss += d_loss.cpu().detach().numpy()\n",
    "\n",
    "\n",
    "\n",
    "        # Train Generator ########################################\n",
    "        if i % n_critic == 0:\n",
    "            z = torch.FloatTensor(np.random.normal(0, 1, (real_images.shape[0], latent_dim))).cuda()\n",
    "            gen_imgs = generator(z, 0)\n",
    "\n",
    "            optimizer_G.zero_grad()\n",
    "            fake_validity = discriminator(gen_imgs)\n",
    "            g_loss_adv = -torch.mean(fake_validity)\n",
    "\n",
    "\n",
    "            g_loss = g_loss_adv\n",
    "            g_loss.backward(retain_graph=True)\n",
    "            optimizer_G.step()\n",
    "            total_G_loss += g_loss.cpu().detach().numpy()\n",
    "\n",
    "\n",
    "    # Load Test Data ##############################################\n",
    "    if epoch % sample_interval ==0:\n",
    "        for _, (real_images, _) in enumerate(test_loader):\n",
    "            # Preprocessing ##############################################\n",
    "            real_images = real_images.unsqueeze(1).cuda()\n",
    "            real_images = real_images.repeat(1,3,1,1)\n",
    "\n",
    "            z = torch.FloatTensor(np.random.normal(0, 1, (real_images.shape[0], latent_dim))).cuda()\n",
    "            gen_imgs = generator(z, 0)\n",
    "\n",
    "            # Visualization ##############################################\n",
    "            #show_tensor_images(gen_imgs)\n",
    "            #show_tensor_images(real_images)\n",
    "            num = math.floor(np.random.uniform(0, len(test_loader)))\n",
    "            ploter(real_images.detach().cpu()[num][0], gen_imgs.detach().cpu()[num][0])\n",
    "\n",
    "\n",
    "        # Losses ##############################################\n",
    "        print(\"[Epoch {}/{}] \\t[D loss: {:.3f}] \\t[G loss: {:.3f}]\".format(epoch, num_epochs, total_D_loss, total_G_loss))\n",
    "        # SAVE ##############################################\n",
    "        \"\"\"\n",
    "        torch.save({\"epoch\": epoch,\n",
    "        \"state_dict_G\": generator.state_dict(),\n",
    "        \"state_dict_D\": discriminator.state_dict(),\n",
    "        \"optimizer_G\": optimizer_G.state_dict(),\n",
    "        \"optimizer_D\": optimizer_D.state_dict()\n",
    "        }, root_save + f\"/epoch_{epoch}.pt\")\n",
    "        \"\"\""
   ],
   "metadata": {
    "id": "MPnvQM15fjaA"
   },
   "execution_count": null,
   "outputs": []
  },
  {
   "cell_type": "markdown",
   "source": [
    "### Vanila GAN"
   ],
   "metadata": {
    "id": "3xiQHgr4ff2l"
   }
  },
  {
   "cell_type": "code",
   "source": [
    "init_epoch = 0\n",
    "device = 'cuda'\n",
    "discriminator = discriminator.cuda()"
   ],
   "metadata": {
    "id": "5AP8LfgptgdC"
   },
   "execution_count": null,
   "outputs": []
  },
  {
   "cell_type": "code",
   "source": [
    "for epoch in range(init_epoch, num_epochs+1):\n",
    "    total_G_loss = 0.0\n",
    "    total_D_loss = 0.0\n",
    "\n",
    "    # Load Train Data ##############################################\n",
    "    for i, (real_images, _) in enumerate(train_loader):\n",
    "\n",
    "        # Preprocessing ##############################################\n",
    "        valid = torch.FloatTensor(real_images.shape[0], 1).fill_(1.0).to(device)\n",
    "        fake = torch.FloatTensor(real_images.shape[0], 1).fill_(0.0).to(device)\n",
    "        \n",
    "        real_images = real_images.unsqueeze(1).to(device)\n",
    "        real_images = real_images.repeat(1,3,1,1)\n",
    "\n",
    "\n",
    "        # Train Generator ########################################\n",
    "        optimizer_G.zero_grad()\n",
    "        z = torch.FloatTensor(np.random.normal(0, 1, (real_images.shape[0], latent_dim))).to(device)\n",
    "        gen_imgs = generator(z, 0)\n",
    "        g_loss_adv = adversarial_loss(discriminator(gen_imgs), valid)\n",
    "        \n",
    "        g_loss = g_loss_adv\n",
    "        g_loss.backward()\n",
    "        optimizer_G.step()\n",
    "        total_G_loss += g_loss.cpu().detach().numpy()\n",
    "\n",
    "\n",
    "\n",
    "        # Train Discriminator ########################################\n",
    "        for _ in range(1):\n",
    "          optimizer_D.zero_grad()\n",
    "          discriminator_opinion_real = discriminator(real_images)\n",
    "          discriminator_opinion_fake = discriminator(gen_imgs.detach())\n",
    "          real_loss = adversarial_loss(discriminator_opinion_real, valid)\n",
    "          fake_loss = adversarial_loss(discriminator_opinion_fake, fake)\n",
    "\n",
    "          d_loss_adv = (real_loss + fake_loss) / 2\n",
    "\n",
    "          #d_loss_layers = discriminator_layers_loss(discriminator, vgg, real_images, lamda = 0.0)\n",
    "\n",
    "\n",
    "          d_loss = d_loss_adv #+ d_loss_layers\n",
    "          d_loss.backward()\n",
    "          optimizer_D.step()\n",
    "        total_D_loss += d_loss.cpu().detach().numpy()\n",
    "\n",
    "\n",
    "    # Load Test Data ##############################################\n",
    "    if epoch % sample_interval ==0:\n",
    "        for _, (real_images, _) in enumerate(test_loader):\n",
    "            # Preprocessing ##############################################\n",
    "            real_images = real_images.unsqueeze(1).to(device)\n",
    "            real_images = real_images.repeat(1,3,1,1)\n",
    "\n",
    "            z = torch.FloatTensor(np.random.normal(0, 1, (real_images.shape[0], latent_dim))).to(device)\n",
    "            gen_imgs = generator(z, 0)\n",
    "\n",
    "            # Visualization ##############################################\n",
    "            #show_tensor_images(gen_imgs)\n",
    "            #show_tensor_images(real_images)\n",
    "            num = math.floor(np.random.uniform(0, len(test_loader)))\n",
    "            ploter(real_images.detach().cpu()[num][0], gen_imgs.detach().cpu()[num][0])\n",
    "\n",
    "\n",
    "        # Losses ##############################################\n",
    "        print(\"[Epoch {}/{}] \\t[D loss: {:.3f}] \\t[G loss: {:.3f}]\".format(epoch, num_epochs, total_D_loss, total_G_loss))\n",
    "        # SAVE ##############################################\n",
    "\n",
    "        \"\"\"\n",
    "        torch.save({\"epoch\": epoch,\n",
    "        \"state_dict_G\": generator.state_dict(),\n",
    "        \"state_dict_D\": discriminator.state_dict(),\n",
    "        \"optimizer_G\": optimizer_G.state_dict(),\n",
    "        \"optimizer_D\": optimizer_D.state_dict()\n",
    "        }, root_save + f\"/epoch_{epoch}.pt\")\n",
    "        \"\"\""
   ],
   "metadata": {
    "id": "bOkRYmwIsFfD"
   },
   "execution_count": null,
   "outputs": []
  },
  {
   "cell_type": "markdown",
   "source": [
    "### End"
   ],
   "metadata": {
    "collapsed": false,
    "pycharm": {
     "name": "#%% md\n"
    },
    "id": "Y1y7yUm7ZkQI"
   }
  },
  {
   "cell_type": "code",
   "execution_count": 6,
   "outputs": [],
   "source": [
    "import numpy as np\n",
    "import torch\n",
    "import torch.nn as nn\n",
    "import torch.nn.functional as F\n",
    "from torchvision.transforms import Normalize\n",
    "import pickle\n",
    "\n",
    "from training.diffaug import DiffAugment\n",
    "from training.networks_stylegan2 import FullyConnectedLayer\n",
    "from pg_modules.blocks import conv2d, DownBlock, DownBlockPatch\n",
    "from pg_modules.projector import F_RandomProj\n",
    "from feature_networks.constants import VITS\n",
    "\n",
    "class SingleDisc(nn.Module):\n",
    "    def __init__(self, nc=None, ndf=None, start_sz=256, end_sz=8, head=None, patch=False):\n",
    "        super().__init__()\n",
    "\n",
    "        # midas channels\n",
    "        nfc_midas = {4: 512, 8: 512, 16: 256, 32: 128, 64: 64, 128: 64,\n",
    "                     256: 32, 512: 16, 1024: 8}\n",
    "\n",
    "        # interpolate for start sz that are not powers of two\n",
    "        if start_sz not in nfc_midas.keys():\n",
    "            sizes = np.array(list(nfc_midas.keys()))\n",
    "            start_sz = sizes[np.argmin(abs(sizes - start_sz))]\n",
    "        self.start_sz = start_sz\n",
    "\n",
    "        # if given ndf, allocate all layers with the same ndf\n",
    "        if ndf is None:\n",
    "            nfc = nfc_midas\n",
    "        else:\n",
    "            nfc = {k: ndf for k, v in nfc_midas.items()}\n",
    "\n",
    "        # for feature map discriminators with nfc not in nfc_midas\n",
    "        # this is the case for the pretrained backbone (midas.pretrained)\n",
    "        if nc is not None and head is None:\n",
    "            nfc[start_sz] = nc\n",
    "\n",
    "        layers = []\n",
    "\n",
    "        # Head if the initial input is the full modality\n",
    "        if head:\n",
    "            layers += [conv2d(nc, nfc[256], 3, 1, 1, bias=False),\n",
    "                       nn.LeakyReLU(0.2, inplace=True)]\n",
    "\n",
    "        # Down Blocks\n",
    "        DB = DownBlockPatch if patch else DownBlock\n",
    "        while start_sz > end_sz:\n",
    "            layers.append(DB(nfc[start_sz], nfc[start_sz//2]))\n",
    "            start_sz = start_sz // 2\n",
    "\n",
    "        layers.append(conv2d(nfc[end_sz], 1, 4, 1, 0, bias=False))\n",
    "        self.main = nn.Sequential(*layers)\n",
    "\n",
    "    def forward(self, x, c):\n",
    "        return self.main(x)\n",
    "\n",
    "class SingleDiscCond(nn.Module):\n",
    "    def __init__(self, nc=None, ndf=None, start_sz=256, end_sz=8, head=None, patch=False, c_dim=1000, cmap_dim=64, rand_embedding=False):\n",
    "        super().__init__()\n",
    "        self.cmap_dim = cmap_dim\n",
    "\n",
    "        # midas channels\n",
    "        nfc_midas = {4: 512, 8: 512, 16: 256, 32: 128, 64: 64, 128: 64,\n",
    "                     256: 32, 512: 16, 1024: 8}\n",
    "\n",
    "        # interpolate for start sz that are not powers of two\n",
    "        if start_sz not in nfc_midas.keys():\n",
    "            sizes = np.array(list(nfc_midas.keys()))\n",
    "            start_sz = sizes[np.argmin(abs(sizes - start_sz))]\n",
    "        self.start_sz = start_sz\n",
    "\n",
    "        # if given ndf, allocate all layers with the same ndf\n",
    "        if ndf is None:\n",
    "            nfc = nfc_midas\n",
    "        else:\n",
    "            nfc = {k: ndf for k, v in nfc_midas.items()}\n",
    "\n",
    "        # for feature map discriminators with nfc not in nfc_midas\n",
    "        # this is the case for the pretrained backbone (midas.pretrained)\n",
    "        if nc is not None and head is None:\n",
    "            nfc[start_sz] = nc\n",
    "\n",
    "        layers = []\n",
    "\n",
    "        # Head if the initial input is the full modality\n",
    "        if head:\n",
    "            layers += [conv2d(nc, nfc[256], 3, 1, 1, bias=False),\n",
    "                       nn.LeakyReLU(0.2, inplace=True)]\n",
    "\n",
    "        # Down Blocks\n",
    "        DB = DownBlockPatch if patch else DownBlock\n",
    "        while start_sz > end_sz:\n",
    "            layers.append(DB(nfc[start_sz],  nfc[start_sz//2]))\n",
    "            start_sz = start_sz // 2\n",
    "        self.main = nn.Sequential(*layers)\n",
    "\n",
    "        self.cls = conv2d(nfc[end_sz], self.cmap_dim, 4, 1, 0, bias=False)\n",
    "\n",
    "        # Pretrained Embeddings\n",
    "        embed_path = 'in_embeddings/tf_efficientnet_lite0.pkl'\n",
    "        with open(embed_path, 'rb') as f:\n",
    "            self.embed = pickle.Unpickler(f).load()['embed']\n",
    "        print(f'loaded imagenet embeddings from {embed_path}: {self.embed}')\n",
    "        if rand_embedding:\n",
    "            self.embed.__init__(num_embeddings=self.embed.num_embeddings, embedding_dim=self.embed.embedding_dim)\n",
    "            print(f'initialized embeddings with random weights')\n",
    "\n",
    "        self.embed_proj = FullyConnectedLayer(self.embed.embedding_dim, self.cmap_dim, activation='lrelu')\n",
    "\n",
    "    def forward(self, x, c):\n",
    "        h = self.main(x)\n",
    "        out = self.cls(h)\n",
    "\n",
    "        cmap = self.embed_proj(self.embed(c.argmax(1))).unsqueeze(-1).unsqueeze(-1)\n",
    "        out = (out * cmap).sum(dim=1, keepdim=True) * (1 / np.sqrt(self.cmap_dim))\n",
    "\n",
    "        return out\n",
    "\n",
    "class MultiScaleD(nn.Module):\n",
    "    def __init__(\n",
    "        self,\n",
    "        channels,\n",
    "        resolutions,\n",
    "        num_discs=4,\n",
    "        proj_type=2,  # 0 = no projection, 1 = cross channel mixing, 2 = cross scale mixing\n",
    "        cond=0,\n",
    "        patch=False,\n",
    "        **kwargs,\n",
    "    ):\n",
    "        super().__init__()\n",
    "\n",
    "        assert num_discs in [1, 2, 3, 4, 5]\n",
    "\n",
    "        # the first disc is on the lowest level of the backbone\n",
    "        self.disc_in_channels = channels[:num_discs]\n",
    "        self.disc_in_res = resolutions[:num_discs]\n",
    "        Disc = SingleDiscCond if cond else SingleDisc\n",
    "\n",
    "        mini_discs = []\n",
    "        for i, (cin, res) in enumerate(zip(self.disc_in_channels, self.disc_in_res)):\n",
    "            start_sz = res if not patch else 16\n",
    "            mini_discs += [str(i), Disc(nc=cin, start_sz=start_sz, end_sz=8, patch=patch)],\n",
    "\n",
    "        self.mini_discs = nn.ModuleDict(mini_discs)\n",
    "\n",
    "    def forward(self, features, c, rec=False):\n",
    "        all_logits = []\n",
    "        for k, disc in self.mini_discs.items():\n",
    "            all_logits.append(disc(features[k], c).view(features[k].size(0), -1))\n",
    "\n",
    "        all_logits = torch.cat(all_logits, dim=1)\n",
    "        return all_logits\n",
    "\n",
    "class ProjectedDiscriminator(torch.nn.Module):\n",
    "    def __init__(\n",
    "        self,\n",
    "        backbones,\n",
    "        diffaug=True,\n",
    "        interp224=True,\n",
    "        backbone_kwargs={},\n",
    "        **kwargs\n",
    "    ):\n",
    "        super().__init__()\n",
    "        self.backbones = backbones\n",
    "        self.diffaug = diffaug\n",
    "        self.interp224 = interp224\n",
    "\n",
    "        # get backbones and multi-scale discs\n",
    "        feature_networks, discriminators = [], []\n",
    "\n",
    "        for i, bb_name in enumerate(backbones):\n",
    "\n",
    "            feat = F_RandomProj(bb_name, **backbone_kwargs)\n",
    "            disc = MultiScaleD(\n",
    "                channels=feat.CHANNELS,\n",
    "                resolutions=feat.RESOLUTIONS,\n",
    "                **backbone_kwargs,\n",
    "            )\n",
    "\n",
    "            feature_networks.append([bb_name, feat])\n",
    "            discriminators.append([bb_name, disc])\n",
    "\n",
    "        self.feature_networks = nn.ModuleDict(feature_networks)\n",
    "        self.discriminators = nn.ModuleDict(discriminators)\n",
    "\n",
    "    def train(self, mode=True):\n",
    "        self.feature_networks = self.feature_networks.train(False)\n",
    "        self.discriminators = self.discriminators.train(mode)\n",
    "        return self\n",
    "\n",
    "    def eval(self):\n",
    "        return self.train(False)\n",
    "\n",
    "    def forward(self, x, c):\n",
    "        logits = []\n",
    "\n",
    "        for bb_name, feat in self.feature_networks.items():\n",
    "\n",
    "            # apply augmentation (x in [-1, 1])\n",
    "            x_aug = DiffAugment(x, policy='color,translation,cutout') if self.diffaug else x\n",
    "\n",
    "            # transform to [0,1]\n",
    "            x_aug = x_aug.add(1).div(2)\n",
    "\n",
    "            # apply F-specific normalization\n",
    "            x_n = Normalize(feat.normstats['mean'], feat.normstats['std'])(x_aug)\n",
    "\n",
    "            # upsample if smaller, downsample if larger + VIT\n",
    "            if self.interp224 or bb_name in VITS:\n",
    "                x_n = F.interpolate(x_n, 224, mode='bilinear', align_corners=False)\n",
    "\n",
    "            # forward pass\n",
    "            features = feat(x_n)\n",
    "            logits += self.discriminators[bb_name](features, c)\n",
    "\n",
    "        return logits"
   ],
   "metadata": {
    "collapsed": false,
    "pycharm": {
     "name": "#%%\n"
    }
   }
  },
  {
   "cell_type": "code",
   "execution_count": 9,
   "outputs": [
    {
     "ename": "NotImplementedError",
     "evalue": "",
     "output_type": "error",
     "traceback": [
      "\u001B[1;31m---------------------------------------------------------------------------\u001B[0m",
      "\u001B[1;31mNotImplementedError\u001B[0m                       Traceback (most recent call last)",
      "\u001B[1;32m~\\AppData\\Local\\Temp/ipykernel_15076/813468524.py\u001B[0m in \u001B[0;36m<module>\u001B[1;34m\u001B[0m\n\u001B[1;32m----> 1\u001B[1;33m \u001B[0mProjectedDiscriminator\u001B[0m\u001B[1;33m(\u001B[0m\u001B[1;34m'tf_efficientnet_lite0'\u001B[0m\u001B[1;33m)\u001B[0m\u001B[1;33m\u001B[0m\u001B[1;33m\u001B[0m\u001B[0m\n\u001B[0m",
      "\u001B[1;32m~\\AppData\\Local\\Temp/ipykernel_15076/3794421584.py\u001B[0m in \u001B[0;36m__init__\u001B[1;34m(self, backbones, diffaug, interp224, backbone_kwargs, **kwargs)\u001B[0m\n\u001B[0;32m    172\u001B[0m         \u001B[1;32mfor\u001B[0m \u001B[0mi\u001B[0m\u001B[1;33m,\u001B[0m \u001B[0mbb_name\u001B[0m \u001B[1;32min\u001B[0m \u001B[0menumerate\u001B[0m\u001B[1;33m(\u001B[0m\u001B[0mbackbones\u001B[0m\u001B[1;33m)\u001B[0m\u001B[1;33m:\u001B[0m\u001B[1;33m\u001B[0m\u001B[1;33m\u001B[0m\u001B[0m\n\u001B[0;32m    173\u001B[0m \u001B[1;33m\u001B[0m\u001B[0m\n\u001B[1;32m--> 174\u001B[1;33m             \u001B[0mfeat\u001B[0m \u001B[1;33m=\u001B[0m \u001B[0mF_RandomProj\u001B[0m\u001B[1;33m(\u001B[0m\u001B[0mbb_name\u001B[0m\u001B[1;33m,\u001B[0m \u001B[1;33m**\u001B[0m\u001B[0mbackbone_kwargs\u001B[0m\u001B[1;33m)\u001B[0m\u001B[1;33m\u001B[0m\u001B[1;33m\u001B[0m\u001B[0m\n\u001B[0m\u001B[0;32m    175\u001B[0m             disc = MultiScaleD(\n\u001B[0;32m    176\u001B[0m                 \u001B[0mchannels\u001B[0m\u001B[1;33m=\u001B[0m\u001B[0mfeat\u001B[0m\u001B[1;33m.\u001B[0m\u001B[0mCHANNELS\u001B[0m\u001B[1;33m,\u001B[0m\u001B[1;33m\u001B[0m\u001B[1;33m\u001B[0m\u001B[0m\n",
      "\u001B[1;32mF:\\GitHub\\anomaly-detection\\codes\\ViT_Style\\pg_modules\\projector.py\u001B[0m in \u001B[0;36m__init__\u001B[1;34m(self, backbone, im_res, cout, expand, proj_type, **kwargs)\u001B[0m\n\u001B[0;32m    101\u001B[0m         \u001B[0mself\u001B[0m\u001B[1;33m.\u001B[0m\u001B[0mcout\u001B[0m \u001B[1;33m=\u001B[0m \u001B[0mcout\u001B[0m\u001B[1;33m\u001B[0m\u001B[1;33m\u001B[0m\u001B[0m\n\u001B[0;32m    102\u001B[0m         \u001B[0mself\u001B[0m\u001B[1;33m.\u001B[0m\u001B[0mexpand\u001B[0m \u001B[1;33m=\u001B[0m \u001B[0mexpand\u001B[0m\u001B[1;33m\u001B[0m\u001B[1;33m\u001B[0m\u001B[0m\n\u001B[1;32m--> 103\u001B[1;33m         \u001B[0mself\u001B[0m\u001B[1;33m.\u001B[0m\u001B[0mnormstats\u001B[0m \u001B[1;33m=\u001B[0m \u001B[0mget_backbone_normstats\u001B[0m\u001B[1;33m(\u001B[0m\u001B[0mbackbone\u001B[0m\u001B[1;33m)\u001B[0m\u001B[1;33m\u001B[0m\u001B[1;33m\u001B[0m\u001B[0m\n\u001B[0m\u001B[0;32m    104\u001B[0m \u001B[1;33m\u001B[0m\u001B[0m\n\u001B[0;32m    105\u001B[0m         \u001B[1;31m# build pretrained feature network and random decoder (scratch)\u001B[0m\u001B[1;33m\u001B[0m\u001B[1;33m\u001B[0m\u001B[0m\n",
      "\u001B[1;32mF:\\GitHub\\anomaly-detection\\codes\\ViT_Style\\pg_modules\\projector.py\u001B[0m in \u001B[0;36mget_backbone_normstats\u001B[1;34m(backbone)\u001B[0m\n\u001B[0;32m     27\u001B[0m \u001B[1;33m\u001B[0m\u001B[0m\n\u001B[0;32m     28\u001B[0m     \u001B[1;32melse\u001B[0m\u001B[1;33m:\u001B[0m\u001B[1;33m\u001B[0m\u001B[1;33m\u001B[0m\u001B[0m\n\u001B[1;32m---> 29\u001B[1;33m         \u001B[1;32mraise\u001B[0m \u001B[0mNotImplementedError\u001B[0m\u001B[1;33m\u001B[0m\u001B[1;33m\u001B[0m\u001B[0m\n\u001B[0m\u001B[0;32m     30\u001B[0m \u001B[1;33m\u001B[0m\u001B[0m\n\u001B[0;32m     31\u001B[0m \u001B[1;32mdef\u001B[0m \u001B[0m_make_scratch_ccm\u001B[0m\u001B[1;33m(\u001B[0m\u001B[0mscratch\u001B[0m\u001B[1;33m,\u001B[0m \u001B[0min_channels\u001B[0m\u001B[1;33m,\u001B[0m \u001B[0mcout\u001B[0m\u001B[1;33m,\u001B[0m \u001B[0mexpand\u001B[0m\u001B[1;33m=\u001B[0m\u001B[1;32mFalse\u001B[0m\u001B[1;33m)\u001B[0m\u001B[1;33m:\u001B[0m\u001B[1;33m\u001B[0m\u001B[1;33m\u001B[0m\u001B[0m\n",
      "\u001B[1;31mNotImplementedError\u001B[0m: "
     ]
    }
   ],
   "source": [
    "ProjectedDiscriminator('tf_efficientnet_lite0')"
   ],
   "metadata": {
    "collapsed": false,
    "pycharm": {
     "name": "#%%\n"
    }
   }
  },
  {
   "cell_type": "code",
   "execution_count": 4,
   "outputs": [
    {
     "ename": "ModuleNotFoundError",
     "evalue": "No module named 'ftfy'",
     "output_type": "error",
     "traceback": [
      "\u001B[1;31m---------------------------------------------------------------------------\u001B[0m",
      "\u001B[1;31mModuleNotFoundError\u001B[0m                       Traceback (most recent call last)",
      "\u001B[1;32m~\\AppData\\Local\\Temp/ipykernel_15076/724400791.py\u001B[0m in \u001B[0;36m<module>\u001B[1;34m\u001B[0m\n\u001B[1;32m----> 1\u001B[1;33m \u001B[1;32mimport\u001B[0m \u001B[0mftfy\u001B[0m\u001B[1;33m\u001B[0m\u001B[1;33m\u001B[0m\u001B[0m\n\u001B[0m",
      "\u001B[1;31mModuleNotFoundError\u001B[0m: No module named 'ftfy'"
     ]
    }
   ],
   "source": [
    "import ftfy"
   ],
   "metadata": {
    "collapsed": false,
    "pycharm": {
     "name": "#%%\n"
    }
   }
  },
  {
   "cell_type": "code",
   "execution_count": null,
   "outputs": [],
   "source": [],
   "metadata": {
    "collapsed": false,
    "pycharm": {
     "name": "#%%\n"
    }
   }
  }
 ],
 "metadata": {
  "kernelspec": {
   "display_name": "Python 3",
   "language": "python",
   "name": "python3"
  },
  "language_info": {
   "codemirror_mode": {
    "name": "ipython",
    "version": 2
   },
   "file_extension": ".py",
   "mimetype": "text/x-python",
   "name": "python",
   "nbconvert_exporter": "python",
   "pygments_lexer": "ipython2",
   "version": "2.7.6"
  },
  "colab": {
   "provenance": [],
   "toc_visible": true,
   "collapsed_sections": []
  },
  "accelerator": "GPU",
  "gpuClass": "standard"
 },
 "nbformat": 4,
 "nbformat_minor": 0
}