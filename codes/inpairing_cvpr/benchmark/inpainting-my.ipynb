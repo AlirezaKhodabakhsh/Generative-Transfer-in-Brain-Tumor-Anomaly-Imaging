{
 "cells": [
  {
   "cell_type": "markdown",
   "source": [
    "### libs"
   ],
   "metadata": {
    "collapsed": false
   }
  },
  {
   "cell_type": "code",
   "execution_count": 1,
   "metadata": {
    "collapsed": true
   },
   "outputs": [],
   "source": [
    "from torchvision.datasets import CelebA\n",
    "import os\n",
    "import torch.nn as nn\n",
    "import glob\n",
    "import os\n",
    "import torch\n",
    "from torch.utils.data import Dataset\n",
    "import numpy as np\n",
    "import pandas as pd\n",
    "from PIL import Image\n",
    "import matplotlib.pyplot as plt\n",
    "import os\n",
    "import torch\n",
    "import math\n",
    "# main libraries\n",
    "import os\n",
    "import numpy as np\n",
    "import matplotlib.pyplot as plt\n",
    "import torch\n",
    "from torch.utils.data import DataLoader\n",
    "from torch.utils.data import SubsetRandomSampler\n",
    "from torch.nn import functional as F\n",
    "from torch import nn\n",
    "from torch import optim\n",
    "import torchvision\n",
    "from torchvision import transforms, datasets\n",
    "from torch.utils.data import Dataset\n",
    "import math\n",
    "import torchvision.transforms.functional as TF\n",
    "import cv2\n",
    "from keras.utils import image_dataset_from_directory\n",
    "from torchvision import datasets, transforms\n",
    "from torch.utils.data import random_split\n",
    "from torch.nn.parameter import Parameter\n",
    "\n",
    "from torch.nn import init\n",
    "from torchvision.utils import make_grid\n",
    "from collections import OrderedDict\n",
    "\n",
    "import torch\n",
    "from torch.utils.data import Dataset\n",
    "\n",
    "from skimage import transform\n",
    "import skimage.io as io\n",
    "import numpy as np\n",
    "from torchvision.utils import save_image"
   ]
  },
  {
   "cell_type": "code",
   "execution_count": 75,
   "outputs": [],
   "source": [
    "import math\n",
    "import pdb\n",
    "import torch\n",
    "import torch.nn as nn\n",
    "import torch.nn.functional as F\n",
    "\n",
    "\n",
    "class Morphology(nn.Module):\n",
    "    '''\n",
    "    Base class for morpholigical operators\n",
    "    For now, only supports stride=1, dilation=1, kernel_size H==W, and padding='same'.\n",
    "    '''\n",
    "    def __init__(self, in_channels, out_channels, kernel_size=5, soft_max=True, beta=15, type=None):\n",
    "        '''\n",
    "        in_channels: scalar\n",
    "        out_channels: scalar, the number of the morphological neure.\n",
    "        kernel_size: scalar, the spatial size of the morphological neure.\n",
    "        soft_max: bool, using the soft max rather the torch.max(), ref: Dense Morphological Networks: An Universal Function Approximator (Mondal et al. (2019)).\n",
    "        beta: scalar, used by soft_max.\n",
    "        type: str, dilation2d or erosion2d.\n",
    "        '''\n",
    "        super(Morphology, self).__init__()\n",
    "        self.in_channels = in_channels\n",
    "        self.out_channels = out_channels\n",
    "        self.kernel_size = kernel_size\n",
    "        self.soft_max = soft_max\n",
    "        self.beta = beta\n",
    "        self.type = type\n",
    "\n",
    "        self.weight = nn.Parameter(torch.zeros(out_channels, in_channels, kernel_size, kernel_size), requires_grad=True)\n",
    "        self.unfold = nn.Unfold(kernel_size, dilation=1, padding=0, stride=1)\n",
    "\n",
    "    def forward(self, x):\n",
    "        '''\n",
    "        x: tensor of shape (B,C,H,W)\n",
    "        '''\n",
    "        # padding\n",
    "        x = fixed_padding(x, self.kernel_size, dilation=1)\n",
    "\n",
    "        # unfold\n",
    "        x = self.unfold(x)  # (B, Cin*kH*kW, L), where L is the numbers of patches\n",
    "        x = x.unsqueeze(1)  # (B, 1, Cin*kH*kW, L)\n",
    "        L = x.size(-1)\n",
    "        L_sqrt = int(math.sqrt(L))\n",
    "\n",
    "        # erosion\n",
    "        weight = self.weight.view(self.out_channels, -1) # (Cout, Cin*kH*kW)\n",
    "        weight = weight.unsqueeze(0).unsqueeze(-1)  # (1, Cout, Cin*kH*kW, 1)\n",
    "\n",
    "        if self.type == 'erosion2d':\n",
    "            x = weight - x # (B, Cout, Cin*kH*kW, L)\n",
    "        elif self.type == 'dilation2d':\n",
    "            x = weight + x # (B, Cout, Cin*kH*kW, L)\n",
    "        else:\n",
    "            raise ValueError\n",
    "\n",
    "        if not self.soft_max:\n",
    "            x, _ = torch.max(x, dim=2, keepdim=False) # (B, Cout, L)\n",
    "        else:\n",
    "            x = torch.logsumexp(x*self.beta, dim=2, keepdim=False) / self.beta # (B, Cout, L)\n",
    "\n",
    "        if self.type == 'erosion2d':\n",
    "            x = -1 * x\n",
    "\n",
    "        # instead of fold, we use view to avoid copy\n",
    "        x = x.view(-1, self.out_channels, L_sqrt, L_sqrt)  # (B, Cout, L/2, L/2)\n",
    "\n",
    "        return x\n",
    "\n",
    "class Dilation2d(Morphology):\n",
    "    def __init__(self, in_channels, out_channels, kernel_size=5, soft_max=True, beta=20):\n",
    "        super(Dilation2d, self).__init__(in_channels, out_channels, kernel_size, soft_max, beta, 'dilation2d')\n",
    "\n",
    "class Erosion2d(Morphology):\n",
    "    def __init__(self, in_channels, out_channels, kernel_size=5, soft_max=True, beta=20):\n",
    "        super(Erosion2d, self).__init__(in_channels, out_channels, kernel_size, soft_max, beta, 'erosion2d')\n",
    "\n",
    "\n",
    "\n",
    "def fixed_padding(inputs, kernel_size, dilation):\n",
    "    kernel_size_effective = kernel_size + (kernel_size - 1) * (dilation - 1)\n",
    "    pad_total = kernel_size_effective - 1\n",
    "    pad_beg = pad_total // 2\n",
    "    pad_end = pad_total - pad_beg\n",
    "    padded_inputs = F.pad(inputs, (pad_beg, pad_end, pad_beg, pad_end))\n",
    "    return padded_inputs\n",
    "\n",
    "\n",
    "if __name__ == '__main__':\n",
    "    # test\n",
    "    x=torch.randn(2,3,16,16)\n",
    "    e=Erosion2d(3, 4, 3, soft_max=False)\n",
    "    y=e(x)"
   ],
   "metadata": {
    "collapsed": false,
    "pycharm": {
     "name": "#%%\n"
    }
   }
  },
  {
   "cell_type": "markdown",
   "source": [
    "### Nets"
   ],
   "metadata": {
    "collapsed": false
   }
  },
  {
   "cell_type": "code",
   "execution_count": 2,
   "outputs": [],
   "source": [
    "class Generator(nn.Module):\n",
    "    def __init__(self, img_size, latent_dim, channels):\n",
    "        super(Generator, self).__init__()\n",
    "\n",
    "        self.init_size = img_size // 4\n",
    "        self.linear_layer = nn.Sequential(nn.Linear(latent_dim, 128 * self.init_size ** 2))\n",
    "\n",
    "        self.conv_layers = nn.Sequential(\n",
    "            nn.BatchNorm2d(128),\n",
    "            nn.Upsample(scale_factor=2),\n",
    "            nn.Conv2d(128, 128, 3, stride=1, padding=1),\n",
    "            nn.BatchNorm2d(128, 0.8),\n",
    "            nn.LeakyReLU(0.2, inplace=True),\n",
    "            nn.Upsample(scale_factor=2),\n",
    "            nn.Conv2d(128, 64, 3, stride=1, padding=1),\n",
    "            nn.BatchNorm2d(64, 0.8),\n",
    "            nn.LeakyReLU(0.2, inplace=True),\n",
    "            nn.Conv2d(64, channels, 3, stride=1, padding=1),\n",
    "            nn.Tanh(),\n",
    "        )\n",
    "\n",
    "    def forward(self, z):\n",
    "        out = self.linear_layer(z)\n",
    "        out = out.view(out.shape[0], 128, self.init_size, self.init_size)\n",
    "        image = self.conv_layers(out)\n",
    "        return image\n",
    "\n",
    "\n",
    "class Discriminator(nn.Module):\n",
    "    def __init__(self, channels, img_size):\n",
    "        super(Discriminator, self).__init__()\n",
    "\n",
    "        def discriminator_block(in_filters, out_filters, bn=True):\n",
    "            block = [nn.Conv2d(in_filters, out_filters, 3, 2, 1), nn.LeakyReLU(0.2, inplace=True), nn.Dropout2d(0.25)]\n",
    "            if bn:\n",
    "                block.append(nn.BatchNorm2d(out_filters, 0.8))\n",
    "            return block\n",
    "\n",
    "        self.conv_layers = nn.Sequential(\n",
    "            *discriminator_block(channels, 16, bn=False),\n",
    "            *discriminator_block(16, 32),\n",
    "            *discriminator_block(32, 64),\n",
    "            *discriminator_block(64, 128),\n",
    "        )\n",
    "\n",
    "        # self.ds_size = img_size // 2 ** 4 # for img_size = 96\n",
    "        self.ds_size = 2 # for img_size = 28\n",
    "        self.adverse_layer = nn.Sequential(nn.Linear(128 * self.ds_size ** 2, 1), nn.Sigmoid())\n",
    "\n",
    "    def forward(self, image):\n",
    "        out = self.conv_layers(image)\n",
    "        out = out.view(out.shape[0], -1)\n",
    "        validity = self.adverse_layer(out)\n",
    "        return validity"
   ],
   "metadata": {
    "collapsed": false,
    "pycharm": {
     "name": "#%%\n"
    }
   }
  },
  {
   "cell_type": "code",
   "execution_count": 3,
   "outputs": [],
   "source": [
    "class MaskClear(nn.Module):\n",
    "    def __init__(self, img_size):\n",
    "        super(MaskClear, self).__init__()\n",
    "\n",
    "        self.img_size = img_size\n",
    "\n",
    "        features = math.prod(img_size)\n",
    "        self.net = nn.Sequential(\n",
    "            nn.Linear(features, features),\n",
    "            nn.Sigmoid()\n",
    "        )\n",
    "\n",
    "    def forward(self, x):\n",
    "        x = self.net(\n",
    "                x.flatten(start_dim=1)\n",
    "            ).view((1, 1,) + self.img_size)\n",
    "        return x"
   ],
   "metadata": {
    "collapsed": false,
    "pycharm": {
     "name": "#%%\n"
    }
   }
  },
  {
   "cell_type": "code",
   "execution_count": 4,
   "outputs": [
    {
     "data": {
      "text/plain": "torch.Size([1, 1, 28, 28])"
     },
     "execution_count": 4,
     "metadata": {},
     "output_type": "execute_result"
    }
   ],
   "source": [
    "x = torch.ones((1,1,28,28)).cuda()\n",
    "m = MaskClear((28,28)).cuda()\n",
    "m(x).shape"
   ],
   "metadata": {
    "collapsed": false,
    "pycharm": {
     "name": "#%%\n"
    }
   }
  },
  {
   "cell_type": "markdown",
   "source": [
    "### Helper"
   ],
   "metadata": {
    "collapsed": false
   }
  },
  {
   "cell_type": "code",
   "execution_count": 151,
   "outputs": [],
   "source": [
    "def denoising(mask, kernel_size):\n",
    "    blurred_img = cv2.medianBlur(mask, 5)\n",
    "\n",
    "    kernel = np.ones((kernel_size,kernel_size))\n",
    "    erosion = cv2.erode(blurred_img, kernel, iterations=1)\n",
    "    output = cv2.dilate(erosion, kernel, iterations=1)\n",
    "\n",
    "    return output"
   ],
   "metadata": {
    "collapsed": false,
    "pycharm": {
     "name": "#%%\n"
    }
   }
  },
  {
   "cell_type": "code",
   "execution_count": 6,
   "outputs": [],
   "source": [
    "def back_mask(corrupted_images, generated_images, threshold=0.9):\n",
    "    mask_ = corrupted_images/generated_images\n",
    "    mask = 1-mask_\n",
    "    mask [mask<threshold] = 0\n",
    "    #a = (corrupted_images - generated_images).abs()\n",
    "    mask = 1-mask\n",
    "    return mask"
   ],
   "metadata": {
    "collapsed": false,
    "pycharm": {
     "name": "#%%\n"
    }
   }
  },
  {
   "cell_type": "code",
   "execution_count": 7,
   "outputs": [],
   "source": [
    "def show_tensor_images(image_tensor, num_images=25, size=(1, 28, 28)):\n",
    "    '''\n",
    "    Function for visualizing images: Given a tensor of images, number of images, and\n",
    "    size per image, plots and prints the images in a uniform grid.\n",
    "    '''\n",
    "    image_unflat = image_tensor.detach().cpu().view(-1, *size)\n",
    "    image_grid = make_grid(image_unflat[:num_images], nrow=5)\n",
    "    plt.imshow(image_grid.permute(1, 2, 0).squeeze())\n",
    "    plt.show()"
   ],
   "metadata": {
    "collapsed": false,
    "pycharm": {
     "name": "#%%\n"
    }
   }
  },
  {
   "cell_type": "code",
   "execution_count": 8,
   "outputs": [],
   "source": [
    "def ploter(corrupted_images, generated_images, original_images):\n",
    "    \"\"\"\n",
    "    (H, W)\n",
    "    \"\"\"\n",
    "    plt.figure()\n",
    "    plt.subplot(1,3,1)\n",
    "    #plt.imshow(image_hat, cmap='gray', vmin=-1, vmax=1)\n",
    "    plt.imshow(corrupted_images)\n",
    "    plt.tight_layout()\n",
    "    plt.title(\"corrupted\")\n",
    "\n",
    "    plt.subplot(1,3,2)\n",
    "    #plt.imshow(image, cmap='gray', vmin=-1, vmax=1)\n",
    "    plt.imshow(generated_images)\n",
    "    plt.tight_layout()\n",
    "    plt.title(\"generated\")\n",
    "\n",
    "    plt.subplot(1,3,3)\n",
    "    #plt.imshow(image, cmap='gray', vmin=-1, vmax=1)\n",
    "    plt.imshow(original_images)\n",
    "    plt.tight_layout()\n",
    "    plt.title(\"original\")\n",
    "\n",
    "    plt.show()"
   ],
   "metadata": {
    "collapsed": false,
    "pycharm": {
     "name": "#%%\n"
    }
   }
  },
  {
   "cell_type": "code",
   "execution_count": 9,
   "outputs": [],
   "source": [
    "def context_loss(corrupted_images, generated_images, masks, weighted=True):\n",
    "    return torch.sum(((corrupted_images-generated_images)**2)*masks)"
   ],
   "metadata": {
    "collapsed": false,
    "pycharm": {
     "name": "#%%\n"
    }
   }
  },
  {
   "cell_type": "code",
   "execution_count": 10,
   "outputs": [],
   "source": [
    "def get_weighted_mask(mask,window_size):\n",
    "    assert len(mask.shape) == 3\n",
    "    assert window_size % 2 == 1 # odd window size\n",
    "    max_shift = window_size//2\n",
    "    output = np.zeros_like(mask)\n",
    "    for i in range(-max_shift,max_shift+1):\n",
    "        for j in range(-max_shift,max_shift+1):\n",
    "            if i != 0 or j != 0:\n",
    "                output += np.roll(mask, (i,j), axis=(1,2))\n",
    "    output = 1 - output/(window_size**2-1)\n",
    "    return output*mask"
   ],
   "metadata": {
    "collapsed": false,
    "pycharm": {
     "name": "#%%\n"
    }
   }
  },
  {
   "cell_type": "code",
   "execution_count": 11,
   "outputs": [],
   "source": [
    "def get_weighted_mask(mask,window_size):\n",
    "    assert len(mask.shape) == 3\n",
    "    assert window_size % 2 == 1 # odd window size\n",
    "    max_shift = window_size//2\n",
    "    output = np.zeros_like(mask)\n",
    "    for i in range(-max_shift,max_shift+1):\n",
    "        for j in range(-max_shift,max_shift+1):\n",
    "            if i != 0 or j != 0:\n",
    "                output += np.roll(mask, (i,j), axis=(1,2))\n",
    "    output = 1 - output/(window_size**2-1)\n",
    "    return output*mask"
   ],
   "metadata": {
    "collapsed": false,
    "pycharm": {
     "name": "#%%\n"
    }
   }
  },
  {
   "cell_type": "markdown",
   "source": [
    "### Dataset"
   ],
   "metadata": {
    "collapsed": false
   }
  },
  {
   "cell_type": "code",
   "execution_count": 12,
   "outputs": [],
   "source": [
    "def get_index(class_num, dataset, mode:str):\n",
    "    if mode == 'train':\n",
    "        class_indx = torch.nonzero(\n",
    "                dataset.train_labels == class_num * torch.ones_like(dataset.train_labels)\n",
    "        )\n",
    "\n",
    "    if mode == 'test':\n",
    "        class_indx = torch.nonzero(\n",
    "                dataset.test_labels == class_num * torch.ones_like(dataset.test_labels)\n",
    "        )\n",
    "\n",
    "    class_indx = class_indx.squeeze(1)\n",
    "    return class_indx"
   ],
   "metadata": {
    "collapsed": false,
    "pycharm": {
     "name": "#%%\n"
    }
   }
  },
  {
   "cell_type": "code",
   "execution_count": 13,
   "outputs": [],
   "source": [
    "def mask_maker(image_size):\n",
    "\n",
    "    mask = np.ones(image_size,dtype=np.float32)\n",
    "    x = np.random.randint(image_size[0]//6,5*image_size[0]//6)\n",
    "    y = np.random.randint(image_size[1]//6,5*image_size[1]//6)\n",
    "    h = np.random.randint(image_size[0]//4,image_size[0]//2)\n",
    "    w = np.random.randint(image_size[1]//4,image_size[1]//2)\n",
    "    mask[max(0,x-h//2):min(image_size[0],x+h//2),max(0,y-w//2):min(image_size[1],y+w//2)] = 0\n",
    "\n",
    "    return mask"
   ],
   "metadata": {
    "collapsed": false,
    "pycharm": {
     "name": "#%%\n"
    }
   }
  },
  {
   "cell_type": "markdown",
   "source": [
    "### Hyperparameters"
   ],
   "metadata": {
    "collapsed": false
   }
  },
  {
   "cell_type": "code",
   "execution_count": 110,
   "outputs": [],
   "source": [
    "root_best_model = \"epoch220_disloss24.18_genloss52.93.pt\"\n",
    "\n",
    "window_size = 25 #??\n",
    "batch_size = 1\n",
    "num_sub = 1\n",
    "\n",
    "img_size = 28\n",
    "latent_dim = 100\n",
    "channels = 1\n",
    "\n",
    "optim_steps = 1000 # ???\n",
    "sample_interval = 100\n",
    "\n",
    "prior_weight = 0.003 # ???"
   ],
   "metadata": {
    "collapsed": false,
    "pycharm": {
     "name": "#%%\n"
    }
   }
  },
  {
   "cell_type": "markdown",
   "source": [
    "### Dataset"
   ],
   "metadata": {
    "collapsed": false
   }
  },
  {
   "cell_type": "code",
   "execution_count": 111,
   "outputs": [],
   "source": [
    "root_ds = \"./MNIST\""
   ],
   "metadata": {
    "collapsed": false,
    "pycharm": {
     "name": "#%%\n"
    }
   }
  },
  {
   "cell_type": "code",
   "execution_count": 126,
   "outputs": [],
   "source": [
    "trans=transforms.Compose([\n",
    "    transforms.ToTensor(),\n",
    "    transforms.ConvertImageDtype(torch.float),\n",
    "    transforms.Normalize((0.5,) , (0.5,))\n",
    "])\n",
    "\n",
    "test_data=datasets.MNIST(root=root_ds,\n",
    "                          train=False, transform=trans, download=True)"
   ],
   "metadata": {
    "collapsed": false,
    "pycharm": {
     "name": "#%%\n"
    }
   }
  },
  {
   "cell_type": "code",
   "execution_count": 127,
   "outputs": [],
   "source": [
    "test_sampler = SubsetRandomSampler(get_index(8, test_data, 'test'))\n",
    "test_loader=DataLoader(test_data, batch_size= 100, sampler=test_sampler)"
   ],
   "metadata": {
    "collapsed": false,
    "pycharm": {
     "name": "#%%\n"
    }
   }
  },
  {
   "cell_type": "code",
   "execution_count": 130,
   "outputs": [
    {
     "data": {
      "text/plain": "torch.Size([1, 1, 28, 28])"
     },
     "execution_count": 130,
     "metadata": {},
     "output_type": "execute_result"
    }
   ],
   "source": [
    "for original_images, _ in test_loader:\n",
    "    original_images=original_images\n",
    "    break\n",
    "original_images[0:1].shape"
   ],
   "metadata": {
    "collapsed": false,
    "pycharm": {
     "name": "#%%\n"
    }
   }
  },
  {
   "cell_type": "code",
   "execution_count": 131,
   "outputs": [
    {
     "data": {
      "text/plain": "<All keys matched successfully>"
     },
     "execution_count": 131,
     "metadata": {},
     "output_type": "execute_result"
    }
   ],
   "source": [
    "# Loading trained GAN model\n",
    "saved_gan = torch.load(root_best_model)\n",
    "\n",
    "generator = Generator(img_size=img_size, latent_dim=latent_dim, channels=channels).cuda()\n",
    "discriminator = Discriminator(channels=channels, img_size=img_size).cuda()\n",
    "\n",
    "generator.load_state_dict(saved_gan[\"state_dict_G\"])\n",
    "discriminator.load_state_dict(saved_gan[\"state_dict_D\"])"
   ],
   "metadata": {
    "collapsed": false,
    "pycharm": {
     "name": "#%%\n"
    }
   }
  },
  {
   "cell_type": "markdown",
   "source": [
    "### Corrupted Image"
   ],
   "metadata": {
    "collapsed": false
   }
  },
  {
   "cell_type": "code",
   "execution_count": 133,
   "outputs": [
    {
     "data": {
      "text/plain": "<matplotlib.image.AxesImage at 0x1398e12d820>"
     },
     "execution_count": 133,
     "metadata": {},
     "output_type": "execute_result"
    },
    {
     "data": {
      "text/plain": "<Figure size 432x288 with 1 Axes>",
      "image/png": "[encoded data removed]"
     },
     "metadata": {
      "needs_background": "light"
     },
     "output_type": "display_data"
    }
   ],
   "source": [
    "# mask = self.mask.reshape((1,)+self.mask.shape)\n",
    "#target_image[0][1-self.mask > 0.5] = np.max(target_image)\n",
    "mask = mask_maker((28,28))\n",
    "corrupted_images = original_images[0,0,:,:] * mask\n",
    "corrupted_images = corrupted_images.unsqueeze(0).unsqueeze(0)\n",
    "plt.imshow(corrupted_images[0][0])"
   ],
   "metadata": {
    "collapsed": false,
    "pycharm": {
     "name": "#%%\n"
    }
   }
  },
  {
   "cell_type": "markdown",
   "source": [
    "### Phase 1"
   ],
   "metadata": {
    "collapsed": false
   }
  },
  {
   "cell_type": "code",
   "execution_count": 186,
   "outputs": [],
   "source": [
    "z_optimum = nn.Parameter(torch.FloatTensor(np.random.normal(0, 1, (batch_size,latent_dim,))).cuda())\n",
    "optimizer_inpaint = optim.Adam([z_optimum])\n"
   ],
   "metadata": {
    "collapsed": false,
    "pycharm": {
     "name": "#%%\n"
    }
   }
  },
  {
   "cell_type": "code",
   "execution_count": 187,
   "outputs": [],
   "source": [
    "\n",
    "corrupted_images = corrupted_images.cuda()\n",
    "\n",
    "for epoch in range(20):\n",
    "    optimizer_inpaint.zero_grad()\n",
    "    generated_images = generator(z_optimum)\n",
    "    discriminator_opinion = discriminator(generated_images)\n",
    "    c_loss = torch.sum(((corrupted_images-generated_images)**2))\n",
    "    prior_loss = torch.sum(-torch.log(discriminator_opinion))\n",
    "    inpaint_loss = c_loss + prior_loss\n",
    "    inpaint_loss.backward()\n",
    "    optimizer_inpaint.step()"
   ],
   "metadata": {
    "collapsed": false,
    "pycharm": {
     "name": "#%%\n"
    }
   }
  },
  {
   "cell_type": "markdown",
   "source": [
    "### phase 2"
   ],
   "metadata": {
    "collapsed": false
   }
  },
  {
   "cell_type": "code",
   "execution_count": 188,
   "outputs": [
    {
     "data": {
      "text/plain": "'\\nmask_hat = back_mask(corrupted_images, generated_images, threshold=0.9)\\nblurred_img = torchvision.transforms.GaussianBlur(5)\\nerosion = Erosion2d(1,1,5).cuda()\\noutput = Dilation2d(1,1,5).cuda()\\nplt.imshow(q.detach().cpu()[0][0])\\n'"
     },
     "execution_count": 188,
     "metadata": {},
     "output_type": "execute_result"
    }
   ],
   "source": [
    "\"\"\"\n",
    "mask_hat = back_mask(corrupted_images, generated_images, threshold=0.9)\n",
    "blurred_img = torchvision.transforms.GaussianBlur(5)\n",
    "erosion = Erosion2d(1,1,5).cuda()\n",
    "output = Dilation2d(1,1,5).cuda()\n",
    "plt.imshow(q.detach().cpu()[0][0])\n",
    "\"\"\""
   ],
   "metadata": {
    "collapsed": false,
    "pycharm": {
     "name": "#%%\n"
    }
   }
  },
  {
   "cell_type": "code",
   "execution_count": 206,
   "outputs": [],
   "source": [
    "# (1, 1, 28, 28)\n",
    "mask_hat = back_mask(corrupted_images, generated_images, threshold=0.9)\n",
    "mask_hat = denoising(mask_hat.detach().cpu().numpy()[0][0], kernel_size=3)\n",
    "mask_hat = mask_hat.reshape((1,1,)+(28,28))\n",
    "mask_hat = torch.tensor(mask_hat).cuda()"
   ],
   "metadata": {
    "collapsed": false,
    "pycharm": {
     "name": "#%%\n"
    }
   }
  },
  {
   "cell_type": "code",
   "execution_count": 207,
   "outputs": [
    {
     "data": {
      "text/plain": "<matplotlib.image.AxesImage at 0x1398e0e82b0>"
     },
     "execution_count": 207,
     "metadata": {},
     "output_type": "execute_result"
    },
    {
     "data": {
      "text/plain": "<Figure size 432x288 with 1 Axes>",
      "image/png": "[encoded data removed]"
     },
     "metadata": {
      "needs_background": "light"
     },
     "output_type": "display_data"
    }
   ],
   "source": [
    "plt.imshow(mask_hat[0][0].cpu(), vmin=0, vmax=1)"
   ],
   "metadata": {
    "collapsed": false,
    "pycharm": {
     "name": "#%%\n"
    }
   }
  },
  {
   "cell_type": "markdown",
   "source": [
    "### Phase 2"
   ],
   "metadata": {
    "collapsed": false
   }
  },
  {
   "cell_type": "code",
   "execution_count": 208,
   "outputs": [],
   "source": [
    "criterion = nn.MSELoss()\n",
    "mask_clear = MaskClear((28,28)).cuda()\n",
    "optimizer_mask = torch.optim.Adam(mask_clear.parameters())"
   ],
   "metadata": {
    "collapsed": false,
    "pycharm": {
     "name": "#%%\n"
    }
   }
  },
  {
   "cell_type": "code",
   "execution_count": 209,
   "outputs": [
    {
     "data": {
      "text/plain": "<Figure size 432x288 with 3 Axes>",
      "image/png": "[encoded data removed]"
     },
     "metadata": {
      "needs_background": "light"
     },
     "output_type": "display_data"
    },
    {
     "data": {
      "text/plain": "<Figure size 432x288 with 1 Axes>",
      "image/png": "[encoded data removed]"
     },
     "metadata": {
      "needs_background": "light"
     },
     "output_type": "display_data"
    },
    {
     "data": {
      "text/plain": "<Figure size 432x288 with 3 Axes>",
      "image/png": "[encoded data removed]"
     },
     "metadata": {
      "needs_background": "light"
     },
     "output_type": "display_data"
    },
    {
     "data": {
      "text/plain": "<Figure size 432x288 with 1 Axes>",
      "image/png": "[encoded data removed]"
     },
     "metadata": {
      "needs_background": "light"
     },
     "output_type": "display_data"
    },
    {
     "data": {
      "text/plain": "<Figure size 432x288 with 3 Axes>",
      "image/png": "[encoded data removed]"
     },
     "metadata": {
      "needs_background": "light"
     },
     "output_type": "display_data"
    },
    {
     "data": {
      "text/plain": "<Figure size 432x288 with 1 Axes>",
      "image/png": "[encoded data removed]"
     },
     "metadata": {
      "needs_background": "light"
     },
     "output_type": "display_data"
    },
    {
     "ename": "KeyboardInterrupt",
     "evalue": "",
     "output_type": "error",
     "traceback": [
      "\u001B[1;31m---------------------------------------------------------------------------\u001B[0m",
      "\u001B[1;31mKeyboardInterrupt\u001B[0m                         Traceback (most recent call last)",
      "\u001B[1;32m~\\AppData\\Local\\Temp/ipykernel_12628/1576411075.py\u001B[0m in \u001B[0;36m<module>\u001B[1;34m\u001B[0m\n\u001B[0;32m     47\u001B[0m \u001B[1;33m\u001B[0m\u001B[0m\n\u001B[0;32m     48\u001B[0m         \u001B[0minpaint_loss\u001B[0m \u001B[1;33m=\u001B[0m \u001B[0mc_loss\u001B[0m \u001B[1;33m+\u001B[0m \u001B[0mprior_loss\u001B[0m\u001B[1;33m\u001B[0m\u001B[1;33m\u001B[0m\u001B[0m\n\u001B[1;32m---> 49\u001B[1;33m         \u001B[0minpaint_loss\u001B[0m\u001B[1;33m.\u001B[0m\u001B[0mbackward\u001B[0m\u001B[1;33m(\u001B[0m\u001B[1;33m)\u001B[0m\u001B[1;33m\u001B[0m\u001B[1;33m\u001B[0m\u001B[0m\n\u001B[0m\u001B[0;32m     50\u001B[0m         \u001B[0moptimizer_inpaint\u001B[0m\u001B[1;33m.\u001B[0m\u001B[0mstep\u001B[0m\u001B[1;33m(\u001B[0m\u001B[1;33m)\u001B[0m\u001B[1;33m\u001B[0m\u001B[1;33m\u001B[0m\u001B[0m\n\u001B[0;32m     51\u001B[0m \u001B[1;33m\u001B[0m\u001B[0m\n",
      "\u001B[1;32mB:\\Anaconda_install_path\\envs\\deeplearning\\lib\\site-packages\\torch\\_tensor.py\u001B[0m in \u001B[0;36mbackward\u001B[1;34m(self, gradient, retain_graph, create_graph, inputs)\u001B[0m\n\u001B[0;32m    305\u001B[0m                 \u001B[0mcreate_graph\u001B[0m\u001B[1;33m=\u001B[0m\u001B[0mcreate_graph\u001B[0m\u001B[1;33m,\u001B[0m\u001B[1;33m\u001B[0m\u001B[1;33m\u001B[0m\u001B[0m\n\u001B[0;32m    306\u001B[0m                 inputs=inputs)\n\u001B[1;32m--> 307\u001B[1;33m         \u001B[0mtorch\u001B[0m\u001B[1;33m.\u001B[0m\u001B[0mautograd\u001B[0m\u001B[1;33m.\u001B[0m\u001B[0mbackward\u001B[0m\u001B[1;33m(\u001B[0m\u001B[0mself\u001B[0m\u001B[1;33m,\u001B[0m \u001B[0mgradient\u001B[0m\u001B[1;33m,\u001B[0m \u001B[0mretain_graph\u001B[0m\u001B[1;33m,\u001B[0m \u001B[0mcreate_graph\u001B[0m\u001B[1;33m,\u001B[0m \u001B[0minputs\u001B[0m\u001B[1;33m=\u001B[0m\u001B[0minputs\u001B[0m\u001B[1;33m)\u001B[0m\u001B[1;33m\u001B[0m\u001B[1;33m\u001B[0m\u001B[0m\n\u001B[0m\u001B[0;32m    308\u001B[0m \u001B[1;33m\u001B[0m\u001B[0m\n\u001B[0;32m    309\u001B[0m     \u001B[1;32mdef\u001B[0m \u001B[0mregister_hook\u001B[0m\u001B[1;33m(\u001B[0m\u001B[0mself\u001B[0m\u001B[1;33m,\u001B[0m \u001B[0mhook\u001B[0m\u001B[1;33m)\u001B[0m\u001B[1;33m:\u001B[0m\u001B[1;33m\u001B[0m\u001B[1;33m\u001B[0m\u001B[0m\n",
      "\u001B[1;32mB:\\Anaconda_install_path\\envs\\deeplearning\\lib\\site-packages\\torch\\autograd\\__init__.py\u001B[0m in \u001B[0;36mbackward\u001B[1;34m(tensors, grad_tensors, retain_graph, create_graph, grad_variables, inputs)\u001B[0m\n\u001B[0;32m    152\u001B[0m         \u001B[0mretain_graph\u001B[0m \u001B[1;33m=\u001B[0m \u001B[0mcreate_graph\u001B[0m\u001B[1;33m\u001B[0m\u001B[1;33m\u001B[0m\u001B[0m\n\u001B[0;32m    153\u001B[0m \u001B[1;33m\u001B[0m\u001B[0m\n\u001B[1;32m--> 154\u001B[1;33m     Variable._execution_engine.run_backward(\n\u001B[0m\u001B[0;32m    155\u001B[0m         \u001B[0mtensors\u001B[0m\u001B[1;33m,\u001B[0m \u001B[0mgrad_tensors_\u001B[0m\u001B[1;33m,\u001B[0m \u001B[0mretain_graph\u001B[0m\u001B[1;33m,\u001B[0m \u001B[0mcreate_graph\u001B[0m\u001B[1;33m,\u001B[0m \u001B[0minputs\u001B[0m\u001B[1;33m,\u001B[0m\u001B[1;33m\u001B[0m\u001B[1;33m\u001B[0m\u001B[0m\n\u001B[0;32m    156\u001B[0m         allow_unreachable=True, accumulate_grad=True)  # allow_unreachable flag\n",
      "\u001B[1;31mKeyboardInterrupt\u001B[0m: "
     ]
    }
   ],
   "source": [
    "num_repeat_mask = 1\n",
    "num_repeat_z = 5\n",
    "\n",
    "for epoch in range(1, 1000+1):\n",
    "    # mask_optimum\n",
    "    for _ in range(num_repeat_mask):\n",
    "        # mask\n",
    "        mask_hat = back_mask(corrupted_images, generator(z_optimum), threshold=0.9)\n",
    "        mask_hat = denoising(mask_hat.detach().cpu().numpy()[0][0], kernel_size=3)\n",
    "        mask_hat = mask_hat.reshape((1,1,)+(28,28))\n",
    "        mask_hat = torch.tensor(mask_hat).cuda()\n",
    "        mask_hat_optimum = mask_clear(mask_hat.detach())\n",
    "\n",
    "        # update mask\n",
    "        optimizer_mask.zero_grad()\n",
    "        loss = criterion(mask_hat_optimum * generator(z_optimum), corrupted_images) \\\n",
    "               + criterion(mask_hat_optimum, mask_hat.detach())\n",
    "        loss.backward(retain_graph=True)\n",
    "        optimizer_mask.step()\n",
    "\n",
    "\n",
    "    # Z optimizer\n",
    "    for _ in range(num_repeat_z):\n",
    "        # mask\n",
    "        mask_hat = back_mask(corrupted_images, generator(z_optimum), threshold=0.9)\n",
    "        mask_hat = denoising(mask_hat.detach().cpu().numpy()[0][0], kernel_size=3)\n",
    "        mask_hat = mask_hat.reshape((1,1,)+(28,28))\n",
    "        mask_hat = torch.tensor(mask_hat).cuda()\n",
    "        mask_hat_optimum = mask_clear(mask_hat.detach())\n",
    "\n",
    "        # denoising mask\n",
    "        mask_hat = denoising(mask_hat_optimum.detach().cpu().numpy()[0][0], kernel_size=3)\n",
    "        mask_hat = mask_hat.reshape((1,1,)+(28,28))\n",
    "        mask_hat = torch.tensor(mask_hat).cuda()\n",
    "\n",
    "        # z optimum\n",
    "        optimizer_inpaint.zero_grad()\n",
    "        generated_images = generator(z_optimum)\n",
    "        discriminator_opinion = discriminator(generated_images)\n",
    "\n",
    "        weighted_masks = get_weighted_mask(mask_hat[0].detach().cpu().numpy(),window_size=3)\n",
    "        #weighted_masks = get_weighted_mask(mask_hat_optimum[0].detach().cpu().numpy(),window_size=3)\n",
    "\n",
    "        c_loss = context_loss(corrupted_images, generated_images, torch.tensor(weighted_masks).cuda())\n",
    "        #c_loss = torch.sum(((corrupted_images-generated_images)**2))\n",
    "        prior_loss = torch.sum(-torch.log(discriminator_opinion))\n",
    "\n",
    "        inpaint_loss = c_loss + prior_loss\n",
    "        inpaint_loss.backward()\n",
    "        optimizer_inpaint.step()\n",
    "\n",
    "    if epoch % 250==0:\n",
    "        num_rnd = 0\n",
    "        ploter(corrupted_images[num_rnd,0].detach().cpu(),\n",
    "                   generated_images[num_rnd,0].detach().cpu(),\n",
    "                   original_images[num_rnd,0].detach().cpu())\n",
    "\n",
    "        plt.figure()\n",
    "        plt.imshow(mask_hat_optimum.detach().cpu()[0][0], vmin=0, vmax=1)\n",
    "        plt.show()"
   ],
   "metadata": {
    "collapsed": false,
    "pycharm": {
     "name": "#%%\n"
    }
   }
  },
  {
   "cell_type": "code",
   "execution_count": 184,
   "outputs": [
    {
     "data": {
      "text/plain": "torch.Size([1, 1, 28, 28])"
     },
     "execution_count": 184,
     "metadata": {},
     "output_type": "execute_result"
    }
   ],
   "source": [
    "mask_hat_optimum.shape"
   ],
   "metadata": {
    "collapsed": false,
    "pycharm": {
     "name": "#%%\n"
    }
   }
  },
  {
   "cell_type": "code",
   "execution_count": 204,
   "outputs": [
    {
     "data": {
      "text/plain": "<Figure size 432x288 with 1 Axes>",
      "image/png": "[encoded data removed]"
     },
     "metadata": {
      "needs_background": "light"
     },
     "output_type": "display_data"
    }
   ],
   "source": [
    "plt.figure()\n",
    "plt.imshow(weighted_masks[0], vmin=0, vmax=1)\n",
    "plt.show()"
   ],
   "metadata": {
    "collapsed": false,
    "pycharm": {
     "name": "#%%\n"
    }
   }
  },
  {
   "cell_type": "markdown",
   "source": [
    "### End"
   ],
   "metadata": {
    "collapsed": false
   }
  },
  {
   "cell_type": "code",
   "execution_count": null,
   "outputs": [],
   "source": [
    "# Phase 2\n",
    "# All in One\n",
    "mask = back_mask(corrupted_images, generated_images, threshold=0.9)\n",
    "mask_denoised = denoising(mask.detach().cpu().numpy()[0][0], kernel_size=3)\n",
    "weighted_masks = get_weighted_mask(np.expand_dims(mask_denoised,0),window_size=5)\n",
    "\n",
    "mask_optimum = nn.Parameter(torch.FloatTensor(np.expand_dims(mask_denoised,0)).cuda())\n",
    "optimizer_mask = optim.Adam([mask_optimum], lr=1)\n",
    "\n",
    "for epoch in range(1, 1000+1):\n",
    "\n",
    "    # Z optimizer\n",
    "    optimizer_inpaint.zero_grad()\n",
    "    generated_images = generator(z_optimum)\n",
    "    discriminator_opinion = discriminator(generated_images)\n",
    "    c_loss = context_loss(corrupted_images, generated_images, torch.tensor(weighted_masks).cuda())\n",
    "    prior_loss = torch.sum(-torch.log(discriminator_opinion))\n",
    "    inpaint_loss = c_loss + prior_loss\n",
    "    inpaint_loss.backward()\n",
    "    optimizer_inpaint.step()\n",
    "\n",
    "\n",
    "\n",
    "    # Mask optimizer\n",
    "    optimizer_mask.zero_grad()\n",
    "    generated_images = generator(z_optimum)\n",
    "    c_loss = torch.sum(((mask_optimum * generated_images -corrupted_images)**2))\n",
    "    c_loss.backward()\n",
    "    optimizer_mask.step()\n",
    "\n",
    "\n",
    "    # denoising\n",
    "    mask_denoised = denoising(mask_optimum.detach().cpu().numpy()[0], kernel_size=3)\n",
    "    weighted_masks = get_weighted_mask(np.expand_dims(mask_denoised,0),window_size=5)\n",
    "\n",
    "\n",
    "    if epoch % 20 ==0:\n",
    "        num_rnd = 0\n",
    "        ploter(corrupted_images[num_rnd,0].detach().cpu(),\n",
    "                   generated_images[num_rnd,0].detach().cpu(),\n",
    "                   original_images[num_rnd,0].detach().cpu())\n",
    "\n",
    "        plt.figure()\n",
    "        plt.imshow(mask_denoised, vmin=0, vmax=1)\n",
    "        plt.show()"
   ],
   "metadata": {
    "collapsed": false,
    "pycharm": {
     "name": "#%%\n"
    }
   }
  },
  {
   "cell_type": "code",
   "execution_count": null,
   "outputs": [],
   "source": [
    "plt.imshow(mask_optimum.detach().cpu()[0])"
   ],
   "metadata": {
    "collapsed": false,
    "pycharm": {
     "name": "#%%\n"
    }
   }
  },
  {
   "cell_type": "code",
   "execution_count": null,
   "outputs": [],
   "source": [],
   "metadata": {
    "collapsed": false,
    "pycharm": {
     "name": "#%%\n"
    }
   }
  },
  {
   "cell_type": "code",
   "execution_count": null,
   "outputs": [],
   "source": [
    "# Phase 2\n",
    "# All in One\n",
    "mask = back_mask(corrupted_images, generated_images, threshold=0.9)\n",
    "mask_denoised = denoising(mask.detach().cpu().numpy()[0][0], kernel_size=3)\n",
    "weighted_masks = get_weighted_mask(np.expand_dims(mask_denoised,0),window_size=5)\n",
    "\n",
    "mask_optimum = nn.Parameter(torch.FloatTensor(np.expand_dims(mask_denoised,0)).cuda())\n",
    "optimizer_mask = optim.Adam([mask_optimum], lr=1)\n",
    "\n",
    "for epoch in range(1, 1000+1):\n",
    "\n",
    "    # Z optimizer\n",
    "    optimizer_inpaint.zero_grad()\n",
    "    generated_images = generator(z_optimum)\n",
    "    discriminator_opinion = discriminator(generated_images)\n",
    "    c_loss = context_loss(corrupted_images, generated_images, torch.tensor(weighted_masks).cuda())\n",
    "    prior_loss = torch.sum(-torch.log(discriminator_opinion))\n",
    "    inpaint_loss = c_loss + prior_loss\n",
    "    inpaint_loss.backward()\n",
    "    optimizer_inpaint.step()\n",
    "\n",
    "\n",
    "    # Denoising\n",
    "    weighted_masks = get_weighted_mask(\n",
    "        np.expand_dims(mask_denoised,0),\n",
    "        window_size=3)\n",
    "\n",
    "    # Mask optimizer\n",
    "    optimizer_mask.zero_grad()\n",
    "    generated_images = generator(z_optimum)\n",
    "    c_loss = context_loss(mask_optimum * generated_images , corrupted_images,\n",
    "                          torch.tensor(weighted_masks).cuda())\n",
    "    c_loss.backward()\n",
    "    optimizer_mask.step()\n",
    "\n",
    "\n",
    "    # denoising\n",
    "    mask_denoised = denoising(mask_optimum.detach().cpu().numpy()[0], kernel_size=3)\n",
    "    weighted_masks = get_weighted_mask(np.expand_dims(mask_denoised,0),window_size=5)\n",
    "\n",
    "\n",
    "    if epoch % 20 ==0:\n",
    "        num_rnd = 0\n",
    "        ploter(corrupted_images[num_rnd,0].detach().cpu(),\n",
    "                   generated_images[num_rnd,0].detach().cpu(),\n",
    "                   original_images[num_rnd,0].detach().cpu())\n",
    "\n",
    "        plt.figure()\n",
    "        plt.imshow(mask_denoised, vmin=0, vmax=1)\n",
    "        plt.show()"
   ],
   "metadata": {
    "collapsed": false,
    "pycharm": {
     "name": "#%%\n"
    }
   }
  },
  {
   "cell_type": "code",
   "execution_count": null,
   "outputs": [],
   "source": [],
   "metadata": {
    "collapsed": false,
    "pycharm": {
     "name": "#%%\n"
    }
   }
  },
  {
   "cell_type": "code",
   "execution_count": null,
   "outputs": [],
   "source": [
    "mask_denoised.shape"
   ],
   "metadata": {
    "collapsed": false,
    "pycharm": {
     "name": "#%%\n"
    }
   }
  },
  {
   "cell_type": "code",
   "execution_count": null,
   "outputs": [],
   "source": [
    "mask_optimum[0][:5,10:15]"
   ],
   "metadata": {
    "collapsed": false,
    "pycharm": {
     "name": "#%%\n"
    }
   }
  },
  {
   "cell_type": "code",
   "execution_count": null,
   "outputs": [],
   "source": [],
   "metadata": {
    "collapsed": false,
    "pycharm": {
     "name": "#%%\n"
    }
   }
  },
  {
   "cell_type": "code",
   "execution_count": null,
   "outputs": [],
   "source": [
    "c_loss_s"
   ],
   "metadata": {
    "collapsed": false,
    "pycharm": {
     "name": "#%%\n"
    }
   }
  },
  {
   "cell_type": "code",
   "execution_count": null,
   "outputs": [],
   "source": [
    "num_rnd = 0\n",
    "ploter(corrupted_images[num_rnd,0].detach().cpu(),\n",
    "               generated_images[num_rnd,0].detach().cpu(),\n",
    "               original_images[num_rnd,0].detach().cpu())"
   ],
   "metadata": {
    "collapsed": false,
    "pycharm": {
     "name": "#%%\n"
    }
   }
  },
  {
   "cell_type": "code",
   "execution_count": null,
   "outputs": [],
   "source": [
    "z_optimum = ???\n",
    "optimizer_inpaint = optim.Adam([z_optimum], lr=0.1)"
   ],
   "metadata": {
    "collapsed": false,
    "pycharm": {
     "name": "#%%\n"
    }
   }
  },
  {
   "cell_type": "code",
   "execution_count": null,
   "outputs": [],
   "source": [],
   "metadata": {
    "collapsed": false,
    "pycharm": {
     "name": "#%%\n"
    }
   }
  },
  {
   "cell_type": "code",
   "execution_count": null,
   "outputs": [],
   "source": [],
   "metadata": {
    "collapsed": false,
    "pycharm": {
     "name": "#%%\n"
    }
   }
  },
  {
   "cell_type": "code",
   "execution_count": null,
   "outputs": [],
   "source": [],
   "metadata": {
    "collapsed": false,
    "pycharm": {
     "name": "#%%\n"
    }
   }
  },
  {
   "cell_type": "code",
   "execution_count": null,
   "outputs": [],
   "source": [
    "corrupted_images = corrupted_images.cuda()\n",
    "for epoch in range(500):\n",
    "    optimizer_inpaint.zero_grad()\n",
    "    generated_images = generator(z_optimum)\n",
    "    discriminator_opinion = discriminator(generated_images)\n",
    "    c_loss = torch.sum(((corrupted_images-generated_images)**2))\n",
    "    prior_loss = torch.sum(-torch.log(discriminator_opinion))\n",
    "    inpaint_loss = c_loss + 1*prior_loss\n",
    "    inpaint_loss.backward()\n",
    "    optimizer_inpaint.step()\n",
    "\n",
    "    mask = back_mask(corrupted_images, generated_images, threshold=0.9)\n",
    "    weighted_masks = get_weighted_mask(mask[0].detach().cpu().numpy(),window_size=7)\n",
    "\n",
    "\"\"\"\n",
    "for epoch in range(100, optim_steps):\n",
    "    optimizer_inpaint.zero_grad()\n",
    "    generated_images = generator(z_optimum)\n",
    "    discriminator_opinion = discriminator(generated_images)\n",
    "    c_loss = context_loss(corrupted_images, generated_images, torch.tensor(weighted_masks).cuda())\n",
    "    prior_loss = torch.sum(-torch.log(discriminator_opinion))\n",
    "    inpaint_loss = c_loss #+ prior_weight*prior_loss\n",
    "    inpaint_loss.backward()\n",
    "    optimizer_inpaint.step()\n",
    "\n",
    "    mask = back_mask(corrupted_images, generated_images, threshold=0.9)\n",
    "    weighted_masks = get_weighted_mask(mask[0].detach().cpu().numpy(),window_size=7)\n",
    "\n",
    "    if epoch % sample_interval ==0:\n",
    "        # show a sample from generator\n",
    "        num_rnd = math.floor(np.random.uniform(0, corrupted_images.shape[0]))\n",
    "        ploter(corrupted_images[num_rnd,0].detach().cpu(),\n",
    "               generated_images[num_rnd,0].detach().cpu(),\n",
    "               original_images[num_rnd,0].detach().cpu())\n",
    "\"\"\""
   ],
   "metadata": {
    "collapsed": false,
    "pycharm": {
     "name": "#%%\n"
    }
   }
  },
  {
   "cell_type": "code",
   "execution_count": null,
   "outputs": [],
   "source": [
    "mask[0,0][10:15, 10:15]"
   ],
   "metadata": {
    "collapsed": false,
    "pycharm": {
     "name": "#%%\n"
    }
   }
  },
  {
   "cell_type": "code",
   "execution_count": null,
   "outputs": [],
   "source": [
    "plt.imshow(mask.detach().cpu()[0][0], vmin=0, vmax=1)"
   ],
   "metadata": {
    "collapsed": false,
    "pycharm": {
     "name": "#%%\n"
    }
   }
  },
  {
   "cell_type": "code",
   "execution_count": null,
   "outputs": [],
   "source": [
    "for epoch in range(500, optim_steps):\n",
    "    optimizer_inpaint.zero_grad()\n",
    "    generated_images = generator(z_optimum)\n",
    "    discriminator_opinion = discriminator(generated_images)\n",
    "    c_loss = context_loss(corrupted_images, generated_images, torch.tensor(weighted_masks).cuda())\n",
    "    prior_loss = torch.sum(-torch.log(discriminator_opinion))\n",
    "    inpaint_loss = c_loss #+ prior_weight*prior_loss\n",
    "    inpaint_loss.backward()\n",
    "    optimizer_inpaint.step()\n",
    "\n",
    "    #mask = back_mask(corrupted_images, generated_images, threshold=0.9)\n",
    "    #weighted_masks = get_weighted_mask(mask[0].detach().cpu().numpy(),window_size=7)\n",
    "\n",
    "    if epoch % sample_interval ==0:\n",
    "        # show a sample from generator\n",
    "        num_rnd = math.floor(np.random.uniform(0, corrupted_images.shape[0]))\n",
    "        ploter(corrupted_images[num_rnd,0].detach().cpu(),\n",
    "               generated_images[num_rnd,0].detach().cpu(),\n",
    "               original_images[num_rnd,0].detach().cpu())"
   ],
   "metadata": {
    "collapsed": false,
    "pycharm": {
     "name": "#%%\n"
    }
   }
  },
  {
   "cell_type": "code",
   "execution_count": null,
   "outputs": [],
   "source": [
    "context_loss(corrupted_images, generated_images, torch.tensor(weighted_masks).cuda())"
   ],
   "metadata": {
    "collapsed": false,
    "pycharm": {
     "name": "#%%\n"
    }
   }
  },
  {
   "cell_type": "markdown",
   "source": [
    "### Old"
   ],
   "metadata": {
    "collapsed": false
   }
  },
  {
   "cell_type": "code",
   "execution_count": null,
   "outputs": [],
   "source": [
    "for i, (corrupted_images, original_images, masks, weighted_masks) in enumerate(dataloader):\n",
    "    corrupted_images, masks, weighted_masks = corrupted_images.cuda(), masks.cuda(), weighted_masks.cuda()\n",
    "\n",
    "    print(\"Starting backprop to input ...\")\n",
    "    for epoch in range(optim_steps):\n",
    "\n",
    "        optimizer_inpaint.zero_grad()\n",
    "\n",
    "        generated_images = generator(z_optimum)\n",
    "        discriminator_opinion = discriminator(generated_images)\n",
    "\n",
    "        c_loss = context_loss(corrupted_images, generated_images, weighted_masks)\n",
    "\n",
    "        prior_loss = torch.sum(-torch.log(discriminator_opinion))\n",
    "        inpaint_loss = c_loss #+ prior_weight*prior_loss\n",
    "        inpaint_loss.backward()\n",
    "        optimizer_inpaint.step()\n",
    "        print(\"[Epoch: {}/{}] \\t[Loss: \\t[Context: {:.3f}] \\t[Prior: {:.3f}] \\t[Inpaint: {:.3f}]]  \\r\".format(1+epoch, optim_steps, c_loss,\n",
    "                                                                           prior_loss, inpaint_loss),end=\"\")\n",
    "        if epoch % sample_interval ==0:\n",
    "            # show a sample from generator\n",
    "            num_rnd = math.floor(np.random.uniform(0, corrupted_images.shape[0]))\n",
    "            print(f\"epoch : {epoch}\")\n",
    "            ploter(corrupted_images[num_rnd,0].detach().cpu(),\n",
    "                   generated_images[num_rnd,0].detach().cpu(),\n",
    "                   original_images[num_rnd,0].detach().cpu())\n",
    "    #blended_images = posisson_blending(masks, generated_images.detach(), corrupted_images)"
   ],
   "metadata": {
    "collapsed": false,
    "pycharm": {
     "name": "#%%\n"
    }
   }
  },
  {
   "cell_type": "code",
   "execution_count": null,
   "outputs": [],
   "source": [
    "def back_mask(corrupted_images, generated_images, threshold=0.9):\n",
    "    mask_ = corrupted_images/generated_images\n",
    "    mask = 1-mask_\n",
    "    mask [mask<threshold] = 0\n",
    "    #a = (corrupted_images - generated_images).abs()\n",
    "    mask = 1-mask\n",
    "    return mask"
   ],
   "metadata": {
    "collapsed": false,
    "pycharm": {
     "name": "#%%\n"
    }
   }
  },
  {
   "cell_type": "code",
   "execution_count": null,
   "outputs": [],
   "source": [
    "mask = back_mask(corrupted_images, generated_images)\n",
    "plt.imshow(mask[0][0].detach().cpu(), vmin=0, vmax=1)"
   ],
   "metadata": {
    "collapsed": false,
    "pycharm": {
     "name": "#%%\n"
    }
   }
  }
 ],
 "metadata": {
  "kernelspec": {
   "display_name": "Python 3",
   "language": "python",
   "name": "python3"
  },
  "language_info": {
   "codemirror_mode": {
    "name": "ipython",
    "version": 2
   },
   "file_extension": ".py",
   "mimetype": "text/x-python",
   "name": "python",
   "nbconvert_exporter": "python",
   "pygments_lexer": "ipython2",
   "version": "2.7.6"
  }
 },
 "nbformat": 4,
 "nbformat_minor": 0
}