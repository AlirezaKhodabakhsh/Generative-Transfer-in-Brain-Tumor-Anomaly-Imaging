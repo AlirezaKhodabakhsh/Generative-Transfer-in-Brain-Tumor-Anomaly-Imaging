{
 "cells": [
  {
   "cell_type": "markdown",
   "source": [
    "### libs"
   ],
   "metadata": {
    "collapsed": false
   }
  },
  {
   "cell_type": "code",
   "execution_count": 1,
   "metadata": {
    "collapsed": true
   },
   "outputs": [],
   "source": [
    "from torchvision.datasets import CelebA\n",
    "import os\n",
    "import torch.nn as nn\n",
    "import glob\n",
    "import os\n",
    "import torch\n",
    "from torch.utils.data import Dataset\n",
    "import numpy as np\n",
    "import pandas as pd\n",
    "from PIL import Image\n",
    "import matplotlib.pyplot as plt\n",
    "import os\n",
    "import torch\n",
    "import math\n",
    "# main libraries\n",
    "import os\n",
    "import numpy as np\n",
    "import matplotlib.pyplot as plt\n",
    "import torch\n",
    "from torch.utils.data import DataLoader\n",
    "from torch.utils.data import SubsetRandomSampler\n",
    "from torch.nn import functional as F\n",
    "from torch import nn\n",
    "from torch import optim\n",
    "import torchvision\n",
    "from torchvision import transforms, datasets\n",
    "from torch.utils.data import Dataset\n",
    "import math\n",
    "import torchvision.transforms.functional as TF\n",
    "import cv2\n",
    "from keras.utils import image_dataset_from_directory\n",
    "from torchvision import datasets, transforms\n",
    "from torch.utils.data import random_split\n",
    "from torch.nn.parameter import Parameter\n",
    "\n",
    "from torch.nn import init\n",
    "from torchvision.utils import make_grid\n",
    "from collections import OrderedDict\n",
    "\n",
    "import torch\n",
    "from torch.utils.data import Dataset\n",
    "\n",
    "from skimage import transform\n",
    "import skimage.io as io\n",
    "import numpy as np\n",
    "from torchvision.utils import save_image"
   ]
  },
  {
   "cell_type": "markdown",
   "source": [
    "### Nets"
   ],
   "metadata": {
    "collapsed": false
   }
  },
  {
   "cell_type": "code",
   "execution_count": 2,
   "outputs": [],
   "source": [
    "class Generator(nn.Module):\n",
    "    def __init__(self, img_size, latent_dim, channels):\n",
    "        super(Generator, self).__init__()\n",
    "\n",
    "        self.init_size = img_size // 4\n",
    "        self.linear_layer = nn.Sequential(nn.Linear(latent_dim, 128 * self.init_size ** 2))\n",
    "\n",
    "        self.conv_layers = nn.Sequential(\n",
    "            nn.BatchNorm2d(128),\n",
    "            nn.Upsample(scale_factor=2),\n",
    "            nn.Conv2d(128, 128, 3, stride=1, padding=1),\n",
    "            nn.BatchNorm2d(128, 0.8),\n",
    "            nn.LeakyReLU(0.2, inplace=True),\n",
    "            nn.Upsample(scale_factor=2),\n",
    "            nn.Conv2d(128, 64, 3, stride=1, padding=1),\n",
    "            nn.BatchNorm2d(64, 0.8),\n",
    "            nn.LeakyReLU(0.2, inplace=True),\n",
    "            nn.Conv2d(64, channels, 3, stride=1, padding=1),\n",
    "            nn.Tanh(),\n",
    "        )\n",
    "\n",
    "    def forward(self, z):\n",
    "        out = self.linear_layer(z)\n",
    "        out = out.view(out.shape[0], 128, self.init_size, self.init_size)\n",
    "        image = self.conv_layers(out)\n",
    "        return image\n",
    "\n",
    "\n",
    "class Discriminator(nn.Module):\n",
    "    def __init__(self, channels, img_size):\n",
    "        super(Discriminator, self).__init__()\n",
    "\n",
    "        def discriminator_block(in_filters, out_filters, bn=True):\n",
    "            block = [nn.Conv2d(in_filters, out_filters, 3, 2, 1), nn.LeakyReLU(0.2, inplace=True), nn.Dropout2d(0.25)]\n",
    "            if bn:\n",
    "                block.append(nn.BatchNorm2d(out_filters, 0.8))\n",
    "            return block\n",
    "\n",
    "        self.conv_layers = nn.Sequential(\n",
    "            *discriminator_block(channels, 16, bn=False),\n",
    "            *discriminator_block(16, 32),\n",
    "            *discriminator_block(32, 64),\n",
    "            *discriminator_block(64, 128),\n",
    "        )\n",
    "\n",
    "        # self.ds_size = img_size // 2 ** 4 # for img_size = 96\n",
    "        self.ds_size = 2 # for img_size = 28\n",
    "        self.adverse_layer = nn.Sequential(nn.Linear(128 * self.ds_size ** 2, 1), nn.Sigmoid())\n",
    "\n",
    "    def forward(self, image):\n",
    "        out = self.conv_layers(image)\n",
    "        out = out.view(out.shape[0], -1)\n",
    "        validity = self.adverse_layer(out)\n",
    "        return validity"
   ],
   "metadata": {
    "collapsed": false,
    "pycharm": {
     "name": "#%%\n"
    }
   }
  },
  {
   "cell_type": "markdown",
   "source": [
    "### Helper"
   ],
   "metadata": {
    "collapsed": false
   }
  },
  {
   "cell_type": "code",
   "execution_count": 3,
   "outputs": [],
   "source": [
    "def show_tensor_images(image_tensor, num_images=25, size=(1, 28, 28)):\n",
    "    '''\n",
    "    Function for visualizing images: Given a tensor of images, number of images, and\n",
    "    size per image, plots and prints the images in a uniform grid.\n",
    "    '''\n",
    "    image_unflat = image_tensor.detach().cpu().view(-1, *size)\n",
    "    image_grid = make_grid(image_unflat[:num_images], nrow=5)\n",
    "    plt.imshow(image_grid.permute(1, 2, 0).squeeze())\n",
    "    plt.show()"
   ],
   "metadata": {
    "collapsed": false,
    "pycharm": {
     "name": "#%%\n"
    }
   }
  },
  {
   "cell_type": "code",
   "execution_count": 4,
   "outputs": [],
   "source": [
    "def ploter(corrupted_images, generated_images, original_images):\n",
    "    \"\"\"\n",
    "    (H, W)\n",
    "    \"\"\"\n",
    "    plt.figure()\n",
    "    plt.subplot(1,3,1)\n",
    "    #plt.imshow(image_hat, cmap='gray', vmin=-1, vmax=1)\n",
    "    plt.imshow(corrupted_images)\n",
    "    plt.tight_layout()\n",
    "    plt.title(\"corrupted\")\n",
    "\n",
    "    plt.subplot(1,3,2)\n",
    "    #plt.imshow(image, cmap='gray', vmin=-1, vmax=1)\n",
    "    plt.imshow(generated_images)\n",
    "    plt.tight_layout()\n",
    "    plt.title(\"generated\")\n",
    "\n",
    "    plt.subplot(1,3,3)\n",
    "    #plt.imshow(image, cmap='gray', vmin=-1, vmax=1)\n",
    "    plt.imshow(original_images)\n",
    "    plt.tight_layout()\n",
    "    plt.title(\"original\")\n",
    "\n",
    "    plt.show()"
   ],
   "metadata": {
    "collapsed": false,
    "pycharm": {
     "name": "#%%\n"
    }
   }
  },
  {
   "cell_type": "code",
   "execution_count": 5,
   "outputs": [],
   "source": [
    "def context_loss(corrupted_images, generated_images, masks, weighted=True):\n",
    "    return torch.sum(((corrupted_images-generated_images)**2)*masks)"
   ],
   "metadata": {
    "collapsed": false,
    "pycharm": {
     "name": "#%%\n"
    }
   }
  },
  {
   "cell_type": "code",
   "execution_count": 6,
   "outputs": [],
   "source": [
    "def get_weighted_mask(mask,window_size):\n",
    "    assert len(mask.shape) == 3\n",
    "    assert window_size % 2 == 1 # odd window size\n",
    "    max_shift = window_size//2\n",
    "    output = np.zeros_like(mask)\n",
    "    for i in range(-max_shift,max_shift+1):\n",
    "        for j in range(-max_shift,max_shift+1):\n",
    "            if i != 0 or j != 0:\n",
    "                output += np.roll(mask, (i,j), axis=(1,2))\n",
    "    output = 1 - output/(window_size**2-1)\n",
    "    return output*mask"
   ],
   "metadata": {
    "collapsed": false,
    "pycharm": {
     "name": "#%%\n"
    }
   }
  },
  {
   "cell_type": "markdown",
   "source": [
    "### Dataset"
   ],
   "metadata": {
    "collapsed": false
   }
  },
  {
   "cell_type": "code",
   "execution_count": 7,
   "outputs": [],
   "source": [
    "root_ds = \"./MNIST\""
   ],
   "metadata": {
    "collapsed": false,
    "pycharm": {
     "name": "#%%\n"
    }
   }
  },
  {
   "cell_type": "code",
   "execution_count": 8,
   "outputs": [],
   "source": [
    "trans=transforms.Compose([\n",
    "    transforms.ToTensor(),\n",
    "    transforms.ConvertImageDtype(torch.float),\n",
    "    transforms.Normalize((0.5,) , (0.5,))\n",
    "])\n",
    "\n",
    "test_data=datasets.MNIST(root=root_ds,\n",
    "                          train=False, transform=trans, download=True)"
   ],
   "metadata": {
    "collapsed": false,
    "pycharm": {
     "name": "#%%\n"
    }
   }
  },
  {
   "cell_type": "code",
   "execution_count": 9,
   "outputs": [],
   "source": [
    "def get_index(class_num, dataset, mode:str):\n",
    "    if mode == 'train':\n",
    "        class_indx = torch.nonzero(\n",
    "                dataset.train_labels == class_num * torch.ones_like(dataset.train_labels)\n",
    "        )\n",
    "\n",
    "    if mode == 'test':\n",
    "        class_indx = torch.nonzero(\n",
    "                dataset.test_labels == class_num * torch.ones_like(dataset.test_labels)\n",
    "        )\n",
    "\n",
    "    class_indx = class_indx.squeeze(1)\n",
    "    return class_indx"
   ],
   "metadata": {
    "collapsed": false,
    "pycharm": {
     "name": "#%%\n"
    }
   }
  },
  {
   "cell_type": "code",
   "execution_count": 10,
   "outputs": [
    {
     "name": "stderr",
     "output_type": "stream",
     "text": [
      "B:\\Anaconda_install_path\\envs\\deeplearning\\lib\\site-packages\\torchvision\\datasets\\mnist.py:57: UserWarning: test_labels has been renamed targets\n",
      "  warnings.warn(\"test_labels has been renamed targets\")\n"
     ]
    }
   ],
   "source": [
    "test_sampler = SubsetRandomSampler(get_index(8, test_data, 'test'))\n",
    "test_loader=DataLoader(test_data, batch_size= test_data.__len__(), sampler=test_sampler)"
   ],
   "metadata": {
    "collapsed": false,
    "pycharm": {
     "name": "#%%\n"
    }
   }
  },
  {
   "cell_type": "code",
   "execution_count": 34,
   "outputs": [],
   "source": [
    "def mask_maker(image_size):\n",
    "\n",
    "    mask = np.ones(image_size,dtype=np.float32)\n",
    "    x = np.random.randint(image_size[0]//6,5*image_size[0]//6)\n",
    "    y = np.random.randint(image_size[1]//6,5*image_size[1]//6)\n",
    "    h = np.random.randint(image_size[0]//4,image_size[0]//2)\n",
    "    w = np.random.randint(image_size[1]//4,image_size[1]//2)\n",
    "    mask[max(0,x-h//2):min(image_size[0],x+h//2),max(0,y-w//2):min(image_size[1],y+w//2)] = 0\n",
    "\n",
    "    return mask"
   ],
   "metadata": {
    "collapsed": false,
    "pycharm": {
     "name": "#%%\n"
    }
   }
  },
  {
   "cell_type": "code",
   "execution_count": 47,
   "outputs": [],
   "source": [
    "class CorruptedMaker(Dataset):\n",
    "    def __init__(self, original_images, mask, image_size=(28,28), weighted_mask=True, window_size=7):\n",
    "        super(CorruptedMaker, self).__init__()\n",
    "\n",
    "        self.images_filename = original_images # (N, 1, 28, 28)\n",
    "        self.image_size = image_size\n",
    "        self.weighted_mask = weighted_mask\n",
    "        self.window_size = window_size\n",
    "        self.mask = mask\n",
    "\n",
    "    def __len__(self):\n",
    "        return len(self.images_filename)\n",
    "\n",
    "    def __getitem__(self, idx):\n",
    "        original_image = self.images_filename[idx]\n",
    "\n",
    "        target_image = original_image.copy()\n",
    "\n",
    "        #target_image[0][1-self.mask > 0.5] = np.max(target_image)\n",
    "        target_image[0] =  target_image[0]* self.mask\n",
    "\n",
    "        mask = self.mask.reshape((1,)+self.mask.shape)\n",
    "\n",
    "        # Weighted Mask\n",
    "        if self.weighted_mask:\n",
    "            weighted_mask = get_weighted_mask(mask,self.window_size)\n",
    "            return torch.FloatTensor(target_image), torch.FloatTensor(original_image), torch.FloatTensor(mask), torch.FloatTensor(weighted_mask)\n",
    "        else:\n",
    "            return torch.FloatTensor(target_image), torch.FloatTensor(original_image), torch.FloatTensor(mask)"
   ],
   "metadata": {
    "collapsed": false,
    "pycharm": {
     "name": "#%%\n"
    }
   }
  },
  {
   "cell_type": "code",
   "execution_count": 48,
   "outputs": [
    {
     "data": {
      "text/plain": "<matplotlib.image.AxesImage at 0x1cd963a5310>"
     },
     "execution_count": 48,
     "metadata": {},
     "output_type": "execute_result"
    },
    {
     "data": {
      "text/plain": "<Figure size 432x288 with 1 Axes>",
      "image/png": "[encoded data removed]"
     },
     "metadata": {
      "needs_background": "light"
     },
     "output_type": "display_data"
    }
   ],
   "source": [
    "# TEST\n",
    "image_size = (28, 28)\n",
    "\n",
    "for x, _ in test_loader:\n",
    "    x=x\n",
    "\n",
    "mask = mask_maker(image_size)\n",
    "dataset = CorruptedMaker(x[0:1].numpy(), mask, image_size)\n",
    "dataloader = DataLoader(dataset, batch_size=1)\n",
    "\n",
    "for corrupted_images, original_images, masks, weighted_masks in dataloader:\n",
    "    corrupted_images = corrupted_images\n",
    "    original_images = original_images\n",
    "    masks = masks\n",
    "    weighted_masks = weighted_masks\n",
    "plt.imshow(corrupted_images[0][0], cmap='gray')"
   ],
   "metadata": {
    "collapsed": false,
    "pycharm": {
     "name": "#%%\n"
    }
   }
  },
  {
   "cell_type": "code",
   "execution_count": 49,
   "outputs": [
    {
     "data": {
      "text/plain": "array([[ True,  True,  True,  True,  True,  True,  True,  True,  True,\n         True,  True,  True,  True,  True,  True,  True,  True,  True,\n         True,  True,  True,  True,  True,  True,  True,  True,  True,\n         True],\n       [ True,  True,  True,  True,  True,  True,  True,  True,  True,\n         True,  True,  True,  True,  True,  True,  True,  True,  True,\n         True,  True,  True,  True,  True,  True,  True,  True,  True,\n         True],\n       [ True,  True,  True,  True,  True,  True,  True,  True,  True,\n         True,  True,  True,  True,  True,  True,  True,  True,  True,\n         True,  True,  True,  True,  True,  True,  True,  True,  True,\n         True],\n       [ True,  True,  True,  True,  True,  True,  True,  True,  True,\n         True,  True,  True,  True,  True,  True,  True,  True,  True,\n         True,  True,  True,  True,  True,  True,  True,  True,  True,\n         True],\n       [ True,  True,  True,  True,  True,  True,  True,  True,  True,\n         True,  True,  True,  True,  True,  True,  True,  True,  True,\n         True,  True,  True,  True,  True,  True,  True,  True,  True,\n         True],\n       [ True,  True,  True,  True,  True,  True,  True,  True,  True,\n         True,  True,  True,  True,  True,  True,  True,  True,  True,\n         True,  True,  True,  True,  True,  True,  True,  True,  True,\n         True],\n       [ True,  True,  True,  True,  True,  True,  True,  True,  True,\n         True,  True,  True,  True,  True,  True,  True,  True,  True,\n         True,  True,  True,  True,  True,  True,  True,  True,  True,\n         True],\n       [ True,  True,  True,  True,  True,  True,  True,  True,  True,\n         True,  True,  True,  True,  True,  True,  True,  True,  True,\n         True,  True,  True,  True,  True,  True,  True,  True,  True,\n         True],\n       [ True,  True,  True,  True,  True,  True,  True,  True,  True,\n         True,  True,  True,  True,  True,  True,  True,  True,  True,\n         True,  True,  True,  True,  True,  True,  True,  True,  True,\n         True],\n       [ True,  True,  True,  True,  True,  True,  True,  True,  True,\n         True,  True,  True,  True,  True,  True,  True,  True,  True,\n         True,  True,  True,  True,  True,  True,  True,  True,  True,\n         True],\n       [ True,  True,  True,  True,  True,  True,  True,  True,  True,\n         True,  True,  True,  True,  True,  True,  True,  True,  True,\n         True,  True,  True,  True,  True,  True,  True,  True,  True,\n         True],\n       [ True,  True,  True,  True,  True,  True,  True,  True,  True,\n         True,  True,  True,  True,  True,  True,  True,  True,  True,\n         True,  True,  True,  True,  True,  True,  True,  True,  True,\n         True],\n       [ True,  True,  True,  True,  True,  True,  True,  True,  True,\n         True,  True,  True,  True,  True,  True,  True,  True,  True,\n         True,  True,  True,  True,  True,  True,  True,  True,  True,\n         True],\n       [ True,  True,  True,  True,  True,  True,  True,  True,  True,\n         True,  True,  True,  True,  True,  True,  True,  True,  True,\n         True,  True,  True,  True,  True,  True,  True,  True,  True,\n         True],\n       [ True,  True,  True,  True,  True,  True,  True,  True,  True,\n         True,  True,  True,  True,  True,  True,  True,  True,  True,\n         True,  True,  True,  True,  True,  True,  True,  True,  True,\n         True],\n       [ True,  True,  True,  True,  True,  True,  True,  True,  True,\n         True,  True,  True,  True,  True,  True,  True,  True,  True,\n         True,  True,  True,  True,  True,  True,  True,  True,  True,\n         True],\n       [ True,  True,  True,  True,  True,  True,  True,  True,  True,\n         True,  True,  True,  True,  True,  True,  True,  True,  True,\n         True,  True,  True,  True,  True,  True,  True,  True,  True,\n         True],\n       [ True,  True,  True,  True,  True,  True,  True,  True,  True,\n         True,  True,  True,  True,  True,  True,  True,  True,  True,\n         True,  True,  True,  True,  True,  True,  True,  True,  True,\n         True],\n       [ True,  True,  True,  True,  True,  True,  True,  True,  True,\n         True,  True,  True,  True,  True,  True,  True,  True,  True,\n         True,  True,  True,  True,  True,  True,  True,  True,  True,\n         True],\n       [ True,  True,  True,  True,  True,  True,  True,  True,  True,\n         True,  True,  True,  True,  True,  True,  True,  True,  True,\n         True,  True,  True,  True,  True,  True,  True,  True,  True,\n         True],\n       [ True,  True,  True,  True,  True,  True,  True,  True,  True,\n         True,  True,  True,  True,  True,  True,  True,  True,  True,\n         True,  True,  True,  True,  True,  True,  True,  True,  True,\n         True],\n       [ True,  True,  True,  True,  True,  True,  True,  True,  True,\n         True,  True,  True,  True,  True,  True,  True,  True,  True,\n         True,  True,  True,  True,  True,  True,  True,  True,  True,\n         True],\n       [ True,  True,  True,  True,  True,  True,  True,  True,  True,\n         True,  True,  True,  True,  True,  True,  True,  True,  True,\n         True,  True,  True,  True,  True,  True,  True,  True,  True,\n         True],\n       [ True,  True,  True,  True,  True,  True,  True,  True,  True,\n         True,  True,  True,  True,  True,  True,  True,  True,  True,\n         True,  True,  True,  True,  True,  True,  True,  True,  True,\n         True],\n       [ True,  True,  True,  True,  True,  True,  True,  True,  True,\n         True,  True,  True,  True,  True,  True,  True,  True,  True,\n         True,  True,  True,  True,  True,  True,  True,  True,  True,\n         True],\n       [ True,  True,  True,  True,  True,  True,  True,  True,  True,\n         True,  True,  True,  True,  True,  True,  True,  True,  True,\n         True,  True,  True,  True,  True,  True,  True,  True,  True,\n         True],\n       [ True,  True,  True,  True,  True,  True,  True,  True,  True,\n         True,  True,  True,  True,  True,  True,  True,  True,  True,\n         True,  True,  True,  True,  True,  True,  True,  True,  True,\n         True],\n       [ True,  True,  True,  True,  True,  True,  True,  True,  True,\n         True,  True,  True,  True,  True,  True,  True,  True,  True,\n         True,  True,  True,  True,  True,  True,  True,  True,  True,\n         True]])"
     },
     "execution_count": 49,
     "metadata": {},
     "output_type": "execute_result"
    }
   ],
   "source": [
    "mask == (corrupted_images/original_images)[0][0].numpy()"
   ],
   "metadata": {
    "collapsed": false,
    "pycharm": {
     "name": "#%%\n"
    }
   }
  },
  {
   "cell_type": "markdown",
   "source": [
    "### Hyperparameters"
   ],
   "metadata": {
    "collapsed": false
   }
  },
  {
   "cell_type": "code",
   "execution_count": 50,
   "outputs": [
    {
     "data": {
      "text/plain": "'F:\\\\GitHub\\\\anomaly-detection\\\\codes\\\\inpairing_cvpr\\\\benchmark'"
     },
     "execution_count": 50,
     "metadata": {},
     "output_type": "execute_result"
    }
   ],
   "source": [
    "os.getcwd()"
   ],
   "metadata": {
    "collapsed": false,
    "pycharm": {
     "name": "#%%\n"
    }
   }
  },
  {
   "cell_type": "code",
   "execution_count": 51,
   "outputs": [],
   "source": [
    "root_best_model = \"epoch220_disloss24.18_genloss52.93.pt\"\n",
    "\n",
    "window_size = 25 #??\n",
    "batch_size = 1\n",
    "num_sub = 1\n",
    "\n",
    "img_size = 28\n",
    "latent_dim = 100\n",
    "channels = 1\n",
    "\n",
    "optim_steps = 1000 # ???\n",
    "sample_interval = 100\n",
    "\n",
    "prior_weight = 0.003 # ???"
   ],
   "metadata": {
    "collapsed": false,
    "pycharm": {
     "name": "#%%\n"
    }
   }
  },
  {
   "cell_type": "markdown",
   "source": [
    "### inpainting"
   ],
   "metadata": {
    "collapsed": false
   }
  },
  {
   "cell_type": "code",
   "execution_count": 57,
   "outputs": [],
   "source": [
    "for x, _ in test_loader:\n",
    "    x=x"
   ],
   "metadata": {
    "collapsed": false,
    "pycharm": {
     "name": "#%%\n"
    }
   }
  },
  {
   "cell_type": "code",
   "execution_count": 58,
   "outputs": [],
   "source": [
    "mask = mask_maker(image_size)\n",
    "dataset = CorruptedMaker(x[0:num_sub].numpy(), mask, image_size, weighted_mask=True, window_size=25)\n",
    "dataloader = DataLoader(dataset, batch_size=batch_size)"
   ],
   "metadata": {
    "collapsed": false,
    "pycharm": {
     "name": "#%%\n"
    }
   }
  },
  {
   "cell_type": "code",
   "execution_count": 59,
   "outputs": [
    {
     "data": {
      "text/plain": "<All keys matched successfully>"
     },
     "execution_count": 59,
     "metadata": {},
     "output_type": "execute_result"
    }
   ],
   "source": [
    "# Loading trained GAN model\n",
    "saved_gan = torch.load(root_best_model)\n",
    "\n",
    "generator = Generator(img_size=img_size, latent_dim=latent_dim, channels=channels).cuda()\n",
    "discriminator = Discriminator(channels=channels, img_size=img_size).cuda()\n",
    "\n",
    "generator.load_state_dict(saved_gan[\"state_dict_G\"])\n",
    "discriminator.load_state_dict(saved_gan[\"state_dict_D\"])"
   ],
   "metadata": {
    "collapsed": false,
    "pycharm": {
     "name": "#%%\n"
    }
   }
  },
  {
   "cell_type": "code",
   "execution_count": 60,
   "outputs": [],
   "source": [
    "z_optimum = nn.Parameter(torch.FloatTensor(np.random.normal(0, 1, (batch_size,latent_dim,))).cuda())\n",
    "optimizer_inpaint = optim.Adam([z_optimum], lr=0.1)"
   ],
   "metadata": {
    "collapsed": false,
    "pycharm": {
     "name": "#%%\n"
    }
   }
  },
  {
   "cell_type": "code",
   "execution_count": null,
   "outputs": [],
   "source": [
    "for i, (corrupted_images, original_images, masks, weighted_masks) in enumerate(dataloader):\n",
    "    corrupted_images, masks, weighted_masks = corrupted_images.cuda(), masks.cuda(), weighted_masks.cuda()\n",
    "\n",
    "    print(\"Starting backprop to input ...\")\n",
    "    for epoch in range(optim_steps):\n",
    "\n",
    "        optimizer_inpaint.zero_grad()\n",
    "\n",
    "        generated_images = generator(z_optimum)\n",
    "        discriminator_opinion = discriminator(generated_images)\n",
    "\n",
    "        c_loss = context_loss(corrupted_images, generated_images, weighted_masks)\n",
    "\n",
    "        prior_loss = torch.sum(-torch.log(discriminator_opinion))\n",
    "        inpaint_loss = c_loss #+ prior_weight*prior_loss\n",
    "        inpaint_loss.backward()\n",
    "        optimizer_inpaint.step()\n",
    "        print(\"[Epoch: {}/{}] \\t[Loss: \\t[Context: {:.3f}] \\t[Prior: {:.3f}] \\t[Inpaint: {:.3f}]]  \\r\".format(1+epoch, optim_steps, c_loss,\n",
    "                                                                           prior_loss, inpaint_loss),end=\"\")\n",
    "        if epoch % sample_interval ==0:\n",
    "            # show a sample from generator\n",
    "            num_rnd = math.floor(np.random.uniform(0, corrupted_images.shape[0]))\n",
    "            ploter(corrupted_images[num_rnd,0].detach().cpu(),\n",
    "                   generated_images[num_rnd,0].detach().cpu(),\n",
    "                   original_images[num_rnd,0].detach().cpu())\n",
    "    #blended_images = posisson_blending(masks, generated_images.detach(), corrupted_images)"
   ],
   "metadata": {
    "collapsed": false,
    "pycharm": {
     "name": "#%%\n"
    }
   }
  },
  {
   "cell_type": "code",
   "execution_count": null,
   "outputs": [],
   "source": [],
   "metadata": {
    "collapsed": false,
    "pycharm": {
     "name": "#%%\n"
    }
   }
  },
  {
   "cell_type": "code",
   "execution_count": null,
   "outputs": [],
   "source": [],
   "metadata": {
    "collapsed": false,
    "pycharm": {
     "name": "#%%\n"
    }
   }
  },
  {
   "cell_type": "code",
   "execution_count": null,
   "outputs": [],
   "source": [],
   "metadata": {
    "collapsed": false,
    "pycharm": {
     "name": "#%%\n"
    }
   }
  },
  {
   "cell_type": "code",
   "execution_count": null,
   "outputs": [],
   "source": [],
   "metadata": {
    "collapsed": false,
    "pycharm": {
     "name": "#%%\n"
    }
   }
  },
  {
   "cell_type": "code",
   "execution_count": 61,
   "outputs": [
    {
     "name": "stdout",
     "output_type": "stream",
     "text": [
      "Starting backprop to input ...\n",
      "[Epoch: 1/1000] \t[Loss: \t[Context: 26.963] \t[Prior: 4.778] \t[Inpaint: 26.963]]  \r"
     ]
    },
    {
     "data": {
      "text/plain": "<Figure size 432x288 with 3 Axes>",
      "image/png": "[encoded data removed]"
     },
     "metadata": {
      "needs_background": "light"
     },
     "output_type": "display_data"
    },
    {
     "name": "stdout",
     "output_type": "stream",
     "text": [
      "[Epoch: 101/1000] \t[Loss: \t[Context: 1.018] \t[Prior: 2.884] \t[Inpaint: 1.018]]  \r[Epoch: 20/1000] \t[Loss: \t[Context: 6.292] \t[Prior: 6.026] \t[Inpaint: 6.292]]  [Epoch: 46/1000] \t[Loss: \t[Context: 2.359] \t[Prior: 7.833] \t[Inpaint: 2.359]]  [Epoch: 70/1000] \t[Loss: \t[Context: 1.392] \t[Prior: 5.908] \t[Inpaint: 1.392]]  [Epoch: 94/1000] \t[Loss: \t[Context: 1.075] \t[Prior: 5.341] \t[Inpaint: 1.075]]  "
     ]
    },
    {
     "data": {
      "text/plain": "<Figure size 432x288 with 3 Axes>",
      "image/png": "[encoded data removed]"
     },
     "metadata": {
      "needs_background": "light"
     },
     "output_type": "display_data"
    },
    {
     "name": "stdout",
     "output_type": "stream",
     "text": [
      "[Epoch: 201/1000] \t[Loss: \t[Context: 0.611] \t[Prior: 9.307] \t[Inpaint: 0.611]]  \r"
     ]
    },
    {
     "data": {
      "text/plain": "<Figure size 432x288 with 3 Axes>",
      "image/png": "[encoded data removed]"
     },
     "metadata": {
      "needs_background": "light"
     },
     "output_type": "display_data"
    },
    {
     "name": "stdout",
     "output_type": "stream",
     "text": [
      "[Epoch: 301/1000] \t[Loss: \t[Context: 0.451] \t[Prior: 6.527] \t[Inpaint: 0.451]]  \r"
     ]
    },
    {
     "data": {
      "text/plain": "<Figure size 432x288 with 3 Axes>",
      "image/png": "[encoded data removed]"
     },
     "metadata": {
      "needs_background": "light"
     },
     "output_type": "display_data"
    },
    {
     "name": "stdout",
     "output_type": "stream",
     "text": [
      "[Epoch: 401/1000] \t[Loss: \t[Context: 0.346] \t[Prior: 7.840] \t[Inpaint: 0.346]]  \r"
     ]
    },
    {
     "data": {
      "text/plain": "<Figure size 432x288 with 3 Axes>",
      "image/png": "[encoded data removed]"
     },
     "metadata": {
      "needs_background": "light"
     },
     "output_type": "display_data"
    },
    {
     "name": "stdout",
     "output_type": "stream",
     "text": [
      "[Epoch: 501/1000] \t[Loss: \t[Context: 0.272] \t[Prior: 3.633] \t[Inpaint: 0.272]]  \r"
     ]
    },
    {
     "data": {
      "text/plain": "<Figure size 432x288 with 3 Axes>",
      "image/png": "[encoded data removed]"
     },
     "metadata": {
      "needs_background": "light"
     },
     "output_type": "display_data"
    },
    {
     "name": "stdout",
     "output_type": "stream",
     "text": [
      "[Epoch: 601/1000] \t[Loss: \t[Context: 0.214] \t[Prior: 6.823] \t[Inpaint: 0.214]]  \r"
     ]
    },
    {
     "data": {
      "text/plain": "<Figure size 432x288 with 3 Axes>",
      "image/png": "[encoded data removed]"
     },
     "metadata": {
      "needs_background": "light"
     },
     "output_type": "display_data"
    },
    {
     "name": "stdout",
     "output_type": "stream",
     "text": [
      "[Epoch: 701/1000] \t[Loss: \t[Context: 0.192] \t[Prior: 12.252] \t[Inpaint: 0.192]]  \r"
     ]
    },
    {
     "data": {
      "text/plain": "<Figure size 432x288 with 3 Axes>",
      "image/png": "[encoded data removed]"
     },
     "metadata": {
      "needs_background": "light"
     },
     "output_type": "display_data"
    },
    {
     "name": "stdout",
     "output_type": "stream",
     "text": [
      "[Epoch: 801/1000] \t[Loss: \t[Context: 0.169] \t[Prior: 4.484] \t[Inpaint: 0.169]]  \r"
     ]
    },
    {
     "data": {
      "text/plain": "<Figure size 432x288 with 3 Axes>",
      "image/png": "[encoded data removed]"
     },
     "metadata": {
      "needs_background": "light"
     },
     "output_type": "display_data"
    },
    {
     "name": "stdout",
     "output_type": "stream",
     "text": [
      "[Epoch: 901/1000] \t[Loss: \t[Context: 0.169] \t[Prior: 10.992] \t[Inpaint: 0.169]]  \r"
     ]
    },
    {
     "data": {
      "text/plain": "<Figure size 432x288 with 3 Axes>",
      "image/png": "[encoded data removed]"
     },
     "metadata": {
      "needs_background": "light"
     },
     "output_type": "display_data"
    },
    {
     "name": "stdout",
     "output_type": "stream",
     "text": [
      "[Epoch: 1000/1000] \t[Loss: \t[Context: 0.151] \t[Prior: 5.104] \t[Inpaint: 0.151]]  \r"
     ]
    }
   ],
   "source": [
    "for i, (corrupted_images, original_images, masks, weighted_masks) in enumerate(dataloader):\n",
    "    corrupted_images, masks, weighted_masks = corrupted_images.cuda(), masks.cuda(), weighted_masks.cuda()\n",
    "\n",
    "    print(\"Starting backprop to input ...\")\n",
    "    for epoch in range(optim_steps):\n",
    "\n",
    "        optimizer_inpaint.zero_grad()\n",
    "\n",
    "        generated_images = generator(z_optimum)\n",
    "        discriminator_opinion = discriminator(generated_images)\n",
    "\n",
    "        c_loss = context_loss(corrupted_images, generated_images, weighted_masks)\n",
    "\n",
    "        prior_loss = torch.sum(-torch.log(discriminator_opinion))\n",
    "        inpaint_loss = c_loss #+ prior_weight*prior_loss\n",
    "        inpaint_loss.backward()\n",
    "        optimizer_inpaint.step()\n",
    "        print(\"[Epoch: {}/{}] \\t[Loss: \\t[Context: {:.3f}] \\t[Prior: {:.3f}] \\t[Inpaint: {:.3f}]]  \\r\".format(1+epoch, optim_steps, c_loss,\n",
    "                                                                           prior_loss, inpaint_loss),end=\"\")\n",
    "        if epoch % sample_interval ==0:\n",
    "            # show a sample from generator\n",
    "            num_rnd = math.floor(np.random.uniform(0, corrupted_images.shape[0]))\n",
    "            ploter(corrupted_images[num_rnd,0].detach().cpu(),\n",
    "                   generated_images[num_rnd,0].detach().cpu(),\n",
    "                   original_images[num_rnd,0].detach().cpu())\n",
    "    #blended_images = posisson_blending(masks, generated_images.detach(), corrupted_images)"
   ],
   "metadata": {
    "collapsed": false,
    "pycharm": {
     "name": "#%%\n"
    }
   }
  },
  {
   "cell_type": "code",
   "execution_count": 45,
   "outputs": [
    {
     "data": {
      "text/plain": "tensor([[[[-1.4544e-05, -1.0729e-06, -7.1526e-07, -9.5367e-07, -7.0930e-06,\n           -1.5438e-05, -4.5300e-05, -6.9678e-05, -1.0431e-05, -8.8215e-06,\n           -3.1590e-06, -1.0729e-06, -4.5896e-06, -1.5545e-04, -3.2866e-04,\n           -2.4545e-04, -6.3777e-06, -1.1921e-07,  0.0000e+00, -5.9605e-08,\n           -5.0068e-06, -3.2574e-04, -8.3849e-03, -4.1308e-02, -3.6082e-03,\n           -6.7830e-05, -3.8147e-06, -1.8299e-05],\n          [-5.9605e-08,  0.0000e+00,  0.0000e+00,  0.0000e+00,  0.0000e+00,\n            0.0000e+00, -2.9802e-07, -4.5300e-06, -5.3644e-07,  0.0000e+00,\n            0.0000e+00,  0.0000e+00,  0.0000e+00, -5.9605e-08,  0.0000e+00,\n            0.0000e+00,  0.0000e+00,  0.0000e+00,  0.0000e+00,  0.0000e+00,\n           -1.1325e-06, -2.2531e-05, -5.5778e-04, -1.5045e-03, -1.7643e-05,\n           -5.9605e-08,  0.0000e+00, -5.9605e-08],\n          [-8.9407e-07,  0.0000e+00,  0.0000e+00,  0.0000e+00, -5.9605e-08,\n           -7.7486e-07, -2.0206e-05, -4.7457e-04, -2.1160e-05, -1.1921e-07,\n            0.0000e+00,  0.0000e+00, -5.9605e-08, -1.7881e-07,  0.0000e+00,\n            0.0000e+00,  0.0000e+00,  0.0000e+00,  0.0000e+00, -5.9605e-08,\n           -1.1921e-06, -8.1062e-06, -5.3757e-04, -2.9046e-02, -4.6101e-03,\n           -8.3447e-06,  0.0000e+00, -5.9605e-08],\n          [-3.5942e-05, -1.2875e-05, -1.1921e-07,  0.0000e+00, -1.1921e-07,\n           -1.6689e-06, -1.2481e-04, -7.2289e-04, -2.4140e-05, -2.9802e-07,\n           -1.1921e-07, -1.1921e-06, -4.1723e-06, -1.6689e-06,  0.0000e+00,\n            0.0000e+00,  0.0000e+00,  0.0000e+00, -5.9605e-08, -6.5565e-07,\n           -3.9935e-06, -2.9802e-06, -1.8394e-04, -2.9503e-02, -3.3556e-02,\n           -7.9650e-04, -6.5565e-07, -2.3842e-07],\n          [-5.8539e-03, -1.4386e-03, -3.0398e-06, -1.1921e-07, -3.5763e-07,\n           -3.6955e-06, -1.3733e-04, -1.3713e-03, -6.9416e-04, -7.3856e-04,\n           -5.3561e-04, -3.8815e-04, -9.3460e-05, -4.4227e-05, -7.0333e-06,\n           -5.8413e-06, -1.1981e-05, -2.4796e-05, -1.1742e-05, -5.1320e-05,\n           -2.9272e-04, -7.8499e-05, -1.0179e-03, -2.3931e-03, -1.1593e-03,\n           -7.5459e-05, -3.5763e-07, -4.7684e-07],\n          [-5.7921e-02, -9.2077e-04, -4.7684e-07,  0.0000e+00, -1.1921e-07,\n           -1.1921e-06, -2.3627e-04, -1.4605e-02,  7.9878e-02, -4.7512e-02,\n           -3.7492e-02, -1.8122e-01, -6.4967e-02,  8.7904e-02,  1.2902e-02,\n            8.6383e-03,  3.1322e-03, -5.6514e-02,  2.4265e-02, -4.8230e-02,\n           -6.4237e-03, -2.8384e-04, -5.1081e-05, -3.0398e-06, -1.2517e-06,\n           -1.7881e-07,  0.0000e+00, -5.9605e-08],\n          [-4.0958e-02, -3.7318e-04, -5.9605e-08,  0.0000e+00, -5.9605e-08,\n           -7.3314e-06, -1.5175e-02, -6.3591e-02,  1.3263e-01,  7.5712e-02,\n            1.4287e-01,  8.6798e-02, -9.1412e-02, -1.5300e-01,  1.2789e-01,\n            1.7153e-01, -6.3677e-03, -1.4891e-02,  5.3166e-03,  4.8197e-02,\n            1.1713e-01, -2.1276e-03, -1.2219e-05, -5.9605e-08,  0.0000e+00,\n            0.0000e+00,  0.0000e+00,  0.0000e+00],\n          [-5.1307e-03, -2.9802e-06,  0.0000e+00,  0.0000e+00,  0.0000e+00,\n           -3.5882e-05, -3.2968e-02, -3.8892e-02,  9.0408e-03, -4.8173e-03,\n            1.8857e-02,  3.6194e-02,  2.5969e-02,  2.4259e-02, -4.7438e-03,\n            4.3149e-02, -4.2912e-02, -2.5347e-02, -1.4611e-02, -9.6444e-03,\n           -5.7704e-02,  2.4285e-03, -3.1590e-05,  0.0000e+00,  0.0000e+00,\n            0.0000e+00,  0.0000e+00,  0.0000e+00],\n          [-1.0687e-04,  0.0000e+00,  0.0000e+00,  0.0000e+00,  0.0000e+00,\n           -1.2839e-04,  3.0409e-02,  5.9897e-03, -4.2741e-03,  2.6657e-01,\n            1.2219e+00,  1.3552e+00,  1.4058e+00,  1.9184e+00,  1.9928e+00,\n            1.9996e+00,  1.9967e+00,  7.3504e-02,  1.4970e-02, -8.1213e-03,\n            4.7377e-02,  9.7109e-02, -9.4771e-06,  0.0000e+00,  0.0000e+00,\n            0.0000e+00,  0.0000e+00,  0.0000e+00],\n          [-2.3842e-06,  0.0000e+00,  0.0000e+00,  0.0000e+00,  0.0000e+00,\n           -2.1923e-04,  3.2063e-02,  2.0626e-02, -2.0134e-02,  7.2079e-01,\n            1.8235e+00,  1.7714e+00,  1.9367e+00,  1.9980e+00,  1.9991e+00,\n            2.0000e+00,  2.0000e+00,  1.7748e-02,  3.7388e-02,  3.8500e-02,\n            6.0790e-03, -7.4335e-02, -1.7881e-06,  0.0000e+00,  0.0000e+00,\n            0.0000e+00,  0.0000e+00,  0.0000e+00],\n          [-4.1723e-07,  0.0000e+00,  0.0000e+00,  0.0000e+00,  0.0000e+00,\n           -1.6892e-04,  3.6323e-02,  1.0386e-02,  3.1875e-02,  5.8563e-02,\n            1.1674e+00,  1.3075e+00,  1.7470e+00,  1.9729e+00,  1.9721e+00,\n            1.9985e+00,  1.9982e+00, -1.6838e-01, -4.3957e-01, -1.1586e-02,\n            6.4098e-03,  7.2682e-02, -4.1723e-07,  0.0000e+00,  0.0000e+00,\n            0.0000e+00,  0.0000e+00,  0.0000e+00],\n          [-3.5167e-06,  0.0000e+00,  0.0000e+00, -5.9605e-08, -4.5896e-06,\n           -6.4254e-05, -9.7177e-03, -4.4002e-02,  1.2180e-01,  1.1575e-02,\n            1.4490e-01,  1.1994e+00,  1.8715e+00,  1.9856e+00,  1.9754e+00,\n            1.9605e+00,  1.9606e+00,  9.1418e-02, -4.0916e-02, -1.4608e-02,\n           -2.1048e-01, -5.2384e-02, -7.1526e-07,  0.0000e+00,  0.0000e+00,\n            0.0000e+00,  0.0000e+00,  0.0000e+00],\n          [-1.4490e-04, -1.9073e-06, -3.0994e-06, -1.9372e-05, -4.4036e-04,\n           -1.9562e-04, -2.2799e-03,  7.6888e-02, -1.2735e-03,  8.6855e-02,\n            4.4389e-02,  1.0811e-01,  1.2954e+00,  1.9763e+00,  1.9573e+00,\n            1.9372e+00,  1.8788e+00, -4.0472e-02, -7.7344e-03, -4.8946e-02,\n            2.2703e-02, -2.5331e-03, -5.9605e-08,  0.0000e+00,  0.0000e+00,\n            0.0000e+00,  0.0000e+00,  0.0000e+00],\n          [-1.3125e-04, -5.9009e-06, -1.0192e-05, -5.3519e-04, -5.5622e-03,\n           -1.0021e-02, -4.9588e-02, -6.0614e-02,  1.5463e-02,  1.5542e+00,\n            1.4383e+00,  8.5199e-02,  3.0381e-02,  4.2167e-01,  1.7260e+00,\n            1.9402e+00,  1.7022e+00,  1.1654e-01, -7.5290e-03, -1.2585e-01,\n           -2.4513e-02, -6.1989e-05, -1.7881e-07,  0.0000e+00,  0.0000e+00,\n            0.0000e+00,  0.0000e+00,  0.0000e+00],\n          [-1.0669e-05, -5.9605e-08, -5.9605e-07, -9.8944e-06, -4.4882e-05,\n           -4.5294e-04, -7.4310e-03, -3.0279e-02, -1.0453e-02,  1.9713e+00,\n            1.9722e+00,  1.4631e+00,  4.6048e-03,  3.6547e-02,  1.7951e+00,\n            1.9834e+00,  1.8334e+00,  4.9772e-02,  8.4150e-02,  3.4569e-01,\n           -8.5354e-05, -5.9605e-07, -5.9605e-07,  0.0000e+00,  0.0000e+00,\n            0.0000e+00,  0.0000e+00,  0.0000e+00],\n          [-1.7881e-07,  0.0000e+00,  0.0000e+00,  0.0000e+00,  0.0000e+00,\n           -5.9605e-08, -3.6061e-05, -2.7930e-03, -5.8420e-03,  1.9895e+00,\n            1.9977e+00,  1.8613e+00,  3.2923e-02,  4.2135e-02,  1.3034e+00,\n            1.8675e+00,  1.0587e+00,  2.1168e-02,  1.0067e-01, -6.0672e-04,\n           -2.0266e-06,  0.0000e+00, -1.1921e-07,  0.0000e+00, -1.1921e-07,\n           -1.1921e-07, -2.3842e-07, -5.5432e-06],\n          [ 0.0000e+00,  0.0000e+00,  0.0000e+00,  0.0000e+00,  0.0000e+00,\n            0.0000e+00, -5.9605e-08, -2.4050e-04, -3.0180e-03,  1.9970e+00,\n            1.9956e+00,  1.9411e+00,  4.1331e-01,  4.4412e-02,  2.8337e-01,\n            2.3492e-01,  1.2178e-01, -1.3774e-01, -1.9735e-04, -4.5419e-05,\n           -4.7684e-07,  0.0000e+00,  0.0000e+00, -2.3842e-07, -2.7120e-04,\n           -2.4468e-04, -2.5827e-04, -9.8258e-04],\n          [ 0.0000e+00,  0.0000e+00,  0.0000e+00,  0.0000e+00,  0.0000e+00,\n            0.0000e+00,  0.0000e+00, -1.7285e-06, -2.1940e-04,  1.9947e+00,\n            1.8287e+00,  1.5540e+00,  1.7536e-02,  1.9782e-03,  5.5304e-03,\n            6.3937e-03,  3.7231e-02, -5.7050e-02, -8.9705e-05, -2.4438e-05,\n           -4.7684e-07,  0.0000e+00,  0.0000e+00, -4.2319e-06, -2.8149e-03,\n           -6.3660e-03, -5.7036e-04, -4.1878e-04],\n          [ 0.0000e+00,  0.0000e+00,  0.0000e+00,  0.0000e+00,  0.0000e+00,\n            0.0000e+00,  0.0000e+00, -1.7881e-07, -2.6488e-04,  1.9671e+00,\n            8.9395e-01,  1.9502e-01,  2.8246e-02,  6.7180e-01,  1.4046e+00,\n            2.4526e-01,  6.9055e-03, -5.8827e-02,  1.6493e-01, -1.0180e-03,\n           -9.1195e-06, -1.1921e-07,  0.0000e+00, -5.9605e-07, -2.5630e-05,\n           -2.7716e-05, -5.0068e-06, -1.0055e-04],\n          [ 0.0000e+00,  0.0000e+00,  0.0000e+00,  0.0000e+00,  0.0000e+00,\n            0.0000e+00,  0.0000e+00, -5.9605e-08, -2.3395e-04,  1.8166e+00,\n            1.0195e-01,  4.2463e-02,  6.1064e-01,  1.9589e+00,  1.9843e+00,\n            1.6720e+00,  6.2388e-03, -1.3717e-02,  1.1693e-01, -4.6053e-02,\n           -3.6108e-04, -1.9670e-06, -5.9605e-08, -1.1921e-07, -2.3842e-07,\n           -4.1723e-07, -2.3842e-07, -1.1206e-05],\n          [ 0.0000e+00,  0.0000e+00,  0.0000e+00,  0.0000e+00,  0.0000e+00,\n            0.0000e+00,  0.0000e+00,  0.0000e+00, -7.6634e-04, -9.5424e-02,\n            9.8829e-03,  1.1780e-02,  6.0476e-02, -3.5785e-02, -4.0171e-03,\n            2.6735e-02,  7.1353e-03, -1.2133e-02,  6.1214e-05,  1.1923e-02,\n           -3.8536e-03, -6.6757e-06, -2.3842e-07, -3.5763e-07, -2.3842e-07,\n           -1.7881e-07, -2.3842e-07, -6.9141e-06],\n          [ 0.0000e+00,  0.0000e+00,  0.0000e+00,  0.0000e+00,  0.0000e+00,\n            0.0000e+00,  0.0000e+00, -3.7551e-06,  5.6147e-02,  1.7482e-01,\n            3.8744e-02,  4.6914e-03, -4.7846e-02, -6.8464e-03, -5.9009e-02,\n           -2.7975e-02,  8.5899e-02,  5.1226e-02,  1.5481e-03, -9.5072e-02,\n           -3.1399e-02, -5.5552e-05, -1.2517e-06, -1.4305e-06, -2.9802e-07,\n           -5.9605e-08, -4.7684e-07, -2.3127e-05],\n          [ 0.0000e+00,  0.0000e+00,  0.0000e+00,  0.0000e+00,  0.0000e+00,\n            0.0000e+00,  0.0000e+00, -1.9789e-05, -2.4927e-02, -1.1284e-01,\n            1.7379e-01,  2.7624e-03, -6.6881e-03, -5.8950e-02, -8.1776e-02,\n            3.5492e-02, -2.5927e-02, -1.1856e-01,  4.9593e-02,  5.7523e-02,\n           -3.5396e-02, -1.1146e-04, -2.5690e-05, -2.3246e-06, -2.9802e-07,\n           -8.9407e-07, -4.0531e-06, -2.7424e-04],\n          [ 0.0000e+00,  0.0000e+00,  0.0000e+00,  0.0000e+00,  0.0000e+00,\n            0.0000e+00,  0.0000e+00, -1.0669e-05, -5.8386e-03, -3.9786e-02,\n           -2.1403e-01,  2.8308e-02, -1.8288e-01, -1.0371e-02,  5.0775e-03,\n            2.8680e-02,  2.0387e-01,  1.7099e-01,  1.3590e-01,  1.4338e-02,\n           -1.3131e-02, -1.2696e-04, -1.8448e-04, -2.6226e-06, -1.6093e-06,\n           -1.2875e-05, -1.5181e-04, -1.1101e-02],\n          [ 0.0000e+00,  0.0000e+00,  0.0000e+00,  0.0000e+00,  0.0000e+00,\n            0.0000e+00,  0.0000e+00, -2.2650e-06, -4.3726e-04, -1.1623e-03,\n           -3.9716e-03, -8.2156e-03,  1.1286e-01,  9.8898e-03, -6.1701e-02,\n           -4.2815e-02,  7.1740e-02,  1.7520e-02,  2.3344e-02,  5.4433e-02,\n           -7.9978e-04, -1.2040e-05, -5.8413e-06, -2.2650e-06, -1.3769e-05,\n           -1.6224e-04, -1.5763e-03, -1.2941e-03],\n          [ 0.0000e+00,  0.0000e+00,  0.0000e+00,  0.0000e+00,  0.0000e+00,\n            0.0000e+00,  0.0000e+00,  0.0000e+00, -7.7486e-07, -8.3447e-07,\n           -5.9605e-08,  0.0000e+00,  0.0000e+00, -4.7684e-07, -2.5034e-06,\n           -1.6749e-05, -1.7035e-04, -3.7217e-04, -1.6093e-05, -1.3113e-06,\n            0.0000e+00,  0.0000e+00,  0.0000e+00,  0.0000e+00, -3.1590e-06,\n           -1.9789e-05, -2.9206e-06, -2.7418e-06],\n          [ 0.0000e+00,  0.0000e+00,  0.0000e+00,  0.0000e+00,  0.0000e+00,\n            0.0000e+00,  0.0000e+00,  0.0000e+00,  0.0000e+00,  0.0000e+00,\n            0.0000e+00,  0.0000e+00,  0.0000e+00,  0.0000e+00,  0.0000e+00,\n            0.0000e+00, -5.9605e-08, -5.9605e-08,  0.0000e+00,  0.0000e+00,\n            0.0000e+00,  0.0000e+00,  0.0000e+00,  0.0000e+00,  0.0000e+00,\n            0.0000e+00,  0.0000e+00, -5.9605e-08],\n          [-2.2054e-06,  0.0000e+00,  0.0000e+00,  0.0000e+00,  0.0000e+00,\n            0.0000e+00, -5.9605e-08, -4.1723e-07, -1.1921e-07, -5.9605e-08,\n           -5.9605e-08, -2.3842e-07, -1.4901e-06, -5.0664e-06, -5.8413e-06,\n           -6.4373e-06, -1.2398e-05, -1.5259e-05, -2.6822e-05, -1.5378e-05,\n           -9.5367e-07, -5.9605e-08,  0.0000e+00, -5.9605e-08, -1.7881e-07,\n           -9.5367e-07, -4.1127e-06, -1.8859e-04]]]], device='cuda:0',\n       grad_fn=<SubBackward0>)"
     },
     "execution_count": 45,
     "metadata": {},
     "output_type": "execute_result"
    }
   ],
   "source": [
    "corrupted_images - generated_images"
   ],
   "metadata": {
    "collapsed": false,
    "pycharm": {
     "name": "#%%\n"
    }
   }
  },
  {
   "cell_type": "code",
   "execution_count": 66,
   "outputs": [],
   "source": [
    "def back_mask(corrupted_images, generated_images, threshold=0.9):\n",
    "    mask_ = corrupted_images/generated_images\n",
    "    mask = 1-mask_\n",
    "    mask [mask<threshold] = 0\n",
    "    #a = (corrupted_images - generated_images).abs()\n",
    "    mask = 1-mask\n",
    "    return mask"
   ],
   "metadata": {
    "collapsed": false,
    "pycharm": {
     "name": "#%%\n"
    }
   }
  },
  {
   "cell_type": "code",
   "execution_count": 67,
   "outputs": [
    {
     "data": {
      "text/plain": "<matplotlib.image.AxesImage at 0x1cd9ebf3760>"
     },
     "execution_count": 67,
     "metadata": {},
     "output_type": "execute_result"
    },
    {
     "data": {
      "text/plain": "<Figure size 432x288 with 1 Axes>",
      "image/png": "[encoded data removed]"
     },
     "metadata": {
      "needs_background": "light"
     },
     "output_type": "display_data"
    }
   ],
   "source": [
    "mask = back_mask(corrupted_images, generated_images)\n",
    "plt.imshow(mask[0][0].detach().cpu(), vmin=0, vmax=1)"
   ],
   "metadata": {
    "collapsed": false,
    "pycharm": {
     "name": "#%%\n"
    }
   }
  },
  {
   "cell_type": "code",
   "execution_count": 65,
   "outputs": [
    {
     "data": {
      "text/plain": "tensor([[1., 1., 1., 1., 1., 1., 1., 1., 1., 1., 1., 1., 1.],\n        [1., 1., 1., 1., 1., 1., 1., 1., 1., 1., 1., 1., 1.],\n        [1., 1., 1., 1., 1., 1., 1., 1., 1., 1., 1., 1., 1.],\n        [1., 1., 0., 0., 0., 0., 0., 0., 1., 1., 1., 1., 1.],\n        [1., 1., 0., 0., 0., 0., 0., 0., 1., 1., 1., 1., 1.],\n        [1., 1., 0., 0., 0., 0., 0., 0., 1., 1., 1., 1., 1.],\n        [1., 1., 0., 0., 0., 0., 0., 0., 1., 1., 1., 1., 1.],\n        [1., 1., 0., 0., 0., 0., 0., 0., 1., 1., 1., 1., 1.],\n        [1., 1., 0., 0., 0., 0., 0., 0., 1., 1., 1., 1., 1.],\n        [1., 1., 0., 0., 0., 0., 0., 0., 1., 1., 1., 1., 1.],\n        [1., 1., 0., 0., 0., 0., 0., 0., 1., 1., 1., 1., 1.],\n        [1., 1., 1., 1., 1., 1., 1., 1., 1., 1., 1., 1., 1.],\n        [1., 1., 1., 1., 1., 1., 1., 1., 1., 1., 1., 1., 1.]], device='cuda:0',\n       grad_fn=<SliceBackward0>)"
     },
     "execution_count": 65,
     "metadata": {},
     "output_type": "execute_result"
    }
   ],
   "source": [
    "mask[0,0,15:, 15:]"
   ],
   "metadata": {
    "collapsed": false,
    "pycharm": {
     "name": "#%%\n"
    }
   }
  }
 ],
 "metadata": {
  "kernelspec": {
   "display_name": "Python 3",
   "language": "python",
   "name": "python3"
  },
  "language_info": {
   "codemirror_mode": {
    "name": "ipython",
    "version": 2
   },
   "file_extension": ".py",
   "mimetype": "text/x-python",
   "name": "python",
   "nbconvert_exporter": "python",
   "pygments_lexer": "ipython2",
   "version": "2.7.6"
  }
 },
 "nbformat": 4,
 "nbformat_minor": 0
}