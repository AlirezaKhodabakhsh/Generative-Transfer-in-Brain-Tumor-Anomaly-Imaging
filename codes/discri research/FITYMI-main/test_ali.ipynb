{
 "cells": [
  {
   "cell_type": "code",
   "execution_count": null,
   "outputs": [],
   "source": [
    "def freeze_model(model, layers=6):\n",
    "    for i in range(layers):\n",
    "        for p in model.transformer.encoder.layer[i].parameters():\n",
    "            p.requires_grad = False"
   ],
   "metadata": {
    "collapsed": false,
    "pycharm": {
     "name": "#%%\n"
    }
   }
  },
  {
   "cell_type": "code",
   "execution_count": 61,
   "outputs": [],
   "source": [
    "def count_parameters_layers(model, layers):\n",
    "    s = []\n",
    "    for i in range(layers):\n",
    "        s += [sum(p.numel() for p in model.transformer.encoder.layer[i].parameters() if p.requires_grad)]\n",
    "\n",
    "    return sum(s)"
   ],
   "metadata": {
    "collapsed": false,
    "pycharm": {
     "name": "#%%\n"
    }
   }
  },
  {
   "cell_type": "code",
   "execution_count": null,
   "outputs": [],
   "source": [
    "def freeze_model(model, layers=6):\n",
    "    for i in range(layers):\n",
    "        for p in model.transformer.encoder.layer[i].parameters():\n",
    "            p.requires_grad = False"
   ],
   "metadata": {
    "collapsed": false,
    "pycharm": {
     "name": "#%%\n"
    }
   }
  },
  {
   "cell_type": "code",
   "execution_count": 60,
   "outputs": [
    {
     "data": {
      "text/plain": "ModuleList(\n  (0): Block(\n    (attention_norm): LayerNorm((768,), eps=1e-06, elementwise_affine=True)\n    (ffn_norm): LayerNorm((768,), eps=1e-06, elementwise_affine=True)\n    (ffn): Mlp(\n      (fc1): Linear(in_features=768, out_features=3072, bias=True)\n      (fc2): Linear(in_features=3072, out_features=768, bias=True)\n      (dropout): Dropout(p=0.1, inplace=False)\n    )\n    (attn): Attention(\n      (query): Linear(in_features=768, out_features=768, bias=True)\n      (key): Linear(in_features=768, out_features=768, bias=True)\n      (value): Linear(in_features=768, out_features=768, bias=True)\n      (out): Linear(in_features=768, out_features=768, bias=True)\n      (attn_dropout): Dropout(p=0.0, inplace=False)\n      (proj_dropout): Dropout(p=0.0, inplace=False)\n      (softmax): Softmax(dim=-1)\n    )\n  )\n  (1): Block(\n    (attention_norm): LayerNorm((768,), eps=1e-06, elementwise_affine=True)\n    (ffn_norm): LayerNorm((768,), eps=1e-06, elementwise_affine=True)\n    (ffn): Mlp(\n      (fc1): Linear(in_features=768, out_features=3072, bias=True)\n      (fc2): Linear(in_features=3072, out_features=768, bias=True)\n      (dropout): Dropout(p=0.1, inplace=False)\n    )\n    (attn): Attention(\n      (query): Linear(in_features=768, out_features=768, bias=True)\n      (key): Linear(in_features=768, out_features=768, bias=True)\n      (value): Linear(in_features=768, out_features=768, bias=True)\n      (out): Linear(in_features=768, out_features=768, bias=True)\n      (attn_dropout): Dropout(p=0.0, inplace=False)\n      (proj_dropout): Dropout(p=0.0, inplace=False)\n      (softmax): Softmax(dim=-1)\n    )\n  )\n  (2): Block(\n    (attention_norm): LayerNorm((768,), eps=1e-06, elementwise_affine=True)\n    (ffn_norm): LayerNorm((768,), eps=1e-06, elementwise_affine=True)\n    (ffn): Mlp(\n      (fc1): Linear(in_features=768, out_features=3072, bias=True)\n      (fc2): Linear(in_features=3072, out_features=768, bias=True)\n      (dropout): Dropout(p=0.1, inplace=False)\n    )\n    (attn): Attention(\n      (query): Linear(in_features=768, out_features=768, bias=True)\n      (key): Linear(in_features=768, out_features=768, bias=True)\n      (value): Linear(in_features=768, out_features=768, bias=True)\n      (out): Linear(in_features=768, out_features=768, bias=True)\n      (attn_dropout): Dropout(p=0.0, inplace=False)\n      (proj_dropout): Dropout(p=0.0, inplace=False)\n      (softmax): Softmax(dim=-1)\n    )\n  )\n  (3): Block(\n    (attention_norm): LayerNorm((768,), eps=1e-06, elementwise_affine=True)\n    (ffn_norm): LayerNorm((768,), eps=1e-06, elementwise_affine=True)\n    (ffn): Mlp(\n      (fc1): Linear(in_features=768, out_features=3072, bias=True)\n      (fc2): Linear(in_features=3072, out_features=768, bias=True)\n      (dropout): Dropout(p=0.1, inplace=False)\n    )\n    (attn): Attention(\n      (query): Linear(in_features=768, out_features=768, bias=True)\n      (key): Linear(in_features=768, out_features=768, bias=True)\n      (value): Linear(in_features=768, out_features=768, bias=True)\n      (out): Linear(in_features=768, out_features=768, bias=True)\n      (attn_dropout): Dropout(p=0.0, inplace=False)\n      (proj_dropout): Dropout(p=0.0, inplace=False)\n      (softmax): Softmax(dim=-1)\n    )\n  )\n  (4): Block(\n    (attention_norm): LayerNorm((768,), eps=1e-06, elementwise_affine=True)\n    (ffn_norm): LayerNorm((768,), eps=1e-06, elementwise_affine=True)\n    (ffn): Mlp(\n      (fc1): Linear(in_features=768, out_features=3072, bias=True)\n      (fc2): Linear(in_features=3072, out_features=768, bias=True)\n      (dropout): Dropout(p=0.1, inplace=False)\n    )\n    (attn): Attention(\n      (query): Linear(in_features=768, out_features=768, bias=True)\n      (key): Linear(in_features=768, out_features=768, bias=True)\n      (value): Linear(in_features=768, out_features=768, bias=True)\n      (out): Linear(in_features=768, out_features=768, bias=True)\n      (attn_dropout): Dropout(p=0.0, inplace=False)\n      (proj_dropout): Dropout(p=0.0, inplace=False)\n      (softmax): Softmax(dim=-1)\n    )\n  )\n  (5): Block(\n    (attention_norm): LayerNorm((768,), eps=1e-06, elementwise_affine=True)\n    (ffn_norm): LayerNorm((768,), eps=1e-06, elementwise_affine=True)\n    (ffn): Mlp(\n      (fc1): Linear(in_features=768, out_features=3072, bias=True)\n      (fc2): Linear(in_features=3072, out_features=768, bias=True)\n      (dropout): Dropout(p=0.1, inplace=False)\n    )\n    (attn): Attention(\n      (query): Linear(in_features=768, out_features=768, bias=True)\n      (key): Linear(in_features=768, out_features=768, bias=True)\n      (value): Linear(in_features=768, out_features=768, bias=True)\n      (out): Linear(in_features=768, out_features=768, bias=True)\n      (attn_dropout): Dropout(p=0.0, inplace=False)\n      (proj_dropout): Dropout(p=0.0, inplace=False)\n      (softmax): Softmax(dim=-1)\n    )\n  )\n  (6): Block(\n    (attention_norm): LayerNorm((768,), eps=1e-06, elementwise_affine=True)\n    (ffn_norm): LayerNorm((768,), eps=1e-06, elementwise_affine=True)\n    (ffn): Mlp(\n      (fc1): Linear(in_features=768, out_features=3072, bias=True)\n      (fc2): Linear(in_features=3072, out_features=768, bias=True)\n      (dropout): Dropout(p=0.1, inplace=False)\n    )\n    (attn): Attention(\n      (query): Linear(in_features=768, out_features=768, bias=True)\n      (key): Linear(in_features=768, out_features=768, bias=True)\n      (value): Linear(in_features=768, out_features=768, bias=True)\n      (out): Linear(in_features=768, out_features=768, bias=True)\n      (attn_dropout): Dropout(p=0.0, inplace=False)\n      (proj_dropout): Dropout(p=0.0, inplace=False)\n      (softmax): Softmax(dim=-1)\n    )\n  )\n  (7): Block(\n    (attention_norm): LayerNorm((768,), eps=1e-06, elementwise_affine=True)\n    (ffn_norm): LayerNorm((768,), eps=1e-06, elementwise_affine=True)\n    (ffn): Mlp(\n      (fc1): Linear(in_features=768, out_features=3072, bias=True)\n      (fc2): Linear(in_features=3072, out_features=768, bias=True)\n      (dropout): Dropout(p=0.1, inplace=False)\n    )\n    (attn): Attention(\n      (query): Linear(in_features=768, out_features=768, bias=True)\n      (key): Linear(in_features=768, out_features=768, bias=True)\n      (value): Linear(in_features=768, out_features=768, bias=True)\n      (out): Linear(in_features=768, out_features=768, bias=True)\n      (attn_dropout): Dropout(p=0.0, inplace=False)\n      (proj_dropout): Dropout(p=0.0, inplace=False)\n      (softmax): Softmax(dim=-1)\n    )\n  )\n  (8): Block(\n    (attention_norm): LayerNorm((768,), eps=1e-06, elementwise_affine=True)\n    (ffn_norm): LayerNorm((768,), eps=1e-06, elementwise_affine=True)\n    (ffn): Mlp(\n      (fc1): Linear(in_features=768, out_features=3072, bias=True)\n      (fc2): Linear(in_features=3072, out_features=768, bias=True)\n      (dropout): Dropout(p=0.1, inplace=False)\n    )\n    (attn): Attention(\n      (query): Linear(in_features=768, out_features=768, bias=True)\n      (key): Linear(in_features=768, out_features=768, bias=True)\n      (value): Linear(in_features=768, out_features=768, bias=True)\n      (out): Linear(in_features=768, out_features=768, bias=True)\n      (attn_dropout): Dropout(p=0.0, inplace=False)\n      (proj_dropout): Dropout(p=0.0, inplace=False)\n      (softmax): Softmax(dim=-1)\n    )\n  )\n  (9): Block(\n    (attention_norm): LayerNorm((768,), eps=1e-06, elementwise_affine=True)\n    (ffn_norm): LayerNorm((768,), eps=1e-06, elementwise_affine=True)\n    (ffn): Mlp(\n      (fc1): Linear(in_features=768, out_features=3072, bias=True)\n      (fc2): Linear(in_features=3072, out_features=768, bias=True)\n      (dropout): Dropout(p=0.1, inplace=False)\n    )\n    (attn): Attention(\n      (query): Linear(in_features=768, out_features=768, bias=True)\n      (key): Linear(in_features=768, out_features=768, bias=True)\n      (value): Linear(in_features=768, out_features=768, bias=True)\n      (out): Linear(in_features=768, out_features=768, bias=True)\n      (attn_dropout): Dropout(p=0.0, inplace=False)\n      (proj_dropout): Dropout(p=0.0, inplace=False)\n      (softmax): Softmax(dim=-1)\n    )\n  )\n  (10): Block(\n    (attention_norm): LayerNorm((768,), eps=1e-06, elementwise_affine=True)\n    (ffn_norm): LayerNorm((768,), eps=1e-06, elementwise_affine=True)\n    (ffn): Mlp(\n      (fc1): Linear(in_features=768, out_features=3072, bias=True)\n      (fc2): Linear(in_features=3072, out_features=768, bias=True)\n      (dropout): Dropout(p=0.1, inplace=False)\n    )\n    (attn): Attention(\n      (query): Linear(in_features=768, out_features=768, bias=True)\n      (key): Linear(in_features=768, out_features=768, bias=True)\n      (value): Linear(in_features=768, out_features=768, bias=True)\n      (out): Linear(in_features=768, out_features=768, bias=True)\n      (attn_dropout): Dropout(p=0.0, inplace=False)\n      (proj_dropout): Dropout(p=0.0, inplace=False)\n      (softmax): Softmax(dim=-1)\n    )\n  )\n  (11): Block(\n    (attention_norm): LayerNorm((768,), eps=1e-06, elementwise_affine=True)\n    (ffn_norm): LayerNorm((768,), eps=1e-06, elementwise_affine=True)\n    (ffn): Mlp(\n      (fc1): Linear(in_features=768, out_features=3072, bias=True)\n      (fc2): Linear(in_features=3072, out_features=768, bias=True)\n      (dropout): Dropout(p=0.1, inplace=False)\n    )\n    (attn): Attention(\n      (query): Linear(in_features=768, out_features=768, bias=True)\n      (key): Linear(in_features=768, out_features=768, bias=True)\n      (value): Linear(in_features=768, out_features=768, bias=True)\n      (out): Linear(in_features=768, out_features=768, bias=True)\n      (attn_dropout): Dropout(p=0.0, inplace=False)\n      (proj_dropout): Dropout(p=0.0, inplace=False)\n      (softmax): Softmax(dim=-1)\n    )\n  )\n)"
     },
     "execution_count": 60,
     "metadata": {},
     "output_type": "execute_result"
    }
   ],
   "source": [
    "VisionTransformer(config, 128, num_classes=1, zero_head=True).transformer.encoder.layer\n",
    "#.encoder.layer"
   ],
   "metadata": {
    "collapsed": false,
    "pycharm": {
     "name": "#%%\n"
    }
   }
  },
  {
   "cell_type": "code",
   "execution_count": 64,
   "outputs": [],
   "source": [
    "from models.modeling import CONFIGS, VisionTransformer\n",
    "import torch\n",
    "import torch.nn as nn\n",
    "\n",
    "class Discriminator(nn.Module):\n",
    "    def __init__(self, config = CONFIGS['ViT-B_16'], vit_image_size = 128):\n",
    "        super(Discriminator, self).__init__()\n",
    "\n",
    "        self.ViT = VisionTransformer(config, vit_image_size, num_classes=1, zero_head=True)\n",
    "\n",
    "    def forward(self, x):\n",
    "        return torch.sigmoid(\n",
    "            self.ViT(x)\n",
    "        )"
   ],
   "metadata": {
    "collapsed": false,
    "pycharm": {
     "name": "#%%\n"
    }
   }
  },
  {
   "cell_type": "code",
   "execution_count": 65,
   "outputs": [],
   "source": [
    "model = Discriminator()"
   ],
   "metadata": {
    "collapsed": false,
    "pycharm": {
     "name": "#%%\n"
    }
   }
  },
  {
   "cell_type": "code",
   "execution_count": 72,
   "outputs": [
    {
     "data": {
      "text/plain": "7087872"
     },
     "execution_count": 72,
     "metadata": {},
     "output_type": "execute_result"
    }
   ],
   "source": [
    "count_parameters_layers(model.ViT, 1)"
   ],
   "metadata": {
    "collapsed": false,
    "pycharm": {
     "name": "#%%\n"
    }
   }
  },
  {
   "cell_type": "code",
   "execution_count": null,
   "outputs": [],
   "source": [
    "filename = wget.download(\"https://storage.googleapis.com/vit_models/imagenet21k/ViT-B_16.npz\")\n",
    "discriminator.ViT.load_from(np.load(filename))"
   ],
   "metadata": {
    "collapsed": false,
    "pycharm": {
     "name": "#%%\n"
    }
   }
  },
  {
   "cell_type": "code",
   "execution_count": null,
   "outputs": [],
   "source": [
    "def freeze_model(model, layers=6):\n",
    "    for i in range(layers):\n",
    "        for p in model.transformer.encoder.layer[i].parameters():\n",
    "            p.requires_grad = False"
   ],
   "metadata": {
    "collapsed": false,
    "pycharm": {
     "name": "#%%\n"
    }
   }
  },
  {
   "cell_type": "code",
   "execution_count": null,
   "outputs": [],
   "source": [
    "freeze_model(discriminator.ViT)"
   ],
   "metadata": {
    "collapsed": false,
    "pycharm": {
     "name": "#%%\n"
    }
   }
  },
  {
   "cell_type": "code",
   "execution_count": null,
   "outputs": [],
   "source": [
    "freeze_model(discriminator.ViT)\n",
    "optimizer = SGD(model.parameters(), lr=args.learning_rate, weight_decay=args.weight_decay)\n",
    "model.train()\n",
    "loss_funct = nn.CrossEntropyLoss()\n",
    "full_train_loader = get_full_train_loader(args)\n",
    "for epoch in range(args.epochs):\n",
    "    total_num, total_loss = 0, 0\n",
    "    train_bar = tqdm(full_train_loader)\n",
    "    for (x, y) in train_bar:\n",
    "        x, y = x.to(device), y.to(device)\n",
    "        optimizer.zero_grad()\n",
    "        logits, _ = model(x)\n",
    "        loss = loss_funct(logits, y)\n",
    "        loss.backward()\n",
    "        optimizer.step()\n",
    "        total_num += x.size(0)\n",
    "        total_loss += loss.item() * x.size(0)\n",
    "        train_bar.set_description(f'Training Epoch : {epoch}, Loss: {total_loss / total_num:.6f}')"
   ],
   "metadata": {
    "collapsed": false,
    "pycharm": {
     "name": "#%%\n"
    }
   }
  }
 ],
 "metadata": {
  "kernelspec": {
   "display_name": "Python 3",
   "language": "python",
   "name": "python3"
  },
  "language_info": {
   "codemirror_mode": {
    "name": "ipython",
    "version": 2
   },
   "file_extension": ".py",
   "mimetype": "text/x-python",
   "name": "python",
   "nbconvert_exporter": "python",
   "pygments_lexer": "ipython2",
   "version": "2.7.6"
  }
 },
 "nbformat": 4,
 "nbformat_minor": 0
}