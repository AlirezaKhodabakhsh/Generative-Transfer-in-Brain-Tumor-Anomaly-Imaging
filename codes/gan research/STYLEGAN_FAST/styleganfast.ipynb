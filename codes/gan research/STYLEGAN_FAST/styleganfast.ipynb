{
 "cells": [
  {
   "cell_type": "code",
   "execution_count": 19,
   "outputs": [],
   "source": [
    "# original implementation: https://github.com/odegeasslbc/FastGAN-pytorch/blob/main/models.py\n",
    "#\n",
    "# modified by Axel Sauer for \"Projected GANs Converge Faster\"\n",
    "#\n",
    "import torch.nn as nn\n",
    "from pg_modules.blocks import (InitLayer, UpBlockBig, UpBlockBigCond, UpBlockSmall, UpBlockSmallCond, SEBlock, conv2d)\n",
    "\n",
    "\n",
    "def normalize_second_moment(x, dim=1, eps=1e-8):\n",
    "    return x * (x.square().mean(dim=dim, keepdim=True) + eps).rsqrt()\n",
    "\n",
    "\n",
    "class DummyMapping(nn.Module):\n",
    "    def __init__(self):\n",
    "        super().__init__()\n",
    "\n",
    "    def forward(self, z, c=None, **kwargs):\n",
    "        return z.unsqueeze(1)  # to fit the StyleGAN API\n",
    "\n",
    "\n",
    "class FastganSynthesis(nn.Module):\n",
    "    def __init__(self, ngf=128, z_dim=256, nc=3, img_resolution=256, lite=False):\n",
    "        super().__init__()\n",
    "        self.img_resolution = img_resolution\n",
    "        self.z_dim = z_dim\n",
    "\n",
    "        # channel multiplier\n",
    "        nfc_multi = {2: 16, 4:16, 8:8, 16:4, 32:2, 64:2, 128:1, 256:0.5,\n",
    "                     512:0.25, 1024:0.125}\n",
    "        nfc = {}\n",
    "        for k, v in nfc_multi.items():\n",
    "            nfc[k] = int(v*ngf)\n",
    "\n",
    "        # layers\n",
    "        self.init = InitLayer(z_dim, channel=nfc[2], sz=4)\n",
    "\n",
    "        UpBlock = UpBlockSmall if lite else UpBlockBig\n",
    "\n",
    "        self.feat_8   = UpBlock(nfc[4], nfc[8])\n",
    "        self.feat_16  = UpBlock(nfc[8], nfc[16])\n",
    "        self.feat_32  = UpBlock(nfc[16], nfc[32])\n",
    "        self.feat_64  = UpBlock(nfc[32], nfc[64])\n",
    "        self.feat_128 = UpBlock(nfc[64], nfc[128])\n",
    "        self.feat_256 = UpBlock(nfc[128], nfc[256])\n",
    "\n",
    "        self.se_64  = SEBlock(nfc[4], nfc[64])\n",
    "        self.se_128 = SEBlock(nfc[8], nfc[128])\n",
    "        self.se_256 = SEBlock(nfc[16], nfc[256])\n",
    "\n",
    "        self.to_big = conv2d(nfc[img_resolution], nc, 3, 1, 1, bias=True)\n",
    "\n",
    "        if img_resolution > 256:\n",
    "            self.feat_512 = UpBlock(nfc[256], nfc[512])\n",
    "            self.se_512 = SEBlock(nfc[32], nfc[512])\n",
    "        if img_resolution > 512:\n",
    "            self.feat_1024 = UpBlock(nfc[512], nfc[1024])\n",
    "\n",
    "    def forward(self, input, c=None, **kwargs):\n",
    "        # map noise to hypersphere as in \"Progressive Growing of GANS\"\n",
    "        input = normalize_second_moment(input[:, 0])\n",
    "\n",
    "        feat_4 = self.init(input)\n",
    "        feat_8 = self.feat_8(feat_4)\n",
    "        feat_16 = self.feat_16(feat_8)\n",
    "        feat_32 = self.feat_32(feat_16)\n",
    "        feat_64 = self.se_64(feat_4, self.feat_64(feat_32))\n",
    "\n",
    "        if self.img_resolution >= 64:\n",
    "            feat_last = feat_64\n",
    "\n",
    "        if self.img_resolution >= 128:\n",
    "            feat_last = self.se_128(feat_8,  self.feat_128(feat_last))\n",
    "\n",
    "        if self.img_resolution >= 256:\n",
    "            feat_last = self.se_256(feat_16, self.feat_256(feat_last))\n",
    "\n",
    "        if self.img_resolution >= 512:\n",
    "            feat_last = self.se_512(feat_32, self.feat_512(feat_last))\n",
    "\n",
    "        if self.img_resolution >= 1024:\n",
    "            feat_last = self.feat_1024(feat_last)\n",
    "\n",
    "        return self.to_big(feat_last)\n",
    "\n",
    "\n",
    "class FastganSynthesisCond(nn.Module):\n",
    "    def __init__(self, ngf=64, z_dim=256, nc=3, img_resolution=256, num_classes=1000, lite=False):\n",
    "        super().__init__()\n",
    "\n",
    "        self.z_dim = z_dim\n",
    "        nfc_multi = {2: 16, 4:16, 8:8, 16:4, 32:2, 64:2, 128:1, 256:0.5,\n",
    "                     512:0.25, 1024:0.125, 2048:0.125}\n",
    "        nfc = {}\n",
    "        for k, v in nfc_multi.items():\n",
    "            nfc[k] = int(v*ngf)\n",
    "\n",
    "        self.img_resolution = img_resolution\n",
    "\n",
    "        self.init = InitLayer(z_dim, channel=nfc[2], sz=4)\n",
    "\n",
    "        UpBlock = UpBlockSmallCond if lite else UpBlockBigCond\n",
    "\n",
    "        self.feat_8   = UpBlock(nfc[4], nfc[8], z_dim)\n",
    "        self.feat_16  = UpBlock(nfc[8], nfc[16], z_dim)\n",
    "        self.feat_32  = UpBlock(nfc[16], nfc[32], z_dim)\n",
    "        self.feat_64  = UpBlock(nfc[32], nfc[64], z_dim)\n",
    "        self.feat_128 = UpBlock(nfc[64], nfc[128], z_dim)\n",
    "        self.feat_256 = UpBlock(nfc[128], nfc[256], z_dim)\n",
    "\n",
    "        self.se_64 = SEBlock(nfc[4], nfc[64])\n",
    "        self.se_128 = SEBlock(nfc[8], nfc[128])\n",
    "        self.se_256 = SEBlock(nfc[16], nfc[256])\n",
    "\n",
    "        self.to_big = conv2d(nfc[img_resolution], nc, 3, 1, 1, bias=True)\n",
    "\n",
    "        if img_resolution > 256:\n",
    "            self.feat_512 = UpBlock(nfc[256], nfc[512])\n",
    "            self.se_512 = SEBlock(nfc[32], nfc[512])\n",
    "        if img_resolution > 512:\n",
    "            self.feat_1024 = UpBlock(nfc[512], nfc[1024])\n",
    "\n",
    "        self.embed = nn.Embedding(num_classes, z_dim)\n",
    "\n",
    "    def forward(self, input, c, update_emas=False):\n",
    "        c = self.embed(c.argmax(1))\n",
    "\n",
    "        # map noise to hypersphere as in \"Progressive Growing of GANS\"\n",
    "        input = normalize_second_moment(input[:, 0])\n",
    "\n",
    "        feat_4 = self.init(input)\n",
    "        feat_8 = self.feat_8(feat_4, c)\n",
    "        feat_16 = self.feat_16(feat_8, c)\n",
    "        feat_32 = self.feat_32(feat_16, c)\n",
    "        feat_64 = self.se_64(feat_4, self.feat_64(feat_32, c))\n",
    "        feat_128 = self.se_128(feat_8,  self.feat_128(feat_64, c))\n",
    "\n",
    "        if self.img_resolution >= 128:\n",
    "            feat_last = feat_128\n",
    "\n",
    "        if self.img_resolution >= 256:\n",
    "            feat_last = self.se_256(feat_16, self.feat_256(feat_last, c))\n",
    "\n",
    "        if self.img_resolution >= 512:\n",
    "            feat_last = self.se_512(feat_32, self.feat_512(feat_last, c))\n",
    "\n",
    "        if self.img_resolution >= 1024:\n",
    "            feat_last = self.feat_1024(feat_last, c)\n",
    "\n",
    "        return self.to_big(feat_last)\n",
    "\n",
    "\n",
    "class Generator(nn.Module):\n",
    "    def __init__(\n",
    "        self,\n",
    "        z_dim=32,\n",
    "        c_dim=0,\n",
    "        w_dim=0,\n",
    "        img_resolution=128,\n",
    "        img_channels=3,\n",
    "        ngf=16,\n",
    "        cond=0,\n",
    "        mapping_kwargs={},\n",
    "        synthesis_kwargs={},\n",
    "        **kwargs,\n",
    "    ):\n",
    "        super().__init__()\n",
    "        self.z_dim = z_dim\n",
    "        self.c_dim = c_dim\n",
    "        self.w_dim = w_dim\n",
    "        self.img_resolution = img_resolution\n",
    "        self.img_channels = img_channels\n",
    "\n",
    "        # Mapping and Synthesis Networks\n",
    "        self.mapping = DummyMapping()  # to fit the StyleGAN API\n",
    "        Synthesis = FastganSynthesisCond if cond else FastganSynthesis\n",
    "        self.synthesis = Synthesis(ngf=ngf, z_dim=z_dim, nc=img_channels, img_resolution=img_resolution, **synthesis_kwargs)\n",
    "\n",
    "    def forward(self, z, c, **kwargs):\n",
    "        w = self.mapping(z, c)\n",
    "        img = self.synthesis(w, c)\n",
    "        return img"
   ],
   "metadata": {
    "collapsed": false,
    "pycharm": {
     "name": "#%%\n"
    }
   }
  },
  {
   "cell_type": "code",
   "execution_count": 20,
   "outputs": [],
   "source": [
    "def count_parameters(model):\n",
    "    return sum(p.numel() for p in model.parameters() if p.requires_grad)"
   ],
   "metadata": {
    "collapsed": false,
    "pycharm": {
     "name": "#%%\n"
    }
   }
  },
  {
   "cell_type": "code",
   "execution_count": 21,
   "outputs": [],
   "source": [
    "import torch\n",
    "import numpy as np"
   ],
   "metadata": {
    "collapsed": false,
    "pycharm": {
     "name": "#%%\n"
    }
   }
  },
  {
   "cell_type": "code",
   "execution_count": 22,
   "outputs": [],
   "source": [
    "G = Generator()\n",
    "z = torch.FloatTensor(np.random.normal(0, 1, (100, 32)))\n",
    "img = G(z, 0)"
   ],
   "metadata": {
    "collapsed": false,
    "pycharm": {
     "name": "#%%\n"
    }
   }
  },
  {
   "cell_type": "code",
   "execution_count": 23,
   "outputs": [
    {
     "data": {
      "text/plain": "torch.Size([100, 3, 128, 128])"
     },
     "execution_count": 23,
     "metadata": {},
     "output_type": "execute_result"
    }
   ],
   "source": [
    "img.shape"
   ],
   "metadata": {
    "collapsed": false,
    "pycharm": {
     "name": "#%%\n"
    }
   }
  },
  {
   "cell_type": "code",
   "execution_count": 24,
   "outputs": [
    {
     "data": {
      "text/plain": "1654591"
     },
     "execution_count": 24,
     "metadata": {},
     "output_type": "execute_result"
    }
   ],
   "source": [
    "count_parameters(G)"
   ],
   "metadata": {
    "collapsed": false,
    "pycharm": {
     "name": "#%%\n"
    }
   }
  },
  {
   "cell_type": "code",
   "execution_count": null,
   "outputs": [],
   "source": [],
   "metadata": {
    "collapsed": false,
    "pycharm": {
     "name": "#%%\n"
    }
   }
  }
 ],
 "metadata": {
  "kernelspec": {
   "display_name": "Python 3",
   "language": "python",
   "name": "python3"
  },
  "language_info": {
   "codemirror_mode": {
    "name": "ipython",
    "version": 2
   },
   "file_extension": ".py",
   "mimetype": "text/x-python",
   "name": "python",
   "nbconvert_exporter": "python",
   "pygments_lexer": "ipython2",
   "version": "2.7.6"
  }
 },
 "nbformat": 4,
 "nbformat_minor": 0
}