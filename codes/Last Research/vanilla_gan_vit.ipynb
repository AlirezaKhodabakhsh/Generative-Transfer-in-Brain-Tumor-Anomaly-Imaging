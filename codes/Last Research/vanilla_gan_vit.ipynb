{
 "cells": [
  {
   "cell_type": "markdown",
   "source": [
    "# Lib"
   ],
   "metadata": {
    "collapsed": false,
    "id": "0a8dr1C9bkZY"
   }
  },
  {
   "cell_type": "code",
   "execution_count": 105,
   "metadata": {
    "collapsed": true,
    "pycharm": {
     "name": "#%%\n"
    },
    "id": "NiX_04DsbkZb"
   },
   "outputs": [],
   "source": [
    "from torchvision.datasets import CelebA\n",
    "import os\n",
    "import torch.nn as nn\n",
    "import glob\n",
    "import os\n",
    "import torch\n",
    "from torch.utils.data import Dataset\n",
    "import numpy as np\n",
    "import pandas as pd\n",
    "from PIL import Image\n",
    "import matplotlib.pyplot as plt\n",
    "import os\n",
    "import torch\n",
    "import math\n",
    "# main libraries\n",
    "import os\n",
    "import numpy as np\n",
    "import matplotlib.pyplot as plt\n",
    "import torch\n",
    "from torch.utils.data import DataLoader\n",
    "from torch.utils.data import SubsetRandomSampler\n",
    "from torch.nn import functional as F\n",
    "from torch import nn\n",
    "from torch import optim\n",
    "import torchvision\n",
    "from torchvision import transforms, datasets\n",
    "from torch.utils.data import Dataset\n",
    "import math\n",
    "import torchvision.transforms.functional as TF\n",
    "import cv2\n",
    "from keras.utils import image_dataset_from_directory\n",
    "from torchvision import datasets, transforms\n",
    "from torch.utils.data import random_split\n",
    "from torch.nn.parameter import Parameter\n",
    "\n",
    "from torch.nn import init\n",
    "from torchvision.utils import make_grid\n",
    "from collections import OrderedDict\n",
    "\n",
    "import torch\n",
    "from torch.utils.data import Dataset\n",
    "\n",
    "from skimage import transform\n",
    "import skimage.io as io\n",
    "import numpy as np\n",
    "from torchvision.utils import save_image\n",
    "\n",
    "from torchvision.datasets import MNIST"
   ]
  },
  {
   "cell_type": "code",
   "source": [
    "#os.chdir(\"/content/drive/MyDrive/AD Last Research\")"
   ],
   "metadata": {
    "id": "cyEmdFyubprC"
   },
   "execution_count": 106,
   "outputs": []
  },
  {
   "cell_type": "markdown",
   "source": [
    "# Helper Functions"
   ],
   "metadata": {
    "collapsed": false,
    "id": "KiePSy6YbkZh"
   }
  },
  {
   "cell_type": "code",
   "execution_count": 107,
   "outputs": [],
   "source": [
    "from sklearn.manifold import TSNE\n",
    "\n",
    "def get_2d_tsne(x):\n",
    "    tsne = TSNE(n_components=2, random_state=0,  learning_rate='auto', init='random')\n",
    "    x_2d = tsne.fit_transform(x)\n",
    "\n",
    "    return x_2d"
   ],
   "metadata": {
    "pycharm": {
     "name": "#%%\n"
    },
    "id": "bE3YQhJmbkZh"
   }
  },
  {
   "cell_type": "code",
   "execution_count": 108,
   "outputs": [],
   "source": [
    "def count_parameters(model):\n",
    "    return sum(p.numel() for p in model.parameters() if p.requires_grad)"
   ],
   "metadata": {
    "pycharm": {
     "name": "#%%\n"
    },
    "id": "AwUHhYilbkZi"
   }
  },
  {
   "cell_type": "code",
   "execution_count": 109,
   "outputs": [],
   "source": [
    "def show_tensor_images(image_tensor, num_images=25, size=(1, 128, 128)):\n",
    "    '''\n",
    "    Function for visualizing images: Given a tensor of images, number of images, and\n",
    "    size per image, plots and prints the images in a uniform grid.\n",
    "    '''\n",
    "    image_unflat = image_tensor.detach().cpu().view(-1, *size)\n",
    "    image_grid = make_grid(image_unflat[:num_images], nrow=5)\n",
    "    plt.imshow(image_grid.permute(1, 2, 0).squeeze())\n",
    "    plt.show()"
   ],
   "metadata": {
    "pycharm": {
     "name": "#%%\n"
    },
    "id": "_aDHkZhqbkZj"
   }
  },
  {
   "cell_type": "code",
   "execution_count": 110,
   "outputs": [],
   "source": [
    "def ploter(image, image_hat):\n",
    "    \"\"\"\n",
    "    (H, W)\n",
    "    \"\"\"\n",
    "    plt.figure()\n",
    "    plt.subplot(1,2,1)\n",
    "    #plt.imshow(image_hat, cmap='gray', vmin=-1, vmax=1)\n",
    "    plt.imshow(image_hat)\n",
    "    plt.tight_layout()\n",
    "    plt.title(\"Reconstruct\")\n",
    "\n",
    "    plt.subplot(1,2,2)\n",
    "    #plt.imshow(image, cmap='gray', vmin=-1, vmax=1)\n",
    "    plt.imshow(image)\n",
    "    plt.tight_layout()\n",
    "    plt.title(\"Original\")\n",
    "\n",
    "    plt.show()"
   ],
   "metadata": {
    "pycharm": {
     "name": "#%%\n"
    },
    "id": "y35JKTMRbkZl"
   }
  },
  {
   "cell_type": "markdown",
   "source": [
    "# Gen"
   ],
   "metadata": {
    "collapsed": false,
    "id": "b2Y2ZOQjbkZm"
   }
  },
  {
   "cell_type": "code",
   "execution_count": 111,
   "outputs": [],
   "source": [
    "from mymodels.generator import Generator_XL, Generator_S"
   ],
   "metadata": {
    "pycharm": {
     "name": "#%%\n"
    },
    "id": "XHJL84aQbkZm"
   }
  },
  {
   "cell_type": "code",
   "execution_count": 112,
   "outputs": [
    {
     "data": {
      "text/plain": "1051139"
     },
     "execution_count": 112,
     "metadata": {},
     "output_type": "execute_result"
    }
   ],
   "source": [
    "generator = Generator_S(features=64,\n",
    "                        img_size=32,\n",
    "                        latent_dim=100,\n",
    "                        channels=3)\n",
    "count_parameters(generator)"
   ],
   "metadata": {
    "pycharm": {
     "name": "#%%\n"
    },
    "id": "DFf46n95bkZn"
   }
  },
  {
   "cell_type": "markdown",
   "source": [
    "# Disc"
   ],
   "metadata": {
    "collapsed": false,
    "id": "6nnDUvdqbkZo"
   }
  },
  {
   "cell_type": "code",
   "execution_count": 113,
   "outputs": [],
   "source": [
    "from mymodels.discriminator import Discriminator"
   ],
   "metadata": {
    "pycharm": {
     "name": "#%%\n"
    },
    "id": "N3zI68SXbkZq"
   }
  },
  {
   "cell_type": "code",
   "execution_count": 114,
   "outputs": [],
   "source": [
    "discriminator = Discriminator(features=32, channels=3, img_size=32, optimization='gan')"
   ],
   "metadata": {
    "pycharm": {
     "name": "#%%\n"
    },
    "id": "i5V2E_9-bkZr"
   }
  },
  {
   "cell_type": "code",
   "execution_count": 115,
   "outputs": [
    {
     "data": {
      "text/plain": "390337"
     },
     "execution_count": 115,
     "metadata": {},
     "output_type": "execute_result"
    }
   ],
   "source": [
    "count_parameters(discriminator)"
   ],
   "metadata": {
    "pycharm": {
     "name": "#%%\n"
    },
    "id": "iAC1nFYLbkZr"
   }
  },
  {
   "cell_type": "markdown",
   "source": [
    "# Data"
   ],
   "metadata": {
    "collapsed": false,
    "id": "tlf2BANlbkZs"
   }
  },
  {
   "cell_type": "code",
   "execution_count": 116,
   "outputs": [],
   "source": [
    "from dataset import customdataset\n",
    "from dataset.customdataset import get_dataset_2_classes\n",
    "from torch.utils.data import ConcatDataset"
   ],
   "metadata": {
    "collapsed": false,
    "pycharm": {
     "name": "#%%\n"
    }
   }
  },
  {
   "cell_type": "code",
   "execution_count": 117,
   "outputs": [],
   "source": [
    "img_size = 32\n",
    "channels = 1\n",
    "batch_size = 10\n",
    "normal_label = 8\n",
    "ano_label = 1\n",
    "num_data = 1000"
   ],
   "metadata": {
    "collapsed": false,
    "pycharm": {
     "name": "#%%\n"
    }
   }
  },
  {
   "cell_type": "code",
   "execution_count": 118,
   "outputs": [],
   "source": [
    "# Datasets\n",
    "train_normal_ds, train_ano_ds = get_dataset_2_classes(dataset_name='mnist', train=True,\n",
    "                                                      normal_label=normal_label, ano_label=ano_label,\n",
    "                                                      img_size=img_size, channels=channels,\n",
    "                                                      data_path=\"./MNIST\", download=True)\n",
    "\n",
    "test_normal_ds, test_ano_ds = get_dataset_2_classes(dataset_name='mnist', train=False,\n",
    "                                                      normal_label=normal_label, ano_label=ano_label,\n",
    "                                                      img_size=img_size, channels=channels,\n",
    "                                                      data_path=\"./MNIST\", download=True)"
   ],
   "metadata": {
    "collapsed": false,
    "pycharm": {
     "name": "#%%\n"
    }
   }
  },
  {
   "cell_type": "code",
   "execution_count": 119,
   "outputs": [],
   "source": [
    "# Dataloader for GAN\n",
    "train_normal_loader = DataLoader(train_normal_ds, batch_size=batch_size,\n",
    "                                 sampler=SubsetRandomSampler(list(range(num_data))))"
   ],
   "metadata": {
    "collapsed": false,
    "pycharm": {
     "name": "#%%\n"
    }
   }
  },
  {
   "cell_type": "code",
   "execution_count": 120,
   "outputs": [],
   "source": [
    "# Dataloader for VIT\n",
    "train_ds = ConcatDataset([train_normal_ds, train_ano_ds])\n",
    "train_indx = SubsetRandomSampler(list(np.floor(np.random.uniform(0, len(train_ds), num_data)).astype(int)))\n",
    "train_loader = DataLoader(train_ds, batch_size=batch_size, sampler=train_indx)"
   ],
   "metadata": {
    "collapsed": false,
    "pycharm": {
     "name": "#%%\n"
    }
   }
  },
  {
   "cell_type": "markdown",
   "source": [
    "# Vanilla GAN"
   ],
   "metadata": {
    "collapsed": false,
    "id": "rpfaJkHQbkZw"
   }
  },
  {
   "cell_type": "markdown",
   "source": [
    "### Hyperparameters"
   ],
   "metadata": {
    "collapsed": false,
    "id": "Ty1LlJUibkZw"
   }
  },
  {
   "cell_type": "code",
   "execution_count": 121,
   "outputs": [],
   "source": [
    "device = 'cuda'\n",
    "latent_dim = 100"
   ],
   "metadata": {
    "pycharm": {
     "name": "#%%\n"
    },
    "id": "m6v1MIJcbkZx"
   }
  },
  {
   "cell_type": "markdown",
   "source": [
    "### All in One"
   ],
   "metadata": {
    "collapsed": false,
    "id": "9ySWrXBPbkZx"
   }
  },
  {
   "cell_type": "code",
   "execution_count": 122,
   "outputs": [],
   "source": [
    "# Nets\n",
    "generator = Generator_S(features=64,\n",
    "                        img_size=img_size,\n",
    "                        latent_dim=latent_dim,\n",
    "                        channels=channels).to(device)\n",
    "\n",
    "discriminator = Discriminator(features=16, channels=channels, img_size=img_size, optimization='gan', last_bias = False).to(device)"
   ],
   "metadata": {
    "pycharm": {
     "name": "#%%\n"
    },
    "id": "BhTFmD00bkZy"
   }
  },
  {
   "cell_type": "code",
   "execution_count": 123,
   "outputs": [],
   "source": [
    "# Loss & Optimizers\n",
    "adversarial_loss = nn.BCELoss()\n",
    "optimizer_G = optim.Adam(generator.parameters())\n",
    "optimizer_D = optim.Adam(discriminator.parameters())"
   ],
   "metadata": {
    "pycharm": {
     "name": "#%%\n"
    },
    "id": "QErVfBzxbkZy"
   }
  },
  {
   "cell_type": "markdown",
   "source": [
    "### Re-Init"
   ],
   "metadata": {
    "collapsed": false,
    "id": "NdV6R5sYbkZz"
   }
  },
  {
   "cell_type": "code",
   "execution_count": 124,
   "outputs": [],
   "source": [
    "# WRONG\n",
    "\n",
    "def weights_init_normal(m):\n",
    "    classname = m.__class__.__name__\n",
    "    if classname.find(\"Conv\") != -1:\n",
    "        nn.init.normal_(m.weight.data, 0.0, 0.02)\n",
    "    elif classname.find(\"BatchNorm2d\") != -1:\n",
    "        nn.init.normal_(m.weight.data, 1.0, 0.02)\n",
    "        nn.init.constant_(m.bias.data, 0.0)"
   ],
   "metadata": {
    "pycharm": {
     "name": "#%%\n"
    },
    "id": "yiWPFoKbbkZz"
   }
  },
  {
   "cell_type": "code",
   "execution_count": 125,
   "outputs": [],
   "source": [
    "generator = generator.apply(weights_init_normal)\n",
    "discriminator = discriminator.apply(weights_init_normal)"
   ],
   "metadata": {
    "pycharm": {
     "name": "#%%\n"
    },
    "id": "iaKQJf6-bkZz"
   }
  },
  {
   "cell_type": "markdown",
   "source": [
    "### Train"
   ],
   "metadata": {
    "collapsed": false
   }
  },
  {
   "cell_type": "code",
   "execution_count": 126,
   "outputs": [],
   "source": [
    "#save_tsne = {}\n",
    "total_G_loss = 0.0\n",
    "total_D_loss = 0.0"
   ],
   "metadata": {
    "pycharm": {
     "name": "#%%\n"
    },
    "id": "e1nC32gxbkZ0"
   }
  },
  {
   "cell_type": "code",
   "execution_count": 127,
   "outputs": [],
   "source": [
    "device = 'cuda'\n",
    "\n",
    "init_epoch = 1\n",
    "num_epochs = 1000\n",
    "sample_interval = 20"
   ],
   "metadata": {
    "pycharm": {
     "name": "#%%\n"
    },
    "id": "fxa4smLwbkZ0"
   }
  },
  {
   "cell_type": "code",
   "source": [
    "\"\"\"\n",
    "root_bp = \"./results/vanilla_gan_research/last_parameters.pt\"\n",
    "\n",
    "info = torch.load(root_bp)\n",
    "init_epoch = info['epoch']\n",
    "generator.load_state_dict(info['state_dict_G'])\n",
    "discriminator.load_state_dict(info['state_dict_D'])\n",
    "optimizer_G.load_state_dict(info['optimizer_G'])\n",
    "optimizer_D.load_state_dict(info['optimizer_D'])\n",
    "save_tsne = info['save_tsne']\n",
    "\"\"\""
   ],
   "metadata": {
    "id": "5azsWcVSfku4"
   },
   "execution_count": 100,
   "outputs": [
    {
     "data": {
      "text/plain": "'\\nroot_bp = \"./results/vanilla_gan_research/last_parameters.pt\"\\n\\ninfo = torch.load(root_bp)\\ninit_epoch = info[\\'epoch\\']\\ngenerator.load_state_dict(info[\\'state_dict_G\\'])\\ndiscriminator.load_state_dict(info[\\'state_dict_D\\'])\\noptimizer_G.load_state_dict(info[\\'optimizer_G\\'])\\noptimizer_D.load_state_dict(info[\\'optimizer_D\\'])\\nsave_tsne = info[\\'save_tsne\\']\\n'"
     },
     "execution_count": 100,
     "metadata": {},
     "output_type": "execute_result"
    }
   ]
  },
  {
   "cell_type": "code",
   "execution_count": 101,
   "outputs": [
    {
     "name": "stderr",
     "output_type": "stream",
     "text": [
      "Clipping input data to the valid range for imshow with RGB data ([0..1] for floats or [0..255] for integers).\n"
     ]
    },
    {
     "data": {
      "text/plain": "<Figure size 432x288 with 1 Axes>",
      "image/png": "[encoded data removed]"
     },
     "metadata": {
      "needs_background": "light"
     },
     "output_type": "display_data"
    },
    {
     "name": "stderr",
     "output_type": "stream",
     "text": [
      "Clipping input data to the valid range for imshow with RGB data ([0..1] for floats or [0..255] for integers).\n"
     ]
    },
    {
     "data": {
      "text/plain": "<Figure size 432x288 with 1 Axes>",
      "image/png": "[encoded data removed]"
     },
     "metadata": {
      "needs_background": "light"
     },
     "output_type": "display_data"
    },
    {
     "data": {
      "text/plain": "<Figure size 432x288 with 2 Axes>",
      "image/png": "[encoded data removed]"
     },
     "metadata": {
      "needs_background": "light"
     },
     "output_type": "display_data"
    },
    {
     "ename": "KeyboardInterrupt",
     "evalue": "",
     "output_type": "error",
     "traceback": [
      "\u001B[1;31m---------------------------------------------------------------------------\u001B[0m",
      "\u001B[1;31mKeyboardInterrupt\u001B[0m                         Traceback (most recent call last)",
      "\u001B[1;32m~\\AppData\\Local\\Temp/ipykernel_752/4045414158.py\u001B[0m in \u001B[0;36m<module>\u001B[1;34m\u001B[0m\n\u001B[0;32m     19\u001B[0m         \u001B[0mg_loss_adv\u001B[0m \u001B[1;33m=\u001B[0m \u001B[0madversarial_loss\u001B[0m\u001B[1;33m(\u001B[0m\u001B[0mdiscriminator\u001B[0m\u001B[1;33m(\u001B[0m\u001B[0mgen_imgs\u001B[0m\u001B[1;33m)\u001B[0m\u001B[1;33m,\u001B[0m \u001B[0mvalid\u001B[0m\u001B[1;33m)\u001B[0m\u001B[1;33m\u001B[0m\u001B[1;33m\u001B[0m\u001B[0m\n\u001B[0;32m     20\u001B[0m         \u001B[0mg_loss\u001B[0m \u001B[1;33m=\u001B[0m \u001B[0mg_loss_adv\u001B[0m\u001B[1;33m\u001B[0m\u001B[1;33m\u001B[0m\u001B[0m\n\u001B[1;32m---> 21\u001B[1;33m         \u001B[0mg_loss\u001B[0m\u001B[1;33m.\u001B[0m\u001B[0mbackward\u001B[0m\u001B[1;33m(\u001B[0m\u001B[1;33m)\u001B[0m\u001B[1;33m\u001B[0m\u001B[1;33m\u001B[0m\u001B[0m\n\u001B[0m\u001B[0;32m     22\u001B[0m         \u001B[0moptimizer_G\u001B[0m\u001B[1;33m.\u001B[0m\u001B[0mstep\u001B[0m\u001B[1;33m(\u001B[0m\u001B[1;33m)\u001B[0m\u001B[1;33m\u001B[0m\u001B[1;33m\u001B[0m\u001B[0m\n\u001B[0;32m     23\u001B[0m         \u001B[0mtotal_G_loss\u001B[0m \u001B[1;33m+=\u001B[0m \u001B[0mg_loss\u001B[0m\u001B[1;33m.\u001B[0m\u001B[0mcpu\u001B[0m\u001B[1;33m(\u001B[0m\u001B[1;33m)\u001B[0m\u001B[1;33m.\u001B[0m\u001B[0mdetach\u001B[0m\u001B[1;33m(\u001B[0m\u001B[1;33m)\u001B[0m\u001B[1;33m.\u001B[0m\u001B[0mnumpy\u001B[0m\u001B[1;33m(\u001B[0m\u001B[1;33m)\u001B[0m\u001B[1;33m\u001B[0m\u001B[1;33m\u001B[0m\u001B[0m\n",
      "\u001B[1;32mB:\\Anaconda_install_path\\envs\\deeplearning\\lib\\site-packages\\torch\\_tensor.py\u001B[0m in \u001B[0;36mbackward\u001B[1;34m(self, gradient, retain_graph, create_graph, inputs)\u001B[0m\n\u001B[0;32m    305\u001B[0m                 \u001B[0mcreate_graph\u001B[0m\u001B[1;33m=\u001B[0m\u001B[0mcreate_graph\u001B[0m\u001B[1;33m,\u001B[0m\u001B[1;33m\u001B[0m\u001B[1;33m\u001B[0m\u001B[0m\n\u001B[0;32m    306\u001B[0m                 inputs=inputs)\n\u001B[1;32m--> 307\u001B[1;33m         \u001B[0mtorch\u001B[0m\u001B[1;33m.\u001B[0m\u001B[0mautograd\u001B[0m\u001B[1;33m.\u001B[0m\u001B[0mbackward\u001B[0m\u001B[1;33m(\u001B[0m\u001B[0mself\u001B[0m\u001B[1;33m,\u001B[0m \u001B[0mgradient\u001B[0m\u001B[1;33m,\u001B[0m \u001B[0mretain_graph\u001B[0m\u001B[1;33m,\u001B[0m \u001B[0mcreate_graph\u001B[0m\u001B[1;33m,\u001B[0m \u001B[0minputs\u001B[0m\u001B[1;33m=\u001B[0m\u001B[0minputs\u001B[0m\u001B[1;33m)\u001B[0m\u001B[1;33m\u001B[0m\u001B[1;33m\u001B[0m\u001B[0m\n\u001B[0m\u001B[0;32m    308\u001B[0m \u001B[1;33m\u001B[0m\u001B[0m\n\u001B[0;32m    309\u001B[0m     \u001B[1;32mdef\u001B[0m \u001B[0mregister_hook\u001B[0m\u001B[1;33m(\u001B[0m\u001B[0mself\u001B[0m\u001B[1;33m,\u001B[0m \u001B[0mhook\u001B[0m\u001B[1;33m)\u001B[0m\u001B[1;33m:\u001B[0m\u001B[1;33m\u001B[0m\u001B[1;33m\u001B[0m\u001B[0m\n",
      "\u001B[1;32mB:\\Anaconda_install_path\\envs\\deeplearning\\lib\\site-packages\\torch\\autograd\\__init__.py\u001B[0m in \u001B[0;36mbackward\u001B[1;34m(tensors, grad_tensors, retain_graph, create_graph, grad_variables, inputs)\u001B[0m\n\u001B[0;32m    152\u001B[0m         \u001B[0mretain_graph\u001B[0m \u001B[1;33m=\u001B[0m \u001B[0mcreate_graph\u001B[0m\u001B[1;33m\u001B[0m\u001B[1;33m\u001B[0m\u001B[0m\n\u001B[0;32m    153\u001B[0m \u001B[1;33m\u001B[0m\u001B[0m\n\u001B[1;32m--> 154\u001B[1;33m     Variable._execution_engine.run_backward(\n\u001B[0m\u001B[0;32m    155\u001B[0m         \u001B[0mtensors\u001B[0m\u001B[1;33m,\u001B[0m \u001B[0mgrad_tensors_\u001B[0m\u001B[1;33m,\u001B[0m \u001B[0mretain_graph\u001B[0m\u001B[1;33m,\u001B[0m \u001B[0mcreate_graph\u001B[0m\u001B[1;33m,\u001B[0m \u001B[0minputs\u001B[0m\u001B[1;33m,\u001B[0m\u001B[1;33m\u001B[0m\u001B[1;33m\u001B[0m\u001B[0m\n\u001B[0;32m    156\u001B[0m         allow_unreachable=True, accumulate_grad=True)  # allow_unreachable flag\n",
      "\u001B[1;31mKeyboardInterrupt\u001B[0m: "
     ]
    }
   ],
   "source": [
    "torch.cuda.empty_cache()\n",
    "for epoch in range(init_epoch, num_epochs+1):\n",
    "    torch.cuda.empty_cache()\n",
    "    # Load Train Data ##############################################\n",
    "    for i, (real_images, _) in enumerate(train_normal_loader):\n",
    "        torch.cuda.empty_cache()\n",
    "        # Preprocessing ##############################################\n",
    "        valid = torch.FloatTensor(real_images.shape[0], 1).fill_(1.0).to(device)\n",
    "        fake = torch.FloatTensor(real_images.shape[0], 1).fill_(0.0).to(device)\n",
    "        real_images = real_images.to(device)\n",
    "        generator = generator.to(device)\n",
    "        discriminator = discriminator.to(device)\n",
    "\n",
    "        # Train Generator ########################################\n",
    "        optimizer_G.zero_grad()\n",
    "        z = torch.FloatTensor(np.random.normal(0, 1, (real_images.shape[0], latent_dim))).to(device)\n",
    "        gen_imgs = generator(z)\n",
    "\n",
    "        g_loss_adv = adversarial_loss(discriminator(gen_imgs), valid)\n",
    "        g_loss = g_loss_adv\n",
    "        g_loss.backward()\n",
    "        optimizer_G.step()\n",
    "        total_G_loss += g_loss.cpu().detach().numpy()\n",
    "\n",
    "\n",
    "        # Train Discriminator ########################################\n",
    "        optimizer_D.zero_grad()\n",
    "        discriminator_opinion_real = discriminator(real_images)\n",
    "        discriminator_opinion_fake = discriminator(gen_imgs.detach())\n",
    "        real_loss = adversarial_loss(discriminator_opinion_real, valid)\n",
    "        fake_loss = adversarial_loss(discriminator_opinion_fake, fake)\n",
    "        d_loss_adv = (real_loss + fake_loss) / 2\n",
    "        d_loss = d_loss_adv\n",
    "\n",
    "        d_loss.backward()\n",
    "        optimizer_D.step()\n",
    "        total_D_loss += d_loss.cpu().detach().numpy()\n",
    "\n",
    "\n",
    "    # Load Test Data ##############################################\n",
    "    torch.cuda.empty_cache()\n",
    "    if epoch%sample_interval==0 or epoch==1:\n",
    "      # Visualization ##############################################\n",
    "      show_tensor_images(gen_imgs, size=(channels, img_size, img_size))\n",
    "      show_tensor_images(real_images, size=(channels, img_size, img_size))\n",
    "\n",
    "      num = math.floor(np.random.uniform(0, len(real_images)))\n",
    "      ploter(real_images.detach().cpu()[num][0], gen_imgs.detach().cpu()[num][0])\n",
    "\n",
    "\n",
    "      torch.save({\"epoch\": epoch,\n",
    "      \"state_dict_G\": generator.state_dict(),\n",
    "      \"state_dict_D\": discriminator.state_dict(),\n",
    "      \"optimizer_G\": optimizer_G.state_dict(),\n",
    "      \"optimizer_D\": optimizer_D.state_dict(),\n",
    "      }, f\"./save_pts/vanillagan_epoch_{epoch}.pt\")"
   ],
   "metadata": {
    "pycharm": {
     "name": "#%%\n"
    },
    "id": "X4qn3xVcbkZ0"
   }
  },
  {
   "cell_type": "markdown",
   "source": [
    "# ViT Model"
   ],
   "metadata": {
    "collapsed": false
   }
  },
  {
   "cell_type": "markdown",
   "source": [
    "### Load best model"
   ],
   "metadata": {
    "collapsed": false
   }
  },
  {
   "cell_type": "code",
   "execution_count": 129,
   "outputs": [],
   "source": [
    "# Nets\n",
    "generator = Generator_S(features=64,\n",
    "                        img_size=img_size,\n",
    "                        latent_dim=latent_dim,\n",
    "                        channels=channels).to(device)\n",
    "\n",
    "discriminator = Discriminator(features=16, channels=channels, img_size=img_size, optimization='gan', last_bias = False).to(device)"
   ],
   "metadata": {
    "collapsed": false,
    "pycharm": {
     "name": "#%%\n"
    }
   }
  },
  {
   "cell_type": "code",
   "execution_count": 130,
   "outputs": [
    {
     "data": {
      "text/plain": "<All keys matched successfully>"
     },
     "execution_count": 130,
     "metadata": {},
     "output_type": "execute_result"
    }
   ],
   "source": [
    "epoch = 1\n",
    "root_bp = f\"./save_pts/vanillagan_epoch_{epoch}.pt\"\n",
    "\n",
    "info = torch.load(root_bp)\n",
    "init_epoch = info['epoch']\n",
    "generator.load_state_dict(info['state_dict_G'])\n",
    "discriminator.load_state_dict(info['state_dict_D'])"
   ],
   "metadata": {
    "collapsed": false,
    "pycharm": {
     "name": "#%%\n"
    }
   }
  },
  {
   "cell_type": "code",
   "execution_count": null,
   "outputs": [],
   "source": [
    "z = torch.FloatTensor(np.random.normal(0, 1, (real_images.shape[0], latent_dim))).to(device)\n",
    "gen_imgs = generator(z)\n",
    "\n",
    "# Visualization ##############################################\n",
    "show_tensor_images(gen_imgs, size=(channels, img_size, img_size))\n",
    "show_tensor_images(real_images, size=(channels, img_size, img_size))\n",
    "\n",
    "num = math.floor(np.random.uniform(0, len(real_images)))\n",
    "ploter(real_images.detach().cpu()[num][0], gen_imgs.detach().cpu()[num][0])"
   ],
   "metadata": {
    "collapsed": false,
    "pycharm": {
     "name": "#%%\n"
    }
   }
  },
  {
   "cell_type": "markdown",
   "source": [
    "### Outputs"
   ],
   "metadata": {
    "collapsed": false
   }
  },
  {
   "cell_type": "markdown",
   "source": [
    "### Dataset"
   ],
   "metadata": {
    "collapsed": false
   }
  },
  {
   "cell_type": "code",
   "execution_count": 88,
   "outputs": [],
   "source": [
    "from dataset import customdataset\n",
    "from dataset.customdataset import get_dataset_2_classes\n",
    "from torch.utils.data import ConcatDataset"
   ],
   "metadata": {
    "collapsed": false,
    "pycharm": {
     "name": "#%%\n"
    }
   }
  },
  {
   "cell_type": "code",
   "execution_count": 89,
   "outputs": [],
   "source": [
    "img_size = 32\n",
    "channels = 1\n",
    "batch_size = 16\n",
    "normal_label = 8\n",
    "ano_label = 1\n",
    "num_data = 1000"
   ],
   "metadata": {
    "collapsed": false,
    "pycharm": {
     "name": "#%%\n"
    }
   }
  },
  {
   "cell_type": "code",
   "execution_count": 90,
   "outputs": [],
   "source": [
    "# Datasets\n",
    "train_normal_ds, train_ano_ds = get_dataset_2_classes(dataset_name='mnist', train=True,\n",
    "                                                      normal_label=normal_label, ano_label=ano_label,\n",
    "                                                      img_size=img_size, channels=channels,\n",
    "                                                      data_path=\"./MNIST\", download=True)\n",
    "\n",
    "test_normal_ds, test_ano_ds = get_dataset_2_classes(dataset_name='mnist', train=False,\n",
    "                                                      normal_label=normal_label, ano_label=ano_label,\n",
    "                                                      img_size=img_size, channels=channels,\n",
    "                                                      data_path=\"./MNIST\", download=True)"
   ],
   "metadata": {
    "collapsed": false,
    "pycharm": {
     "name": "#%%\n"
    }
   }
  },
  {
   "cell_type": "code",
   "execution_count": null,
   "outputs": [],
   "source": [
    "z = torch.FloatTensor(np.random.normal(0, 1, (train_normal_ds.__len__(), latent_dim))).to(device)\n",
    "gen_imgs = generator(z)\n",
    "train_ds = customdataset.get_train_dataset_classify(normal_train_ds=train_normal_ds, gen_imgs=gen_imgs,\n",
    "                                                    img_size, channels)\n",
    "\n",
    "train_indx = SubsetRandomSampler(list(np.floor(np.random.uniform(0, len(train_ds), num_data)).astype(int)))\n",
    "train_loader = DataLoader(train_ds, batch_size=batch_size, sampler=train_indx)"
   ],
   "metadata": {
    "collapsed": false,
    "pycharm": {
     "name": "#%%\n"
    }
   }
  },
  {
   "cell_type": "code",
   "execution_count": 92,
   "outputs": [],
   "source": [
    "# Dataloader for VIT\n",
    "train_ds = ConcatDataset([train_normal_ds, train_ano_ds])\n",
    "train_indx = SubsetRandomSampler(list(np.floor(np.random.uniform(0, len(train_ds), num_data)).astype(int)))\n",
    "train_loader = DataLoader(train_ds, batch_size=batch_size, sampler=train_indx)"
   ],
   "metadata": {
    "collapsed": false,
    "pycharm": {
     "name": "#%%\n"
    }
   }
  },
  {
   "cell_type": "markdown",
   "source": [
    "### Model"
   ],
   "metadata": {
    "collapsed": false
   }
  },
  {
   "cell_type": "code",
   "execution_count": null,
   "outputs": [],
   "source": [
    "!pip install wget\n",
    "import wget\n",
    "filename = wget.download(\"https://storage.googleapis.com/vit_models/imagenet21k/ViT-B_16.npz\")"
   ],
   "metadata": {
    "collapsed": false,
    "pycharm": {
     "name": "#%%\n"
    }
   }
  },
  {
   "cell_type": "code",
   "execution_count": 104,
   "outputs": [],
   "source": [
    "from models.modeling import VisionTransformer\n",
    "import tqdm"
   ],
   "metadata": {
    "collapsed": false,
    "pycharm": {
     "name": "#%%\n"
    }
   }
  },
  {
   "cell_type": "code",
   "execution_count": null,
   "outputs": [],
   "source": [
    "model = VisionTransformer('ViT-B_16', img_size, num_classes=2, zero_head=True)\n",
    "model.load_from(np.load(filename))\n",
    "model = model.to(device)"
   ],
   "metadata": {
    "collapsed": false,
    "pycharm": {
     "name": "#%%\n"
    }
   }
  },
  {
   "cell_type": "markdown",
   "source": [
    "### Train"
   ],
   "metadata": {
    "collapsed": false
   }
  },
  {
   "cell_type": "code",
   "execution_count": 102,
   "outputs": [],
   "source": [
    "def freeze_model(model, layers=6):\n",
    "    for i in range(layers):\n",
    "        for p in model.transformer.encoder.layer[i].parameters():\n",
    "            p.requires_grad = False"
   ],
   "metadata": {
    "collapsed": false,
    "pycharm": {
     "name": "#%%\n"
    }
   }
  },
  {
   "cell_type": "code",
   "execution_count": null,
   "outputs": [],
   "source": [
    "lr = 4e-4\n",
    "weight_decay = 5e-5\n",
    "num_epochs = 30"
   ],
   "metadata": {
    "collapsed": false,
    "pycharm": {
     "name": "#%%\n"
    }
   }
  },
  {
   "cell_type": "code",
   "execution_count": null,
   "outputs": [],
   "source": [
    "freeze_model(model)\n",
    "optimizer = optim.SGD(model.parameters(), lr=lr, weight_decay=weight_decay)\n",
    "model.train()\n",
    "loss_funct = nn.CrossEntropyLoss()\n",
    "\n",
    "for epoch in range(1, num_epochs+1):\n",
    "    total_num, total_loss = 0, 0\n",
    "    train_bar = tqdm(train_loader)\n",
    "    for (x, y) in train_loader:\n",
    "        x, y = x.to(device), y.to(device)\n",
    "        optimizer.zero_grad()\n",
    "        logits, _ = model(x)\n",
    "        loss = loss_funct(logits, y)\n",
    "        loss.backward()\n",
    "        optimizer.step()\n",
    "        total_num += x.size(0)\n",
    "        total_loss += loss.item() * x.size(0)\n",
    "        train_bar.set_description(f'Training Epoch : {epoch}, Loss: {total_loss / total_num:.6f}')\n",
    "    print(\"=\" * 100)"
   ],
   "metadata": {
    "collapsed": false,
    "pycharm": {
     "name": "#%%\n"
    }
   }
  }
 ],
 "metadata": {
  "kernelspec": {
   "display_name": "Python 3",
   "language": "python",
   "name": "python3"
  },
  "language_info": {
   "codemirror_mode": {
    "name": "ipython",
    "version": 2
   },
   "file_extension": ".py",
   "mimetype": "text/x-python",
   "name": "python",
   "nbconvert_exporter": "python",
   "pygments_lexer": "ipython2",
   "version": "2.7.6"
  },
  "colab": {
   "provenance": []
  },
  "accelerator": "GPU",
  "gpuClass": "standard"
 },
 "nbformat": 4,
 "nbformat_minor": 0
}