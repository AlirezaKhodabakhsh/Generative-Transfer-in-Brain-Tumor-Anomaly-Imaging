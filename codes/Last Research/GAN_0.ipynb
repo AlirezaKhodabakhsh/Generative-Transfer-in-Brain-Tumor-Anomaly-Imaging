{
  "cells": [
    {
      "cell_type": "markdown",
      "source": [
        "# Libs"
      ],
      "metadata": {
        "collapsed": false,
        "id": "7P9Y_Bd7UCD-"
      }
    },
    {
      "cell_type": "code",
      "execution_count": null,
      "metadata": {
        "collapsed": true,
        "id": "XBMULip5UCEE"
      },
      "outputs": [],
      "source": [
        "from torchvision.datasets import CelebA\n",
        "import os\n",
        "import torch.nn as nn\n",
        "import glob\n",
        "import os\n",
        "import torch\n",
        "from torch.utils.data import Dataset\n",
        "import numpy as np\n",
        "import pandas as pd\n",
        "from PIL import Image\n",
        "import matplotlib.pyplot as plt\n",
        "import os\n",
        "import torch\n",
        "import math\n",
        "# main libraries\n",
        "import os\n",
        "import numpy as np\n",
        "import matplotlib.pyplot as plt\n",
        "import torch\n",
        "from torch.utils.data import DataLoader\n",
        "from torch.utils.data import SubsetRandomSampler\n",
        "from torch.nn import functional as F\n",
        "from torch import nn\n",
        "from torch import optim\n",
        "import torchvision\n",
        "from torchvision import transforms, datasets\n",
        "from torch.utils.data import Dataset\n",
        "import math\n",
        "import torchvision.transforms.functional as TF\n",
        "import cv2\n",
        "from keras.utils import image_dataset_from_directory\n",
        "from torchvision import datasets, transforms\n",
        "from torch.utils.data import random_split\n",
        "from torch.nn.parameter import Parameter\n",
        "\n",
        "from torch.nn import init\n",
        "from torchvision.utils import make_grid\n",
        "from collections import OrderedDict\n",
        "\n",
        "import torch\n",
        "from torch.utils.data import Dataset\n",
        "\n",
        "from skimage import transform\n",
        "import skimage.io as io\n",
        "import numpy as np\n",
        "from torchvision.utils import save_image"
      ]
    },
    {
      "cell_type": "markdown",
      "source": [
        "# Helper Functions"
      ],
      "metadata": {
        "collapsed": false,
        "id": "D1k2Tw15UCEG"
      }
    },
    {
      "cell_type": "code",
      "execution_count": null,
      "outputs": [],
      "source": [
        "def count_parameters(model):\n",
        "    return sum(p.numel() for p in model.parameters() if p.requires_grad)"
      ],
      "metadata": {
        "pycharm": {
          "name": "#%%\n"
        },
        "id": "wcYdRRHQUCEH"
      }
    },
    {
      "cell_type": "code",
      "execution_count": null,
      "outputs": [],
      "source": [
        "def show_tensor_images(image_tensor, num_images=25, size=(1, 128, 128)):\n",
        "    '''\n",
        "    Function for visualizing images: Given a tensor of images, number of images, and\n",
        "    size per image, plots and prints the images in a uniform grid.\n",
        "    '''\n",
        "    image_unflat = image_tensor.detach().cpu().view(-1, *size)\n",
        "    image_grid = make_grid(image_unflat[:num_images], nrow=5)\n",
        "    plt.imshow(image_grid.permute(1, 2, 0).squeeze())\n",
        "    plt.show()"
      ],
      "metadata": {
        "pycharm": {
          "name": "#%%\n"
        },
        "id": "nNUFJhLiUCEH"
      }
    },
    {
      "cell_type": "code",
      "execution_count": null,
      "outputs": [],
      "source": [
        "def ploter(image, image_hat):\n",
        "    \"\"\"\n",
        "    (H, W)\n",
        "    \"\"\"\n",
        "    plt.figure()\n",
        "    plt.subplot(1,2,1)\n",
        "    #plt.imshow(image_hat, cmap='gray', vmin=-1, vmax=1)\n",
        "    plt.imshow(image_hat)\n",
        "    plt.tight_layout()\n",
        "    plt.title(\"Reconstruct\")\n",
        "\n",
        "    plt.subplot(1,2,2)\n",
        "    #plt.imshow(image, cmap='gray', vmin=-1, vmax=1)\n",
        "    plt.imshow(image)\n",
        "    plt.tight_layout()\n",
        "    plt.title(\"Original\")\n",
        "\n",
        "    plt.show()"
      ],
      "metadata": {
        "pycharm": {
          "name": "#%%\n"
        },
        "id": "WC9z3KekUCEI"
      }
    },
    {
      "cell_type": "markdown",
      "source": [
        "# Generator"
      ],
      "metadata": {
        "collapsed": false,
        "id": "YkgDmbJqUCEJ"
      }
    },
    {
      "cell_type": "code",
      "source": [
        "os.chdir(\"/content/drive/MyDrive/AD Last Research\")"
      ],
      "metadata": {
        "id": "Tkjs9RjYUTnK"
      },
      "execution_count": null,
      "outputs": []
    },
    {
      "cell_type": "code",
      "execution_count": null,
      "outputs": [],
      "source": [
        "from mymodels.generator import Generator_XL, Generator_S"
      ],
      "metadata": {
        "pycharm": {
          "name": "#%%\n"
        },
        "id": "iNz3TJtEUCEK"
      }
    },
    {
      "cell_type": "code",
      "execution_count": null,
      "outputs": [],
      "source": [
        "generator = Generator_XL(\n",
        "    z_dim=100,\n",
        "    c_dim=0,\n",
        "    w_dim=0,\n",
        "    img_resolution=32,\n",
        "    img_channels=3,\n",
        "    ngf=8,\n",
        "    cond=0,\n",
        ")"
      ],
      "metadata": {
        "pycharm": {
          "name": "#%%\n"
        },
        "id": "yNWrZ2aRUCEL"
      }
    },
    {
      "cell_type": "code",
      "execution_count": null,
      "outputs": [],
      "source": [
        "count_parameters(generator)"
      ],
      "metadata": {
        "pycharm": {
          "name": "#%%\n"
        },
        "id": "ldmFtWygUCEM"
      }
    },
    {
      "cell_type": "code",
      "source": [
        "generator = Generator_S(features=64,\n",
        "                        img_size=32,\n",
        "                        latent_dim=100,\n",
        "                        channels=3)\n",
        "count_parameters(generator)"
      ],
      "metadata": {
        "id": "nEcjOwiQiO0r"
      },
      "execution_count": null,
      "outputs": []
    },
    {
      "cell_type": "markdown",
      "source": [
        "# Discriminator"
      ],
      "metadata": {
        "collapsed": false,
        "id": "m1VKrXYJUCEN"
      }
    },
    {
      "cell_type": "code",
      "execution_count": null,
      "outputs": [],
      "source": [
        "from mymodels.discriminator import Discriminator"
      ],
      "metadata": {
        "pycharm": {
          "name": "#%%\n"
        },
        "id": "Sk6jezsIUCEO"
      }
    },
    {
      "cell_type": "code",
      "execution_count": null,
      "outputs": [],
      "source": [
        "discriminator = Discriminator(features=32, channels=3, img_size=32, optimization='gan')"
      ],
      "metadata": {
        "pycharm": {
          "name": "#%%\n"
        },
        "id": "TXGV9IvWUCEP"
      }
    },
    {
      "cell_type": "code",
      "execution_count": null,
      "outputs": [],
      "source": [
        "count_parameters(discriminator)"
      ],
      "metadata": {
        "pycharm": {
          "name": "#%%\n"
        },
        "id": "JfzvGclwUCEP"
      }
    },
    {
      "cell_type": "markdown",
      "source": [
        "# Dataset"
      ],
      "metadata": {
        "collapsed": false,
        "id": "pwyDbgaHUCEQ"
      }
    },
    {
      "cell_type": "code",
      "execution_count": null,
      "outputs": [],
      "source": [
        "from dataset import customdataset"
      ],
      "metadata": {
        "pycharm": {
          "name": "#%%\n"
        },
        "id": "LRENxiGZUCEQ"
      }
    },
    {
      "cell_type": "code",
      "execution_count": null,
      "outputs": [],
      "source": [
        "img_size = 32\n",
        "channels = 3\n",
        "batch_size = 10"
      ],
      "metadata": {
        "pycharm": {
          "name": "#%%\n"
        },
        "id": "M6qgLjedUCEQ"
      }
    },
    {
      "cell_type": "code",
      "execution_count": null,
      "outputs": [],
      "source": [
        "# Train\n",
        "train_dataset_normal = customdataset.get_nomral_dataset_train(dataset_name='cifar10',\n",
        "                                                               label=0,\n",
        "                                                               img_size=img_size, channels=channels,\n",
        "                                                               data_path='./CIFAR10', download=True)\n",
        "\n",
        "train_indx = SubsetRandomSampler(list(range(1000)))\n",
        "train_loader_normal = DataLoader(train_dataset_normal, batch_size=batch_size, sampler=train_indx)"
      ],
      "metadata": {
        "pycharm": {
          "name": "#%%\n"
        },
        "id": "lsADKZxdUCER"
      }
    },
    {
      "cell_type": "code",
      "execution_count": null,
      "outputs": [],
      "source": [
        "# Test\n",
        "test_dataset_normal,  test_dataset_ano = customdataset.get_dataset_test(dataset_name='cifar10',\n",
        "                                                                         normal_label=0, ano_label=2,\n",
        "                                                                         img_size=img_size, channels=channels,\n",
        "                                                                         data_path=\"./CIFAR10\", download=True)\n",
        "\n",
        "test_loader_normal = DataLoader(test_dataset_normal, batch_size = test_dataset_normal.__len__())\n",
        "test_loader_ano = DataLoader(test_dataset_ano, batch_size = test_dataset_ano.__len__())"
      ],
      "metadata": {
        "pycharm": {
          "name": "#%%\n"
        },
        "id": "dt7erJZSUCER"
      }
    },
    {
      "cell_type": "markdown",
      "source": [
        "# Vanilla GAN"
      ],
      "metadata": {
        "collapsed": false,
        "id": "ikwF54kbUCES"
      }
    },
    {
      "cell_type": "markdown",
      "source": [
        "### Hyperparameters"
      ],
      "metadata": {
        "collapsed": false,
        "id": "JyIkMbjnUCES"
      }
    },
    {
      "cell_type": "code",
      "execution_count": null,
      "outputs": [],
      "source": [
        "device = 'cuda'\n",
        "latent_dim = 100"
      ],
      "metadata": {
        "pycharm": {
          "name": "#%%\n"
        },
        "id": "L6UZN14bUCES"
      }
    },
    {
      "cell_type": "markdown",
      "source": [
        "### All in One"
      ],
      "metadata": {
        "collapsed": false,
        "id": "JnRnpNXZUCES"
      }
    },
    {
      "cell_type": "code",
      "execution_count": null,
      "outputs": [],
      "source": [
        "# Nets\n",
        "generator = Generator_XL(\n",
        "    z_dim=latent_dim,\n",
        "    c_dim=0,\n",
        "    w_dim=0,\n",
        "    img_resolution=img_size,\n",
        "    img_channels=channels,\n",
        "    ngf=8,\n",
        "    cond=0,\n",
        ").to(device)\n",
        "\n",
        "generator = Generator_S(features=64,\n",
        "                        img_size=img_size,\n",
        "                        latent_dim=latent_dim,\n",
        "                        channels=channels).to(device)\n",
        "\n",
        "discriminator = Discriminator(features=16, channels=channels, img_size=img_size, optimization='gan').to(device)"
      ],
      "metadata": {
        "pycharm": {
          "name": "#%%\n"
        },
        "id": "7F6TwPKSUCET"
      }
    },
    {
      "cell_type": "code",
      "execution_count": null,
      "outputs": [],
      "source": [
        "# Loss & Optimizers\n",
        "adversarial_loss = nn.BCELoss()\n",
        "optimizer_G = optim.Adam(generator.parameters())\n",
        "optimizer_D = optim.Adam(discriminator.parameters())"
      ],
      "metadata": {
        "pycharm": {
          "name": "#%%\n"
        },
        "id": "RE-nxbjsUCET"
      }
    },
    {
      "cell_type": "markdown",
      "source": [
        "### Re-Init"
      ],
      "metadata": {
        "collapsed": false,
        "id": "JTnvatr6UCET"
      }
    },
    {
      "cell_type": "code",
      "execution_count": null,
      "outputs": [],
      "source": [
        "# WRONG\n",
        "\n",
        "def weights_init_normal(m):\n",
        "    classname = m.__class__.__name__\n",
        "    if classname.find(\"Conv\") != -1:\n",
        "        nn.init.normal_(m.weight.data, 0.0, 0.02)\n",
        "    elif classname.find(\"BatchNorm2d\") != -1:\n",
        "        nn.init.normal_(m.weight.data, 1.0, 0.02)\n",
        "        nn.init.constant_(m.bias.data, 0.0)"
      ],
      "metadata": {
        "pycharm": {
          "name": "#%%\n"
        },
        "id": "vdEgKfZIUCET"
      }
    },
    {
      "cell_type": "code",
      "execution_count": null,
      "outputs": [],
      "source": [
        "generator = generator.apply(weights_init_normal)\n",
        "discriminator = discriminator.apply(weights_init_normal)"
      ],
      "metadata": {
        "pycharm": {
          "name": "#%%\n"
        },
        "id": "0sHkkawjUCET"
      }
    },
    {
      "cell_type": "markdown",
      "source": [
        "### Train"
      ],
      "metadata": {
        "collapsed": false,
        "id": "tOPrbSnqUCEU"
      }
    },
    {
      "cell_type": "code",
      "execution_count": null,
      "outputs": [],
      "source": [
        "device = 'cuda'\n",
        "generator = generator.to(device)\n",
        "discriminator = discriminator.to(device)\n",
        "\n",
        "init_epoch = 0\n",
        "num_epochs = 100\n",
        "sample_interval = 10"
      ],
      "metadata": {
        "pycharm": {
          "name": "#%%\n"
        },
        "id": "aZ1OSSafUCEU"
      }
    },
    {
      "cell_type": "code",
      "execution_count": null,
      "outputs": [],
      "source": [
        "for epoch in range(init_epoch, num_epochs+1):\n",
        "    total_G_loss = 0.0\n",
        "    total_D_loss = 0.0\n",
        "\n",
        "\n",
        "    torch.cuda.empty_cache()\n",
        "    #del variables\n",
        "    #gc.collect()\n",
        "    #torch.cuda.memory_summary(device=None, abbreviated=False)\n",
        "\n",
        "    # Load Train Data ##############################################\n",
        "    for i, (real_images, _) in enumerate(train_loader_normal):\n",
        "\n",
        "        torch.cuda.empty_cache()\n",
        "        #del variables\n",
        "        #gc.collect()\n",
        "        #torch.cuda.memory_summary(device=None, abbreviated=False)\n",
        "\n",
        "        \n",
        "        # Preprocessing ##############################################\n",
        "        valid = torch.FloatTensor(real_images.shape[0], 1).fill_(1.0).to(device)\n",
        "        fake = torch.FloatTensor(real_images.shape[0], 1).fill_(0.0).to(device)\n",
        "        real_images = real_images.to(device)\n",
        "\n",
        "        # MRI\n",
        "        #real_images = real_images.unsqueeze(1).cuda()\n",
        "        #real_images = real_images.repeat(1,3,1,1)\n",
        "\n",
        "\n",
        "        # Train Generator ########################################\n",
        "        optimizer_G.zero_grad()\n",
        "        z = torch.FloatTensor(np.random.normal(0, 1, (real_images.shape[0], latent_dim))).to(device)\n",
        "        gen_imgs = generator(z)\n",
        "\n",
        "        g_loss_adv = adversarial_loss(discriminator(gen_imgs), valid)\n",
        "        g_loss = g_loss_adv\n",
        "        g_loss.backward()\n",
        "        optimizer_G.step()\n",
        "        total_G_loss += g_loss.cpu().detach().numpy()\n",
        "\n",
        "\n",
        "\n",
        "        # Train Discriminator ########################################\n",
        "        optimizer_D.zero_grad()\n",
        "        discriminator_opinion_real = discriminator(real_images)\n",
        "        discriminator_opinion_fake = discriminator(gen_imgs.detach())\n",
        "        real_loss = adversarial_loss(discriminator_opinion_real, valid)\n",
        "        fake_loss = adversarial_loss(discriminator_opinion_fake, fake)\n",
        "        d_loss_adv = (real_loss + fake_loss) / 2\n",
        "        #d_loss_layers = discriminator_layers_loss(discriminator, vgg, real_images, lamda = 0.0)\n",
        "        d_loss = d_loss_adv #+ d_loss_layers\n",
        "          \n",
        "        d_loss.backward()\n",
        "        optimizer_D.step()\n",
        "        total_D_loss += d_loss.cpu().detach().numpy()\n",
        "\n",
        "\n",
        "    # Load Test Data ##############################################\n",
        "    if epoch % sample_interval ==0:\n",
        "        for _, (real_images, _) in enumerate(test_loader_normal):\n",
        "            # Preprocessing ##############################################\n",
        "            real_images = real_images.to(device)\n",
        "\n",
        "            # MRI Image\n",
        "            #real_images = real_images.unsqueeze(1).cuda()\n",
        "            #real_images = real_images.repeat(1,3,1,1)\n",
        "\n",
        "            z = torch.FloatTensor(np.random.normal(0, 1, (real_images.shape[0], latent_dim))).to(device)\n",
        "            gen_imgs = generator(z)\n",
        "\n",
        "            # Visualization ##############################################\n",
        "            show_tensor_images(gen_imgs, size=(channels, img_size, img_size))\n",
        "            show_tensor_images(real_images, size=(channels, img_size, img_size))\n",
        "\n",
        "            num = math.floor(np.random.uniform(0, len(test_loader_normal)))\n",
        "            ploter(real_images.detach().cpu()[num][0], gen_imgs.detach().cpu()[num][0])\n",
        "\n",
        "\n",
        "        # Losses ##############################################\n",
        "        print(\"[Epoch {}/{}] \\t[D loss: {:.3f}] \\t[G loss: {:.3f}]\".format(epoch, num_epochs, total_D_loss, total_G_loss))\n",
        "        # SAVE ##############################################\n",
        "        \"\"\"\n",
        "        torch.save({\"epoch\": epoch,\n",
        "        \"state_dict_G\": generator.state_dict(),\n",
        "        \"state_dict_D\": discriminator.state_dict(),\n",
        "        \"optimizer_G\": optimizer_G.state_dict(),\n",
        "        \"optimizer_D\": optimizer_D.state_dict()\n",
        "        }, root_save + f\"/epoch_{epoch}.pt\")\n",
        "        \"\"\""
      ],
      "metadata": {
        "pycharm": {
          "name": "#%%\n"
        },
        "id": "FI1hQ997UCEU"
      }
    },
    {
      "cell_type": "code",
      "source": [
        "from sklearn.manifold import TSNE\n",
        "\n",
        "def get_2d_tsne(x):\n",
        "    tsne = TSNE(n_components=2, random_state=0,  learning_rate='auto', init='random')\n",
        "    x_2d = tsne.fit_transform(x)\n",
        "\n",
        "    return x_2d"
      ],
      "metadata": {
        "id": "fE7D464Udk_y"
      },
      "execution_count": null,
      "outputs": []
    },
    {
      "cell_type": "code",
      "source": [
        "device = 'cpu'\n",
        "generator = generator.to(device)\n",
        "discriminator = discriminator.to(device)\n",
        "\n",
        "for _, (real_images, _) in enumerate(test_loader_normal):\n",
        "    # Preprocessing ##############################################\n",
        "    real_images = real_images.to(device)\n",
        "\n",
        "    # MRI Image\n",
        "    #real_images = real_images.unsqueeze(1).cuda()\n",
        "    #real_images = real_images.repeat(1,3,1,1)\n",
        "\n",
        "    z = torch.FloatTensor(np.random.normal(0, 1, (real_images.shape[0], latent_dim))).to(device)\n",
        "    gen_imgs = generator(z)"
      ],
      "metadata": {
        "id": "lVuJZYUveypM"
      },
      "execution_count": null,
      "outputs": []
    },
    {
      "cell_type": "code",
      "source": [
        "d1 = discriminator.conv_layers(real_images.cpu()).flatten(1)\n",
        "d2 = discriminator.conv_layers(gen_imgs.cpu()).flatten(1)"
      ],
      "metadata": {
        "id": "zG0Ht_2ndwFa"
      },
      "execution_count": null,
      "outputs": []
    },
    {
      "cell_type": "code",
      "source": [
        "d1_2d = get_2d_tsne(d1.detach().cpu())\n",
        "d2_2d = get_2d_tsne(d2.detach().cpu())"
      ],
      "metadata": {
        "id": "eXQurgaeeMuK"
      },
      "execution_count": null,
      "outputs": []
    },
    {
      "cell_type": "code",
      "source": [
        "plt.figure()\n",
        "plt.scatter(d1_2d[:,0], d1_2d[:,1], label='Real')\n",
        "plt.scatter(d2_2d[:,0], d2_2d[:,1], label='Fake')\n",
        "plt.legend()"
      ],
      "metadata": {
        "id": "3-6z7WWZeeJ0"
      },
      "execution_count": null,
      "outputs": []
    },
    {
      "cell_type": "markdown",
      "source": [
        "# WGAN"
      ],
      "metadata": {
        "collapsed": false,
        "id": "RdJF-HzbUCEV"
      }
    },
    {
      "cell_type": "markdown",
      "source": [
        "### GP"
      ],
      "metadata": {
        "collapsed": false,
        "id": "0OnW6i5EUCEV"
      }
    },
    {
      "cell_type": "code",
      "execution_count": null,
      "outputs": [],
      "source": [
        "from torch.autograd import Variable\n",
        "Tensor = torch.cuda.FloatTensor # Cuda\n",
        "import torch.autograd as autograd\n",
        "\n",
        "def compute_gradient_penalty(discriminator, real_samples, fake_samples):\n",
        "    \"\"\"Calculates the gradient penalty loss for WGAN GP\"\"\"\n",
        "    # Random weight term for interpolation between real and fake samples\n",
        "    alpha = Tensor(np.random.random((real_samples.size(0), 1, 1, 1))).to(real_samples.device)\n",
        "    # Get random interpolation between real and fake samples\n",
        "    interpolates = (alpha * real_samples + ((1 - alpha) * fake_samples)).requires_grad_(True)\n",
        "    d_interpolates = discriminator(interpolates)\n",
        "    fake = Variable(Tensor(real_samples.shape[0], 1).fill_(1.0), requires_grad=False)\n",
        "    # Get gradient w.r.t. interpolates\n",
        "    gradients = autograd.grad(\n",
        "        outputs=d_interpolates,\n",
        "        inputs=interpolates,\n",
        "        grad_outputs=fake,\n",
        "        create_graph=True,\n",
        "        retain_graph=True,\n",
        "        only_inputs=True,\n",
        "    )[0]\n",
        "    gradients = gradients.view(gradients.size(0), -1)\n",
        "    gradient_penalty = ((gradients.norm(2, dim=1) - 1) ** 2).mean()\n",
        "    return gradient_penalty"
      ],
      "metadata": {
        "pycharm": {
          "name": "#%%\n"
        },
        "id": "k8MAJd9UUCEV"
      }
    },
    {
      "cell_type": "markdown",
      "source": [
        "### Hyperparameters"
      ],
      "metadata": {
        "collapsed": false,
        "id": "FPyN2cgLUCEV"
      }
    },
    {
      "cell_type": "code",
      "execution_count": null,
      "outputs": [],
      "source": [
        "device = 'cuda'\n",
        "latent_dim = 100\n",
        "n_critic = 5\n",
        "lambda_gp =10\n",
        "lr = 2e-3"
      ],
      "metadata": {
        "pycharm": {
          "name": "#%%\n"
        },
        "id": "iUX0ZXyvUCEW"
      }
    },
    {
      "cell_type": "markdown",
      "source": [
        "### All in One"
      ],
      "metadata": {
        "collapsed": false,
        "id": "NdffjxBuUCEW"
      }
    },
    {
      "cell_type": "code",
      "execution_count": null,
      "outputs": [],
      "source": [
        "# Nets\n",
        "generator = Generator(\n",
        "    z_dim=latent_dim,\n",
        "    c_dim=0,\n",
        "    w_dim=0,\n",
        "    img_resolution=img_size,\n",
        "    img_channels=channels,\n",
        "    ngf=8,\n",
        "    cond=0,\n",
        ").to(device)\n",
        "\n",
        "discriminator = Discriminator(features=32, channels=channels, img_size=img_size, optimization='wgan').to(device)"
      ],
      "metadata": {
        "pycharm": {
          "name": "#%%\n"
        },
        "id": "9Xi63vyoUCEW"
      }
    },
    {
      "cell_type": "code",
      "execution_count": null,
      "outputs": [],
      "source": [
        "# Loss & Optimizers\n",
        "optimizer_G = optim.Adam(generator.parameters(), lr=lr,  betas=(0.5, 0.999))\n",
        "optimizer_D = optim.Adam(discriminator.parameters(), lr=lr,  betas=(0.5, 0.999))"
      ],
      "metadata": {
        "pycharm": {
          "name": "#%%\n"
        },
        "id": "2LniI8HNUCEX"
      }
    },
    {
      "cell_type": "markdown",
      "source": [
        "### Re-Init"
      ],
      "metadata": {
        "collapsed": false,
        "id": "2acKtvXoUCEX"
      }
    },
    {
      "cell_type": "code",
      "execution_count": null,
      "outputs": [],
      "source": [
        "def weights_init_normal(m):\n",
        "    classname = m.__class__.__name__\n",
        "    if classname.find(\"Conv\") != -1:\n",
        "        nn.init.normal_(m.weight.data, 0.0, 0.02)\n",
        "    elif classname.find(\"BatchNorm2d\") != -1:\n",
        "        nn.init.normal_(m.weight.data, 1.0, 0.02)\n",
        "        nn.init.constant_(m.bias.data, 0.0)"
      ],
      "metadata": {
        "pycharm": {
          "name": "#%%\n"
        },
        "id": "7w4gVG8ZUCEX"
      }
    },
    {
      "cell_type": "code",
      "execution_count": null,
      "outputs": [],
      "source": [
        "generator = generator.apply(weights_init_normal)\n",
        "discriminator = discriminator.apply(weights_init_normal)"
      ],
      "metadata": {
        "pycharm": {
          "name": "#%%\n"
        },
        "id": "Z9ucsaYvUCEX"
      }
    },
    {
      "cell_type": "markdown",
      "source": [
        "### Train"
      ],
      "metadata": {
        "collapsed": false,
        "id": "YlkRI6KnUCEY"
      }
    },
    {
      "cell_type": "code",
      "execution_count": null,
      "outputs": [],
      "source": [
        "init_epoch = 0\n",
        "num_epochs = 100\n",
        "sample_interval = 10"
      ],
      "metadata": {
        "pycharm": {
          "name": "#%%\n"
        },
        "id": "ASJkh44_UCEY"
      }
    },
    {
      "cell_type": "code",
      "execution_count": null,
      "outputs": [],
      "source": [
        "for epoch in range(init_epoch, num_epochs+1):\n",
        "    total_G_loss = 0.0\n",
        "    total_D_loss = 0.0\n",
        "\n",
        "    # Load Train Data ##############################################\n",
        "    for i, (real_images, _) in enumerate(train_loader_normal):\n",
        "\n",
        "        # Preprocessing ##############################################\n",
        "        real_images = real_images.to(device)\n",
        "        # MRI\n",
        "        #real_images = real_images.unsqueeze(1).cuda()\n",
        "        #real_images = real_images.repeat(1,3,1,1)\n",
        "\n",
        "\n",
        "        # Train Discriminator ########################################\n",
        "        z = torch.FloatTensor(np.random.normal(0, 1, (real_images.shape[0], latent_dim))).to(device)\n",
        "        gen_imgs = generator(z)\n",
        "        optimizer_D.zero_grad()\n",
        "        real_validity = discriminator(real_images)\n",
        "        fake_validity = discriminator(gen_imgs.detach())\n",
        "        gradient_penalty = compute_gradient_penalty(discriminator, real_images, gen_imgs.detach())\n",
        "        d_loss_adv = -torch.mean(real_validity) + torch.mean(fake_validity) + lambda_gp * gradient_penalty\n",
        "\n",
        "\n",
        "        #d_loss_layers = discriminator_layers_loss(discriminator, vgg, real_images, lamda = 0.01)\n",
        "\n",
        "\n",
        "        d_loss = d_loss_adv #+ d_loss_layers\n",
        "        d_loss.backward()\n",
        "        optimizer_D.step()\n",
        "        total_D_loss += d_loss.cpu().detach().numpy()\n",
        "\n",
        "\n",
        "\n",
        "        # Train Generator ########################################\n",
        "        if i % n_critic == 0:\n",
        "            z = torch.FloatTensor(np.random.normal(0, 1, (real_images.shape[0], latent_dim))).to(device)\n",
        "            gen_imgs = generator(z)\n",
        "\n",
        "            optimizer_G.zero_grad()\n",
        "            fake_validity = discriminator(gen_imgs)\n",
        "            g_loss_adv = -torch.mean(fake_validity)\n",
        "\n",
        "            g_loss = g_loss_adv\n",
        "            g_loss.backward()\n",
        "            optimizer_G.step()\n",
        "            total_G_loss += g_loss.cpu().detach().numpy()\n",
        "\n",
        "\n",
        "    # Load Test Data ##############################################\n",
        "    if epoch % sample_interval ==0:\n",
        "        for _, (real_images, _) in enumerate(test_loader_normal):\n",
        "            # Preprocessing ##############################################\n",
        "            real_images = real_images.to(device)\n",
        "            # MRI Image\n",
        "            #real_images = real_images.unsqueeze(1).cuda()\n",
        "            #real_images = real_images.repeat(1,3,1,1)\n",
        "\n",
        "            z = torch.FloatTensor(np.random.normal(0, 1, (real_images.shape[0], latent_dim))).to(device)\n",
        "            gen_imgs = generator(z)\n",
        "\n",
        "            # Visualization ##############################################\n",
        "            show_tensor_images(gen_imgs, size=(channels, img_size, img_size))\n",
        "            show_tensor_images(real_images, size=(channels, img_size, img_size))\n",
        "            num = math.floor(np.random.uniform(0, len(test_loader_normal)))\n",
        "            ploter(real_images.detach().cpu()[num][0], gen_imgs.detach().cpu()[num][0])\n",
        "\n",
        "\n",
        "        # Losses ##############################################\n",
        "        print(\"[Epoch {}/{}] \\t[D loss: {:.3f}] \\t[G loss: {:.3f}]\".format(epoch, num_epochs, total_D_loss, total_G_loss))\n",
        "        # SAVE ##############################################\n",
        "        \"\"\"\n",
        "        torch.save({\"epoch\": epoch,\n",
        "        \"state_dict_G\": generator.state_dict(),\n",
        "        \"state_dict_D\": discriminator.state_dict(),\n",
        "        \"optimizer_G\": optimizer_G.state_dict(),\n",
        "        \"optimizer_D\": optimizer_D.state_dict()\n",
        "        }, root_save + f\"/epoch_{epoch}.pt\")\n",
        "        \"\"\""
      ],
      "metadata": {
        "pycharm": {
          "name": "#%%\n"
        },
        "id": "N_ANc3MEUCEY"
      }
    },
    {
      "cell_type": "code",
      "execution_count": null,
      "outputs": [],
      "source": [],
      "metadata": {
        "pycharm": {
          "name": "#%%\n"
        },
        "id": "qYZGDThZUCEZ"
      }
    }
  ],
  "metadata": {
    "kernelspec": {
      "display_name": "Python 3",
      "language": "python",
      "name": "python3"
    },
    "language_info": {
      "codemirror_mode": {
        "name": "ipython",
        "version": 2
      },
      "file_extension": ".py",
      "mimetype": "text/x-python",
      "name": "python",
      "nbconvert_exporter": "python",
      "pygments_lexer": "ipython2",
      "version": "2.7.6"
    },
    "colab": {
      "provenance": []
    },
    "accelerator": "GPU",
    "gpuClass": "standard"
  },
  "nbformat": 4,
  "nbformat_minor": 0
}