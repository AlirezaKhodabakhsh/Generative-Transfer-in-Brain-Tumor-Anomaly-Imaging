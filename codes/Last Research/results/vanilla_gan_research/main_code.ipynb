{
  "cells": [
    {
      "cell_type": "markdown",
      "source": [
        "# Lib"
      ],
      "metadata": {
        "collapsed": false,
        "id": "0a8dr1C9bkZY"
      }
    },
    {
      "cell_type": "code",
      "execution_count": null,
      "metadata": {
        "collapsed": true,
        "pycharm": {
          "name": "#%%\n"
        },
        "id": "NiX_04DsbkZb"
      },
      "outputs": [],
      "source": [
        "from torchvision.datasets import CelebA\n",
        "import os\n",
        "import torch.nn as nn\n",
        "import glob\n",
        "import os\n",
        "import torch\n",
        "from torch.utils.data import Dataset\n",
        "import numpy as np\n",
        "import pandas as pd\n",
        "from PIL import Image\n",
        "import matplotlib.pyplot as plt\n",
        "import os\n",
        "import torch\n",
        "import math\n",
        "# main libraries\n",
        "import os\n",
        "import numpy as np\n",
        "import matplotlib.pyplot as plt\n",
        "import torch\n",
        "from torch.utils.data import DataLoader\n",
        "from torch.utils.data import SubsetRandomSampler\n",
        "from torch.nn import functional as F\n",
        "from torch import nn\n",
        "from torch import optim\n",
        "import torchvision\n",
        "from torchvision import transforms, datasets\n",
        "from torch.utils.data import Dataset\n",
        "import math\n",
        "import torchvision.transforms.functional as TF\n",
        "import cv2\n",
        "from keras.utils import image_dataset_from_directory\n",
        "from torchvision import datasets, transforms\n",
        "from torch.utils.data import random_split\n",
        "from torch.nn.parameter import Parameter\n",
        "\n",
        "from torch.nn import init\n",
        "from torchvision.utils import make_grid\n",
        "from collections import OrderedDict\n",
        "\n",
        "import torch\n",
        "from torch.utils.data import Dataset\n",
        "\n",
        "from skimage import transform\n",
        "import skimage.io as io\n",
        "import numpy as np\n",
        "from torchvision.utils import save_image\n",
        "\n",
        "from torchvision.datasets import MNIST"
      ]
    },
    {
      "cell_type": "code",
      "source": [
        "os.chdir(\"/content/drive/MyDrive/AD Last Research\")"
      ],
      "metadata": {
        "id": "cyEmdFyubprC"
      },
      "execution_count": null,
      "outputs": []
    },
    {
      "cell_type": "markdown",
      "source": [
        "# Helper Functions"
      ],
      "metadata": {
        "collapsed": false,
        "id": "KiePSy6YbkZh"
      }
    },
    {
      "cell_type": "code",
      "execution_count": null,
      "outputs": [],
      "source": [
        "from sklearn.manifold import TSNE\n",
        "\n",
        "def get_2d_tsne(x):\n",
        "    tsne = TSNE(n_components=2, random_state=0,  learning_rate='auto', init='random')\n",
        "    x_2d = tsne.fit_transform(x)\n",
        "\n",
        "    return x_2d"
      ],
      "metadata": {
        "pycharm": {
          "name": "#%%\n"
        },
        "id": "bE3YQhJmbkZh"
      }
    },
    {
      "cell_type": "code",
      "execution_count": null,
      "outputs": [],
      "source": [
        "def count_parameters(model):\n",
        "    return sum(p.numel() for p in model.parameters() if p.requires_grad)"
      ],
      "metadata": {
        "pycharm": {
          "name": "#%%\n"
        },
        "id": "AwUHhYilbkZi"
      }
    },
    {
      "cell_type": "code",
      "execution_count": null,
      "outputs": [],
      "source": [
        "def show_tensor_images(image_tensor, num_images=25, size=(1, 128, 128)):\n",
        "    '''\n",
        "    Function for visualizing images: Given a tensor of images, number of images, and\n",
        "    size per image, plots and prints the images in a uniform grid.\n",
        "    '''\n",
        "    image_unflat = image_tensor.detach().cpu().view(-1, *size)\n",
        "    image_grid = make_grid(image_unflat[:num_images], nrow=5)\n",
        "    plt.imshow(image_grid.permute(1, 2, 0).squeeze())\n",
        "    plt.show()"
      ],
      "metadata": {
        "pycharm": {
          "name": "#%%\n"
        },
        "id": "_aDHkZhqbkZj"
      }
    },
    {
      "cell_type": "code",
      "execution_count": null,
      "outputs": [],
      "source": [
        "def ploter(image, image_hat):\n",
        "    \"\"\"\n",
        "    (H, W)\n",
        "    \"\"\"\n",
        "    plt.figure()\n",
        "    plt.subplot(1,2,1)\n",
        "    #plt.imshow(image_hat, cmap='gray', vmin=-1, vmax=1)\n",
        "    plt.imshow(image_hat)\n",
        "    plt.tight_layout()\n",
        "    plt.title(\"Reconstruct\")\n",
        "\n",
        "    plt.subplot(1,2,2)\n",
        "    #plt.imshow(image, cmap='gray', vmin=-1, vmax=1)\n",
        "    plt.imshow(image)\n",
        "    plt.tight_layout()\n",
        "    plt.title(\"Original\")\n",
        "\n",
        "    plt.show()"
      ],
      "metadata": {
        "pycharm": {
          "name": "#%%\n"
        },
        "id": "y35JKTMRbkZl"
      }
    },
    {
      "cell_type": "markdown",
      "source": [
        "# Gen"
      ],
      "metadata": {
        "collapsed": false,
        "id": "b2Y2ZOQjbkZm"
      }
    },
    {
      "cell_type": "code",
      "execution_count": null,
      "outputs": [],
      "source": [
        "from mymodels.generator import Generator_XL, Generator_S"
      ],
      "metadata": {
        "pycharm": {
          "name": "#%%\n"
        },
        "id": "XHJL84aQbkZm"
      }
    },
    {
      "cell_type": "code",
      "execution_count": null,
      "outputs": [],
      "source": [
        "generator = Generator_S(features=64,\n",
        "                        img_size=32,\n",
        "                        latent_dim=100,\n",
        "                        channels=3)\n",
        "count_parameters(generator)"
      ],
      "metadata": {
        "pycharm": {
          "name": "#%%\n"
        },
        "id": "DFf46n95bkZn"
      }
    },
    {
      "cell_type": "markdown",
      "source": [
        "# Disc"
      ],
      "metadata": {
        "collapsed": false,
        "id": "6nnDUvdqbkZo"
      }
    },
    {
      "cell_type": "code",
      "execution_count": null,
      "outputs": [],
      "source": [
        "from mymodels.discriminator import Discriminator"
      ],
      "metadata": {
        "pycharm": {
          "name": "#%%\n"
        },
        "id": "N3zI68SXbkZq"
      }
    },
    {
      "cell_type": "code",
      "execution_count": null,
      "outputs": [],
      "source": [
        "discriminator = Discriminator(features=32, channels=3, img_size=32, optimization='gan')"
      ],
      "metadata": {
        "pycharm": {
          "name": "#%%\n"
        },
        "id": "i5V2E_9-bkZr"
      }
    },
    {
      "cell_type": "code",
      "execution_count": null,
      "outputs": [],
      "source": [
        "count_parameters(discriminator)"
      ],
      "metadata": {
        "pycharm": {
          "name": "#%%\n"
        },
        "id": "iAC1nFYLbkZr"
      }
    },
    {
      "cell_type": "markdown",
      "source": [
        "# Data"
      ],
      "metadata": {
        "collapsed": false,
        "id": "tlf2BANlbkZs"
      }
    },
    {
      "cell_type": "code",
      "execution_count": null,
      "outputs": [],
      "source": [
        "from dataset import customdataset"
      ],
      "metadata": {
        "pycharm": {
          "name": "#%%\n"
        },
        "id": "c8n6lbSYbkZt"
      }
    },
    {
      "cell_type": "code",
      "execution_count": null,
      "outputs": [],
      "source": [
        "img_size = 32\n",
        "channels = 1\n",
        "batch_size = 10\n",
        "\n",
        "num_data = 1000\n",
        "\n",
        "normal_label = 8\n",
        "ano_label = 2"
      ],
      "metadata": {
        "pycharm": {
          "name": "#%%\n"
        },
        "id": "YrOgLm_CbkZu"
      }
    },
    {
      "cell_type": "code",
      "execution_count": null,
      "outputs": [],
      "source": [
        "# Train\n",
        "train_dataset_normal = customdataset.get_nomral_dataset_train(dataset_name='mnist',\n",
        "                                                               label=normal_label,\n",
        "                                                               img_size=img_size, channels=channels,\n",
        "                                                               data_path='./MNIST', download=True)\n",
        "\n",
        "train_indx = SubsetRandomSampler(list(range(num_data)))\n",
        "train_loader_normal = DataLoader(train_dataset_normal, batch_size=batch_size, sampler=train_indx)"
      ],
      "metadata": {
        "pycharm": {
          "name": "#%%\n"
        },
        "id": "Fh7aL1jybkZu"
      }
    },
    {
      "cell_type": "code",
      "execution_count": null,
      "outputs": [],
      "source": [
        "# Test\n",
        "test_dataset_normal,  test_dataset_ano = customdataset.get_dataset_test(dataset_name='mnist',\n",
        "                                                                         normal_label=normal_label, ano_label=ano_label,\n",
        "                                                                         img_size=img_size, channels=channels,\n",
        "                                                                         data_path=\"./MNIST\", download=True)\n",
        "\n",
        "test_loader_normal = DataLoader(test_dataset_normal, batch_size = test_dataset_normal.__len__())\n",
        "test_loader_ano = DataLoader(test_dataset_ano, batch_size = test_dataset_ano.__len__())"
      ],
      "metadata": {
        "pycharm": {
          "name": "#%%\n"
        },
        "id": "W79heQNAbkZv"
      }
    },
    {
      "cell_type": "markdown",
      "source": [
        "# Vanilla GAN"
      ],
      "metadata": {
        "collapsed": false,
        "id": "rpfaJkHQbkZw"
      }
    },
    {
      "cell_type": "markdown",
      "source": [
        "### Hyperparameters"
      ],
      "metadata": {
        "collapsed": false,
        "id": "Ty1LlJUibkZw"
      }
    },
    {
      "cell_type": "code",
      "execution_count": null,
      "outputs": [],
      "source": [
        "device = 'cuda'\n",
        "latent_dim = 100"
      ],
      "metadata": {
        "pycharm": {
          "name": "#%%\n"
        },
        "id": "m6v1MIJcbkZx"
      }
    },
    {
      "cell_type": "markdown",
      "source": [
        "### All in One"
      ],
      "metadata": {
        "collapsed": false,
        "id": "9ySWrXBPbkZx"
      }
    },
    {
      "cell_type": "code",
      "execution_count": null,
      "outputs": [],
      "source": [
        "# Nets\n",
        "generator = Generator_S(features=64,\n",
        "                        img_size=img_size,\n",
        "                        latent_dim=latent_dim,\n",
        "                        channels=channels).to(device)\n",
        "\n",
        "discriminator = Discriminator(features=16, channels=channels, img_size=img_size, optimization='gan', last_bias = False).to(device)"
      ],
      "metadata": {
        "pycharm": {
          "name": "#%%\n"
        },
        "id": "BhTFmD00bkZy"
      }
    },
    {
      "cell_type": "code",
      "execution_count": null,
      "outputs": [],
      "source": [
        "# Loss & Optimizers\n",
        "adversarial_loss = nn.BCELoss()\n",
        "optimizer_G = optim.Adam(generator.parameters())\n",
        "optimizer_D = optim.Adam(discriminator.parameters())"
      ],
      "metadata": {
        "pycharm": {
          "name": "#%%\n"
        },
        "id": "QErVfBzxbkZy"
      }
    },
    {
      "cell_type": "markdown",
      "source": [
        "### Re-Init"
      ],
      "metadata": {
        "collapsed": false,
        "id": "NdV6R5sYbkZz"
      }
    },
    {
      "cell_type": "code",
      "execution_count": null,
      "outputs": [],
      "source": [
        "# WRONG\n",
        "\n",
        "def weights_init_normal(m):\n",
        "    classname = m.__class__.__name__\n",
        "    if classname.find(\"Conv\") != -1:\n",
        "        nn.init.normal_(m.weight.data, 0.0, 0.02)\n",
        "    elif classname.find(\"BatchNorm2d\") != -1:\n",
        "        nn.init.normal_(m.weight.data, 1.0, 0.02)\n",
        "        nn.init.constant_(m.bias.data, 0.0)"
      ],
      "metadata": {
        "pycharm": {
          "name": "#%%\n"
        },
        "id": "yiWPFoKbbkZz"
      }
    },
    {
      "cell_type": "code",
      "execution_count": null,
      "outputs": [],
      "source": [
        "generator = generator.apply(weights_init_normal)\n",
        "discriminator = discriminator.apply(weights_init_normal)"
      ],
      "metadata": {
        "pycharm": {
          "name": "#%%\n"
        },
        "id": "iaKQJf6-bkZz"
      }
    },
    {
      "cell_type": "markdown",
      "source": [
        "### Train"
      ],
      "metadata": {
        "collapsed": false,
        "id": "aycUDI8TbkZz"
      }
    },
    {
      "cell_type": "code",
      "execution_count": null,
      "outputs": [],
      "source": [
        "save_tsne = {}\n",
        "total_G_loss = 0.0\n",
        "total_D_loss = 0.0"
      ],
      "metadata": {
        "pycharm": {
          "name": "#%%\n"
        },
        "id": "e1nC32gxbkZ0"
      }
    },
    {
      "cell_type": "code",
      "execution_count": null,
      "outputs": [],
      "source": [
        "device = 'cuda'\n",
        "\n",
        "init_epoch = 615\n",
        "num_epochs = 1000\n",
        "sample_interval = 25"
      ],
      "metadata": {
        "pycharm": {
          "name": "#%%\n"
        },
        "id": "fxa4smLwbkZ0"
      }
    },
    {
      "cell_type": "code",
      "source": [
        "\"\"\"\n",
        "info = torch.load(\"LAST_Vanilla_GAN.pt\")\n",
        "init_epoch = info['epoch']\n",
        "generator.load_state_dict(info['state_dict_G'])\n",
        "discriminator.load_state_dict(info['state_dict_D'])\n",
        "optimizer_G.load_state_dict(info['optimizer_G'])\n",
        "optimizer_D.load_state_dict(info['optimizer_D'])\n",
        "save_tsne = info['save_tsne']\n",
        "\"\"\""
      ],
      "metadata": {
        "id": "5azsWcVSfku4"
      },
      "execution_count": null,
      "outputs": []
    },
    {
      "cell_type": "code",
      "source": [
        "for _, (real_images, _) in enumerate(test_loader_normal):\n",
        "  real_images_test = real_images.cpu()"
      ],
      "metadata": {
        "id": "QyVJvda8fKuq"
      },
      "execution_count": null,
      "outputs": []
    },
    {
      "cell_type": "code",
      "execution_count": null,
      "outputs": [],
      "source": [
        "torch.cuda.empty_cache()\n",
        "for epoch in range(init_epoch, num_epochs+1):\n",
        "    torch.cuda.empty_cache()\n",
        "    # Load Train Data ##############################################\n",
        "    for i, (real_images, _) in enumerate(train_loader_normal):\n",
        "        torch.cuda.empty_cache()\n",
        "        # Preprocessing ##############################################\n",
        "        valid = torch.FloatTensor(real_images.shape[0], 1).fill_(1.0).to(device)\n",
        "        fake = torch.FloatTensor(real_images.shape[0], 1).fill_(0.0).to(device)\n",
        "        real_images = real_images.to(device)\n",
        "        generator = generator.to(device)\n",
        "        discriminator = discriminator.to(device)\n",
        "\n",
        "        # Train Generator ########################################\n",
        "        optimizer_G.zero_grad()\n",
        "        z = torch.FloatTensor(np.random.normal(0, 1, (real_images.shape[0], latent_dim))).to(device)\n",
        "        gen_imgs = generator(z)\n",
        "\n",
        "        g_loss_adv = adversarial_loss(discriminator(gen_imgs), valid)\n",
        "        g_loss = g_loss_adv\n",
        "        g_loss.backward()\n",
        "        optimizer_G.step()\n",
        "        total_G_loss += g_loss.cpu().detach().numpy()\n",
        "\n",
        "\n",
        "        # Train Discriminator ########################################\n",
        "        optimizer_D.zero_grad()\n",
        "        discriminator_opinion_real = discriminator(real_images)\n",
        "        discriminator_opinion_fake = discriminator(gen_imgs.detach())\n",
        "        real_loss = adversarial_loss(discriminator_opinion_real, valid)\n",
        "        fake_loss = adversarial_loss(discriminator_opinion_fake, fake)\n",
        "        d_loss_adv = (real_loss + fake_loss) / 2\n",
        "        d_loss = d_loss_adv\n",
        "\n",
        "        d_loss.backward()\n",
        "        optimizer_D.step()\n",
        "        total_D_loss += d_loss.cpu().detach().numpy()\n",
        "\n",
        "\n",
        "    # Load Test Data ##############################################\n",
        "    torch.cuda.empty_cache()\n",
        "    if epoch % sample_interval ==0:\n",
        "      z = torch.FloatTensor(np.random.normal(0, 1, (real_images_test.shape[0], latent_dim))).cpu()\n",
        "      generator = generator.cpu()\n",
        "      gen_imgs = generator(z)\n",
        "\n",
        "      # Visualization ##############################################\n",
        "      show_tensor_images(gen_imgs, size=(channels, img_size, img_size))\n",
        "      show_tensor_images(real_images_test, size=(channels, img_size, img_size))\n",
        "\n",
        "      num = math.floor(np.random.uniform(0, len(test_loader_normal)))\n",
        "      ploter(real_images_test.detach().cpu()[num][0], gen_imgs.detach().cpu()[num][0])\n",
        "\n",
        "      # Save t-SNE ##############################################\n",
        "      discriminator = discriminator.cpu()\n",
        "      features_real = discriminator.conv_layers(real_images_test).flatten(1)\n",
        "      features_fake = discriminator.conv_layers(gen_imgs).flatten(1)\n",
        "\n",
        "      features_real_2D = get_2d_tsne(features_real.detach().cpu())\n",
        "      features_fake_2D = get_2d_tsne(features_fake.detach().cpu())\n",
        "\n",
        "      save_tsne[f'epoch_{epoch}'] = {'features_real_2D' : features_real_2D, 'features_fake_2D' : features_fake_2D}\n",
        "\n",
        "      torch.save({\"epoch\": epoch,\n",
        "      \"state_dict_G\": generator.state_dict(),\n",
        "      \"state_dict_D\": discriminator.state_dict(),\n",
        "      \"optimizer_G\": optimizer_G.state_dict(),\n",
        "      \"optimizer_D\": optimizer_D.state_dict(),\n",
        "      \"save_tsne\" : save_tsne\n",
        "      }, \"LAST_Vanilla_GAN.pt\")\n",
        "\n",
        "        # Losses ##############################################\n",
        "        # SAVE ##############################################"
      ],
      "metadata": {
        "pycharm": {
          "name": "#%%\n"
        },
        "id": "X4qn3xVcbkZ0"
      }
    },
    {
      "cell_type": "code",
      "source": [
        "epoch"
      ],
      "metadata": {
        "id": "U2ysdN6Tvpdb"
      },
      "execution_count": null,
      "outputs": []
    },
    {
      "cell_type": "code",
      "source": [
        "for i in range(0, 615, 25):\n",
        "  features_real_2D = save_tsne[f'epoch_{i}']['features_real_2D']\n",
        "  features_fake_2d = save_tsne[f'epoch_{i}']['features_fake_2D']\n",
        "  plt.figure()\n",
        "  plt.scatter(features_real_2D[:, 0], features_real_2D[:, 1], label='Real')\n",
        "  plt.scatter(features_fake_2D[:, 0], features_fake_2D[:, 1], label='Fake')\n",
        "  plt.legend()\n",
        "  plt.savefig(f\"./tsne_s/epoch_{i}.png\")"
      ],
      "metadata": {
        "id": "QUNgrLdglLtY"
      },
      "execution_count": null,
      "outputs": []
    },
    {
      "cell_type": "code",
      "execution_count": null,
      "outputs": [],
      "source": [
        "\"\"\"\n",
        "features_real = discriminator.conv_layers(real_images).flatten(1)\n",
        "features_fake = discriminator.conv_layers(gen_imgs).flatten(1)\n",
        "\n",
        "features_real_2D = get_2d_tsne(features_real.detach().cpu())\n",
        "features_fake_2D = get_2d_tsne(features_fake.detach().cpu())\n",
        "\"\"\"\n",
        "\n",
        "plt.figure()\n",
        "plt.scatter(features_real_2D[:, 0], features_real_2D[:, 1], label='Real')\n",
        "plt.scatter(features_fake_2D[:, 0], features_fake_2D[:, 1], label='Fake')\n",
        "plt.legend()\n",
        "plt.savefig(f\"./tsne_s_epoch_{i}.png\")"
      ],
      "metadata": {
        "pycharm": {
          "name": "#%%\n"
        },
        "id": "JGPCDLKVbkZ1"
      }
    },
    {
      "cell_type": "code",
      "source": [],
      "metadata": {
        "id": "s5XmE5Volxm4"
      },
      "execution_count": null,
      "outputs": []
    },
    {
      "cell_type": "code",
      "source": [
        "from google.colab import drive\n",
        "drive.mount('/content/drive')"
      ],
      "metadata": {
        "id": "Ut12QPZpmwYD"
      },
      "execution_count": null,
      "outputs": []
    }
  ],
  "metadata": {
    "kernelspec": {
      "display_name": "Python 3",
      "language": "python",
      "name": "python3"
    },
    "language_info": {
      "codemirror_mode": {
        "name": "ipython",
        "version": 2
      },
      "file_extension": ".py",
      "mimetype": "text/x-python",
      "name": "python",
      "nbconvert_exporter": "python",
      "pygments_lexer": "ipython2",
      "version": "2.7.6"
    },
    "colab": {
      "provenance": []
    },
    "accelerator": "GPU",
    "gpuClass": "standard"
  },
  "nbformat": 4,
  "nbformat_minor": 0
}